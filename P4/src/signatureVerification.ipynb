{
 "cells": [
  {
   "cell_type": "code",
   "execution_count": 14,
   "metadata": {},
   "outputs": [],
   "source": [
    "import hashlib\n",
    "import sympy\n",
    "import binascii\n",
    "from ecpy.curves import Curve, Point"
   ]
  },
  {
   "attachments": {},
   "cell_type": "markdown",
   "metadata": {},
   "source": [
    "Leemos la Clave publica de la conexion a partir del fichero obtenido"
   ]
  },
  {
   "cell_type": "code",
   "execution_count": 15,
   "metadata": {},
   "outputs": [],
   "source": [
    "with open('../files/Wikipedia/subjectPublicKey.txt') as f:\n",
    "    subjectPK = f.read()\n",
    "Qx = int(subjectPK[2:66], 16)\n",
    "Qy = int(subjectPK[66:], 16)"
   ]
  },
  {
   "attachments": {},
   "cell_type": "markdown",
   "metadata": {},
   "source": [
    "Cojemos los demas datos de la curva"
   ]
  },
  {
   "cell_type": "code",
   "execution_count": 16,
   "metadata": {},
   "outputs": [],
   "source": [
    "cv = Curve.get_curve('secp256r1')\n",
    "p = cv.field\n",
    "n = cv.order\n",
    "q = n\n",
    "b = cv.b\n",
    "P = cv.generator\n",
    "\n",
    "Q = Point(Qx, Qy, cv)\n"
   ]
  },
  {
   "attachments": {},
   "cell_type": "markdown",
   "metadata": {},
   "source": [
    "#### a) Comprovamos que el orden de la curva es un numero primo"
   ]
  },
  {
   "cell_type": "code",
   "execution_count": 24,
   "metadata": {},
   "outputs": [
    {
     "data": {
      "text/plain": [
       "True"
      ]
     },
     "execution_count": 24,
     "metadata": {},
     "output_type": "execute_result"
    }
   ],
   "source": [
    "sympy.isprime(p)"
   ]
  },
  {
   "attachments": {},
   "cell_type": "markdown",
   "metadata": {},
   "source": [
    "#### b) comprovamos que el punto de wikipedia es realmente un punto de la curva"
   ]
  },
  {
   "cell_type": "code",
   "execution_count": 26,
   "metadata": {},
   "outputs": [
    {
     "data": {
      "text/plain": [
       "True"
      ]
     },
     "execution_count": 26,
     "metadata": {},
     "output_type": "execute_result"
    }
   ],
   "source": [
    "r = Q.y ** 2\n",
    "r2 = Q.x ** 3 - 3 * Q.x + b\n",
    "r % p == r2 % p"
   ]
  },
  {
   "attachments": {},
   "cell_type": "markdown",
   "metadata": {},
   "source": [
    "#### c) Comprovamos el orden del punto"
   ]
  },
  {
   "cell_type": "code",
   "execution_count": 19,
   "metadata": {},
   "outputs": [
    {
     "data": {
      "text/plain": [
       "True"
      ]
     },
     "execution_count": 19,
     "metadata": {},
     "output_type": "execute_result"
    }
   ],
   "source": [
    "(Q * q).is_infinity"
   ]
  },
  {
   "attachments": {},
   "cell_type": "markdown",
   "metadata": {},
   "source": [
    "vemos que el orden del punto es q"
   ]
  },
  {
   "attachments": {},
   "cell_type": "markdown",
   "metadata": {},
   "source": [
    "#### d) Comprovamos que la firma es correcta"
   ]
  },
  {
   "attachments": {},
   "cell_type": "markdown",
   "metadata": {},
   "source": [
    "Leemos la firma de wikipedia del fichero extraido de la conexion"
   ]
  },
  {
   "cell_type": "code",
   "execution_count": 20,
   "metadata": {},
   "outputs": [],
   "source": [
    "with open('../files/Wikipedia/signature.txt') as f:\n",
    "    signature = f.read()\n",
    "f1 = int(signature[8:74], 16)\n",
    "f2 = int(signature[78:], 16)"
   ]
  },
  {
   "cell_type": "code",
   "execution_count": 21,
   "metadata": {},
   "outputs": [],
   "source": [
    "pre = \"20\"*64 + \"544C5320312E332C2073657276657220436572746966696361746556657269667900\".lower()"
   ]
  },
  {
   "attachments": {},
   "cell_type": "markdown",
   "metadata": {},
   "source": [
    "Leemos el mensage original del fichero extraido de la conexion"
   ]
  },
  {
   "cell_type": "code",
   "execution_count": 22,
   "metadata": {},
   "outputs": [],
   "source": [
    "with open('../files/Wikipedia/mensaje.bin', 'rb') as f:\n",
    "    message = f.read()\n",
    "    h = hashlib.sha384(message).hexdigest()\n",
    "    m = int(hashlib.sha256(bytes(bytearray.fromhex(pre + h))).hexdigest(), 16)"
   ]
  },
  {
   "attachments": {},
   "cell_type": "markdown",
   "metadata": {},
   "source": [
    "Comprovamos que la firma es valida"
   ]
  },
  {
   "cell_type": "code",
   "execution_count": 27,
   "metadata": {},
   "outputs": [
    {
     "name": "stdout",
     "output_type": "stream",
     "text": [
      "Firma correcta\n"
     ]
    }
   ],
   "source": [
    "f2i = sympy.mod_inverse(f2, n)\n",
    "w1 = (m * f2i) % n\n",
    "w2 = (f1 * f2i) % n\n",
    "\n",
    "E = (w1 * P) + (w2 * Q)\n",
    "\n",
    "if (E.x % n) == f1:\n",
    "    print(\"Firma correcta\")\n",
    "else:\n",
    "    print(\"Firma incorrecta\")\n"
   ]
  }
 ],
 "metadata": {
  "kernelspec": {
   "display_name": "Python 3",
   "language": "python",
   "name": "python3"
  },
  "language_info": {
   "codemirror_mode": {
    "name": "ipython",
    "version": 3
   },
   "file_extension": ".py",
   "mimetype": "text/x-python",
   "name": "python",
   "nbconvert_exporter": "python",
   "pygments_lexer": "ipython3",
   "version": "3.9.15 (main, Oct 11 2022, 15:04:24) \n[GCC 11.2.0]"
  },
  "orig_nbformat": 4,
  "vscode": {
   "interpreter": {
    "hash": "a806f75dfb18e4bb16bb70a3e91cee63e6c7858b02f38d091c897d68ed2af227"
   }
  }
 },
 "nbformat": 4,
 "nbformat_minor": 2
}
