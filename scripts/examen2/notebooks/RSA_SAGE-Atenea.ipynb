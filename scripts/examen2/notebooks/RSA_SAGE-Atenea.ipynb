{
 "cells": [
  {
   "cell_type": "markdown",
   "metadata": {
    "slideshow": {
     "slide_type": "slide"
    },
    "tags": []
   },
   "source": [
    "<h1><span style=\"text-decoration: underline;\">RSA</span></h1>\n",
    "\n",
    "\n",
    "\n",
    "* Rivest, R.; A. Shamir; L. Adleman **(1978)**. *A Method for Obtaining Digital Signatures and Public-Key Cryptosystems* . Communications of the ACM 21 (2): 120–126\n",
    "\n",
    "* The Original RSA Patent as filed with the U.S. Patent Office by Rivest; Ronald L. (Belmont, MA), Shamir; Adi (Cambridge, MA), Adleman; Leonard M. (Arlington, MA), **December 14, 1977**, U.S. Patent 4,405,829.\n",
    "\n",
    "---\n"
   ]
  },
  {
   "cell_type": "markdown",
   "metadata": {
    "slideshow": {
     "slide_type": "slide"
    },
    "tags": []
   },
   "source": [
    "1. <a href=\"#RSA_1\" id=\"vRSA_1\">Criptosistema RSA</a>\n",
    "    * <a href=\"#RSA_1.1\" id=\"vRSA_1.1\">Puesta en funcionamiento</a>\n",
    "    * Cifrado y descifrado de mensajes\n",
    "2. Seguridad\n",
    "    * Factorización\n",
    "        - Factorización de Fermat\n",
    "        - Método p − 1 \n",
    "        - Criba cuadrática\n",
    "        - Otros métodos de factorización\n",
    "        - [RSA Factoring Challenge](https://en.wikipedia.org/wiki/RSA_Factoring_Challenge)\n",
    "        - Integer factorization calculator (https://www.alpertron.com.ar/ECM.HTM)\n",
    "\n",
    "    * Algunos ataques al uso del RSA\n",
    "         - Exponente compartido\n",
    "         - Módulo compartido\n",
    "         - Timing / Power attacks\n",
    "         - Criptograma escogido (reto-respuesta)\n",
    "         - Insuficiente control del formato\n",
    "         - Error provocado\n",
    "         - [Recovering cryptographic keys from partial information, by example](https://eprint.iacr.org/2020/1506)\n",
    "         - Primos no aleatorios\n",
    "         - Cajas negras\n",
    "3. Recomendaciones\n",
    "\n",
    "---"
   ]
  },
  {
   "cell_type": "markdown",
   "metadata": {
    "slideshow": {
     "slide_type": "slide"
    },
    "tags": []
   },
   "source": [
    "## <a href=\"#vRSA_1\" id=\"RSA_1\">Criptosistema RSA</a>\n",
    "\n",
    "Criptosistema RSA: $({\\cal M},{\\cal C},{\\cal K},{\\cal E},{\\cal D})$\n",
    "\n",
    "* ${\\cal M}=\\mathbb Z_n$.\n",
    "* ${\\cal C}=\\mathbb Z_n$.\n",
    "* ${\\cal K}=\\{ (n,p,q,e,d)\\,:\\, n=pq, \\ p,q$ primos impares diferentes, $ed\\equiv 1 \\mod \\varphi(n)\\}$.\n",
    "* Para $k=(n,p,q,e,d)\\in{\\cal K}$, $x,y\\in\\mathbb Z_n$:\n",
    "  - $e_k(x)=x^e\\mod n$,\n",
    "  - $d_k(y)=y^d\\mod n$.\n",
    "\n",
    "---\n",
    "\n",
    "\n",
    "[RFC3447 Public-Key Cryptography Standards (PKCS) \\#1: RSA Cryptography](https://datatracker.ietf.org/doc/html/rfc3447)\n",
    "\n",
    "---\n",
    "### <a href=\"#vRSA_1.1\" id=\"RSA_1.1\">Puesta en funcionamiento\n",
    "\n",
    "\n",
    "Cada usuario realiza los siguientes pasos:\n",
    "\n",
    "\n",
    "* Elige $e$. Generalmente se toma $e$ primo e\n",
    "  * igual a  65537 ($2^{16}+1$) si su uso es para cifrar\n",
    "  * igual a  3 ($2^{1}+1$) si su uso es para firmar\n",
    "* Genera dos números primos aleatorios diferentes, $p$ y $q$ tales que $(e,p-1)=1$, $(e,q-1)=1$.\n",
    "* Calcula $n=pq$.\n",
    "* Calcula $d=e^{-1}\\mod MCM(p-1,q-1)$. (Algoritmo extendido de Euclides)\n",
    "* Calcula \n",
    "    * $d_p\\equiv d \\mod (p-1)$,\n",
    "    * $d_q\\equiv d \\mod (q-1)$,\n",
    "    * $p_{inv}\\equiv p^{-1}\\mod q$\n",
    "    * $q_{inv}\\equiv q^{-1}\\mod p$\n",
    "\n",
    "**Clave pública**: $\\{e,n\\}$. \n",
    "**Clave privada**: $\\{d,p,q,d_p,d_q,q_{inv}\\}$.\n"
   ]
  },
  {
   "cell_type": "code",
   "execution_count": 3,
   "metadata": {
    "execution": {
     "iopub.execute_input": "2022-11-07T07:36:43.695154Z",
     "iopub.status.busy": "2022-11-07T07:36:43.694693Z",
     "iopub.status.idle": "2022-11-07T07:36:44.641376Z",
     "shell.execute_reply": "2022-11-07T07:36:44.640805Z",
     "shell.execute_reply.started": "2022-11-07T07:36:43.695114Z"
    },
    "slideshow": {
     "slide_type": "slide"
    },
    "tags": []
   },
   "outputs": [
    {
     "name": "stdout",
     "output_type": "stream",
     "text": [
      "n = 710259321965740806311050649105012724299586836568218271333410959589300307954499535565404411232556840036798484632154292390324016060061300677148821883011285550202861951160874386382355803933442600824688413779636231353316561018023649342550784573594359492052579204454986002926849894981344736253060275426910331502338562538074572049808614439113116793061322938087182323880836822886457866859651033828140835445357515582930044966982742341708185376052876402744930212205299065355929258695166410426971694601187802382356904341465780987328577501893594785027075297712355301023392669819499746931617767839957886062416717919164607657687771224285528048353289120409231548602557495693540302061718180863347161969043956760023785573076381723541971662473571179689726543999111631250142597462051204528870267024159527495641221666580077965944587311990771553992695712001066724139602990564916036827721591346976227130391674532096144790136284465335011023631797792304969338723729488551903247669431152415395793037474155738159104917240999585843734329624564296804019141195387251180611902155871173979548193550953695840837672305336816272747919083715932010530355052127765183646916376698952577768218045100384507771037346062106368717899320895538198499842802708781153960001455141\n",
      "e = 65537\n",
      "\n",
      "p = 25646801730845806728667906043333063148570404107243047496212944792944292539558456150577795320466537351299785509270516933870075822307929650623920249492967146601323157346269626546388337356614351995575833658412639262654091103208880103255573758128076008556229752189374130485353482418980583606995444326298923527258628750702502546682129314205594400024772268759425922212519129573645311559741796669077333237303629843680628159999791029145060251962939469392914524529124898328459780811212345234836083677726980504715179945802053312965687423623576419979325959678455127140255439483653714033640286627403245763233015561529626698194161\n",
      "q = 27693875026588632674342973454537002096652549014924343270061438129240791731274648704564345315334335364478028696367323831642943120288430422895525901918480450432004947193912274759573114290891516447671130916782100806509003310612592014777347641824905276682169691968045126504117877780391444065457159274775906986369750417525469335788226289228370420111020646522643282710299450278604327355070785833064739768091354908652606182385995542155805185395781195941162202250722897535546288652564709445886220599459719464687837062151555425806733293043700362903439532091078220534635294784122097521158346713731595280934901852279613085592181\n",
      "d = 679426543977847973347153322454361013042856675742477377152359733868996367033637256567531827044134663100034646055800798000125016629344691732178981971859308691476842416378191510613586982318314593754693776594487916993486455640965235280577288958722211655641245334478111333986756696464141846669466939088817957833660514863923754077034372284616011077568403461167914830534467889900328312085772046519581385411910117443963720937334362007512848583174495741960803284611358606669422114013723127431644864396259604604341349878315649810909916241950550746340500855458488770187200104617606514406167220065346900117872787582407915883787149389798145281710931961771794006055528647979649567401487967424062783631539384899977609504044507601812651551575648517384634547093139072289010156125038186697143924420537650701131668117163629856974747532846748273776555333045143649232285133223825684393081103296939388485883255584670529289170736333305215798998493627239095316691521088283037616619436725479975122060977896899897361354789284154195204262507727886707421652996450368788423753207455066957210604878787660125356502184405031885180412598937605032419659199928761268506971037558042481184256822088641377794977479124965394608916349385258072766489220018316394940261014273\n",
      "dp = 25316516538346396305868636734384330290835179408729030496856799021773122316579263679285431323785673754789462806525131635608233748456091870055285910256016046127827014025698780080954280919350172782547071224860595874374492511709295215220605659926142808208007253282682768870851165572594273391936711778098726822236942029223141084463844724718899530353885475118689308111364573439550729217608008482423973009458530684609165472250278179478483648629605308351554378982295146979004968186211762062304511365536895948724218933331892442066149144704213335027885535033313968294010179692631791537273464802883839329856927777012010619745713\n",
      "dq = 22212738371418558450333593887593146653228525741466851218915262473132298673210296226622051296914180886661764445324698178649357585197394351433941354658389052861876070833196402566667994046340287983708144525559117918045566138603560001965089279951294242551153272624506158655651927360179084314888094274041691359774055883663332485543187865168965920068906286603129023283787797783620169854382271512288952967781408397214289585780585648854266374346012700395854743480957319252537134890378206459442071990344379714982084059524522979583391706702094286836171970702040339664977629516489344619027566921800128744642324957915835962238713\n",
      "q_inv = 18458767548227813397966801640015658628750943462121813158484244244468865679890403778028599528466384131619478086828097076372306325762156529223606740765976387531878655917833510838349293497401964941339986709821625815202431662959217635105194629847388633333831576045398718035022782817353663260963287852953181187045880569070263172748092847513393414935431500333907708886741924209575377982564619564864302259756808031087376740210894469005183264413586663962813001373723293002000794768135258352285357371933449234147311529737659124603255512478913061996873537831148437376386059298083388205699110179841182431308284388901309944857532\n"
     ]
    }
   ],
   "source": [
    "e=2^16+1;\n",
    "NdeBits=1024*(4); # bits del módulo\n",
    "r1=randint(0,2^(NdeBits/2));\n",
    "r2=randint(0,2^(NdeBits/2));\n",
    "p=next_probable_prime(r1);\n",
    "while gcd(e,p-1)!=1:\n",
    "    print( \".\");\n",
    "    p=next_probable_prime(p+2);\n",
    "    \n",
    "q=next_probable_prime(r2);\n",
    "while gcd(e,q-1)!=1:\n",
    "    print( \"+\");\n",
    "    q=next_probable_prime(q+2);\n",
    "    \n",
    "n=p*q;\n",
    "phi=(p-1)*(q-1);\n",
    "d=mod(e^-1,phi);\n",
    "dp=mod(d,p-1);\n",
    "dq=mod(d,q-1);\n",
    "q_inv=mod(q^-1,p);\n",
    "\n",
    "print( \"n =\",n);\n",
    "print( \"e =\",e);\n",
    "print()\n",
    "print( \"p =\",p);\n",
    "print( \"q =\",q);\n",
    "print( \"d =\",d);\n",
    "print( \"dp =\",dp);\n",
    "print( \"dq =\",dq);\n",
    "print( \"q_inv =\",q_inv);"
   ]
  },
  {
   "cell_type": "raw",
   "metadata": {},
   "source": []
  },
  {
   "cell_type": "markdown",
   "metadata": {},
   "source": [
    "### Cifrado / verificación de firma (Primitiva)\n",
    "\n",
    "Sea $m$ una cadena de bits interpretada como un entero $0\\leq m < n$: \n",
    "\n",
    "$$c=m^e\\mod n$$\n",
    "\n",
    "### Descifrado / firma (Primitiva usando TCR)\n",
    "\n",
    "Para recuperar $m$ se calcula:\n",
    "    $$M_p=c^{d_p}\\mod p, \\qquad M_q=c^{d_q}\\mod q$$\n",
    "    y  se resuelve el sistema de congruencias:\n",
    "    $$\n",
    "    \\left. \\begin{array}{rl}\n",
    "        &m\\equiv M_p \\mod p \\\\\n",
    "        &m\\equiv M_q \\mod q\n",
    "      \\end{array}\\right\\}\n",
    "    $$\n",
    "    cuya solución es\n",
    "    $$\n",
    "    m=M_p q_{inv}q+M_q p_{inv}p \\mod n.\n",
    "    $$\n",
    "    \n",
    "Resolver el sistema de congruencias es equivalente a calcular:\n",
    "    $$\n",
    "    h= (M_p-M_q)q_{inv} \\mod p\n",
    "    $$\n",
    "    y \n",
    "    $$\n",
    "    m=M_q+q\\,h \\mod n\n",
    "    $$\n",
    "\n",
    "\n"
   ]
  },
  {
   "cell_type": "code",
   "execution_count": 4,
   "metadata": {
    "execution": {
     "iopub.execute_input": "2022-11-07T07:36:56.630433Z",
     "iopub.status.busy": "2022-11-07T07:36:56.629858Z",
     "iopub.status.idle": "2022-11-07T07:37:00.084971Z",
     "shell.execute_reply": "2022-11-07T07:37:00.084136Z",
     "shell.execute_reply.started": "2022-11-07T07:36:56.630394Z"
    },
    "tags": []
   },
   "outputs": [
    {
     "name": "stdout",
     "output_type": "stream",
     "text": [
      "Número de iteraciones: 100\n",
      "Tiempo RSA c^d mod n: 2.679586172103882\n",
      "Tiempo RSA CRT:       0.7624588012695312\n"
     ]
    }
   ],
   "source": [
    "from time import time\n",
    "\n",
    "m=randint(0,2^NdeBits);\n",
    "\n",
    "m=mod(m,n); #Necesario para que trabaje en Zn, si no tarda mucho\n",
    "\n",
    "c=mod(m^e,n);\n",
    "cp_aux=mod(c,p); #Necesario para que trabaje en Zp, si no tarda mucho\n",
    "cq_aux=mod(c,q); #Necesario para que trabaje en Zq, si no tarda mucho\n",
    "\n",
    "numero_de_iteraciones=100\n",
    "print('Número de iteraciones:', numero_de_iteraciones)\n",
    "inicio=time();\n",
    "for i in range(numero_de_iteraciones):\n",
    "    c=mod((m+i)^e,n);\n",
    "    m_rsa=mod(c^d,n);\n",
    "    if m+i!=m_rsa:\n",
    "        print (\"Error RSA\")\n",
    "print (\"Tiempo RSA c^d mod n:\",time()-inicio);\n",
    "\n",
    "inicio=time()\n",
    "for i in range(numero_de_iteraciones):\n",
    "    c=mod((m+i)^e,n);    \n",
    "    cp_aux=mod(c,p); #Necesario para que trabaje en Zp, si no tarda mucho\n",
    "    cq_aux=mod(c,q); #Necesario para que trabaje en Zq, si no tarda mucho\n",
    "    mp=Integer(mod(cp_aux^dp,p));\n",
    "    mq=Integer(mod(cq_aux^dq,q));\n",
    "    h=mod((mp-mq)*Integer(q_inv),n);\n",
    "    m_tcr=mod((mq+q*h),n);\n",
    "    if m+i!=m_tcr:\n",
    "        print( \"Error TCR\")\n",
    "    hp=mod((mp-mq)*Integer(q_inv),p);\n",
    "    mp_tcr=mod((mq+q*Integer(hp)),n);\n",
    "    if m+i!=mp_tcr:\n",
    "        print( \"Error Mp TCR\")\n",
    "\n",
    "print( \"Tiempo RSA CRT:      \",time()-inicio);\n",
    "\n",
    "#print \"m=\",m;\n",
    "#print \"c=\",c;\n",
    "#print \"m_rsa=\",m_rsa;\n",
    "#print \"mp=\",mp;\n",
    "#print \"mq=\",mq;\n",
    "#print \"h=\",h;\n",
    "#print \"m_tcr=\",m_tcr;\n",
    "#print \"hp=\",hp;\n",
    "#print \"mp_tcr=\",mp_tcr;"
   ]
  },
  {
   "cell_type": "markdown",
   "metadata": {},
   "source": [
    "---\n",
    "\n",
    "### RSA-OAEP Optimal asymmetric encryption padding\n",
    "![RSA-OAEP Optimal asymmetric encryption padding](RSA-oaep1.png)\n",
    "\n",
    "* El padding consiste en una cadena de 0 o más bytes 0x00 acabada necesariamente con el byte 0x01.\n",
    "* lHash es el hash de los parámetros que se le pasan, si no hay parámetros es el hash de una cadena vacía.\n",
    "* mask generation function MGF($Z$,$l$) devuelve una cadena de $l$ bytes generados de la siguiente forma:\n",
    "    * Sea $T$ una cadena vacía\n",
    "    * Para $i=0,...,\\frac{l}{hLen-1}$  \n",
    "    \n",
    "        $T=T\\|Hash(Z\\|i)$ $\\quad$ ($i$ entero de 32 bits)\n",
    "        \n",
    "    * Salida los primeros $l$ bytes de $T$.         \n",
    "* La función $Hash(\\cdot)$ que devuelve $hLen$ bytes se ha de acordar previamente al igual que el tamaño de la semilla. \n",
    "            \n",
    "* $m$ se considera un elemento de  $\\mathbb Z_n$ y se cifra usando la primitiva criptográfica.\n",
    "\n",
    "\n",
    "\n",
    "Para descifrar un mensaje cifrado recibido se siguen los pasos:\n",
    "\n",
    "* Se descifra $c$ utilizando la primitiva criptográfica (se recomienda la versión TCR) \n",
    "    y la clave privada del receptor del mensaje.\n",
    "    \n",
    "    \n",
    "* Se comprueba que $m$ tiene el formato adecuado (el padding y lHash recuperados son los correctos). Si es así, se extrae $M$.\n"
   ]
  },
  {
   "cell_type": "markdown",
   "metadata": {},
   "source": [
    "---\n",
    "\n",
    "### RSA-RSS Probabilistic signature scheme\n",
    "![RSA-RSS Probabilistic signature scheme](RSA-PSS-1.png)\n",
    "\n",
    "* $Padding_1$ consiste en una cadena de 8 bytes 0x00.\n",
    "* $Padding_2$ consiste en una cadena de 0 o más bytes 0x00 acabada necesariamente con el byte 0x01.\n",
    "* La función $Hash(\\cdot)$ se ha de acordar previamente al igual que el tamaño de $Salt$. \n",
    "* $m$ se considera un elemento de  $\\mathbb Z_n$ y se ***descifra*** usando la primitiva criptográfica (se recomienda la versión TCR), el resultado es la firma $f$.\n",
    "\n",
    "\n",
    "\n",
    "Para verificar la firma de un mensaje:\n",
    "\n",
    "* Se ***cifra*** $f$ utilizando la primitiva criptográfica y la clave pública del firmante del mensaje.\n",
    "* Se comprueba que $m$ tiene el formato adecuado (el byte final coincide con 0xBC). \n",
    "\n",
    "Si es así:\n",
    "* se extrae $Salt$,\n",
    "* con el documento firmado se calcula $mHash$,\n",
    "* se calcula el hash $H'$ de $Padding_1 \\| mHash \\| Salt$.\n",
    "* Si $H' = H$ entonces la firma es válida.\n"
   ]
  },
  {
   "cell_type": "code",
   "execution_count": null,
   "metadata": {},
   "outputs": [],
   "source": []
  },
  {
   "cell_type": "code",
   "execution_count": null,
   "metadata": {},
   "outputs": [],
   "source": []
  },
  {
   "cell_type": "markdown",
   "metadata": {},
   "source": [
    "---\n",
    "<h3><span style=\"text-decoration: underline;\">Factorización</span></h3>\n",
    "<h4><span style=\"text-decoration: underline;\">Factorización de Fermat</span></h4>\n",
    "\n",
    "Sea $n$ un  entero positivo impar tal que se puede escribir\n",
    "como producto de dos enteros positivos, $n=ab$. Entonces \n",
    "$$\n",
    "n=ab=s^2-t^2, \\hskip1cm s=\\frac{a+b}{2}, \\hskip.3cm t=\\frac{a-b}{2}.\n",
    "$$\n",
    "\n",
    "Por otra parte si $n$ es un entero positivo impar tal que se \n",
    "puede escribir como $n=s^2-t^2$, entonces\n",
    "$$\n",
    "n=s^2-t^2=ab, \\hskip1cm a=s+t, \\hskip.3cm b=s-t.\n",
    "$$\n",
    "\n",
    "Para que este método de factorización sea útil $t$ ha de ser pequeño.\n",
    "\n",
    "\n",
    "\n",
    "[**Algorithm for factoring some RSA and Rabin moduli**](http://arxiv.org/abs/1303.5226) Omar Khadir\n",
    "\n",
    "Si $\\vert p-q\\vert\\leq 2^{\\frac{k+5}{4}}$, $k$ tamaño del módulo en bits, entonces, si $n_0=\\lfloor\\sqrt{n}\\rfloor+1$, $I=n_0^2-n$ es un cuadrado prefecto y $p=n_0-\\sqrt{I}$, $q=n_0+\\sqrt{I}$."
   ]
  },
  {
   "cell_type": "code",
   "execution_count": 6,
   "metadata": {
    "execution": {
     "iopub.execute_input": "2022-11-07T07:45:23.226748Z",
     "iopub.status.busy": "2022-11-07T07:45:23.226295Z",
     "iopub.status.idle": "2022-11-07T07:45:25.201697Z",
     "shell.execute_reply": "2022-11-07T07:45:25.200818Z",
     "shell.execute_reply.started": "2022-11-07T07:45:23.226715Z"
    },
    "tags": []
   },
   "outputs": [
    {
     "name": "stdout",
     "output_type": "stream",
     "text": [
      "25917648995980012300067576393757132143644790004242344701332737709837177973670060040324240846804966882512428074162026332057880158171616935635349489367948701034704620733256924287583063645054865016339945919899877482028317189611444407221547671534483482791679621837865013591628069802621337466711490731891080783976910183705604881213593418372479305711413347457739246751234167156263314221590591643236189968523831888823391901896863443982716547560930303815989329881039010339133197216250271343458409828476092349784622646948221111937574155515608989106387577036906223721287188774845964838897907853598373494698082405460790453035143\n",
      "25917648995980012300067576393757132143644790004242344701332737709837177973670060040324240846804966882512428074162026332057880158171616935635349489367948701034704620733256924287583063645054865016339945919899877482028317189611444407221547671534483482791679621837865013591628069802621337466711490731891080783976984595094458241236328788957579455845738715104709343906866361460746286612795680277792369240495256473307576376474274723048281672276889615436089962804815322595598081361348026360346540175219322232114972267091726987891107470887435047755774070851239777704535596872234199777937373278581457654726092335117181053269813\n",
      "\n",
      "-------------------------- diferencia entre p y q:  74411388853360022735370585100150134325367646970097155632194304482972391205088634556179271971424584484184474577411279065565124715959311620100632923776312256464884145097755016888130346743229882330349620143505875953533315371826058649386493814333553983248408097388234939039465424983084160028009929656390600234670\n",
      "\n",
      "Primos calculados:\n",
      "25917648995980012300067576393757132143644790004242344701332737709837177973670060040324240846804966882512428074162026332057880158171616935635349489367948701034704620733256924287583063645054865016339945919899877482028317189611444407221547671534483482791679621837865013591628069802621337466711490731891080783976910183705604881213593418372479305711413347457739246751234167156263314221590591643236189968523831888823391901896863443982716547560930303815989329881039010339133197216250271343458409828476092349784622646948221111937574155515608989106387577036906223721287188774845964838897907853598373494698082405460790453035143\n",
      "25917648995980012300067576393757132143644790004242344701332737709837177973670060040324240846804966882512428074162026332057880158171616935635349489367948701034704620733256924287583063645054865016339945919899877482028317189611444407221547671534483482791679621837865013591628069802621337466711490731891080783976984595094458241236328788957579455845738715104709343906866361460746286612795680277792369240495256473307576376474274723048281672276889615436089962804815322595598081361348026360346540175219322232114972267091726987891107470887435047755774070851239777704535596872234199777937373278581457654726092335117181053269813\n",
      "0\n",
      "0\n"
     ]
    }
   ],
   "source": [
    "NdeBits=1024*2\n",
    "r1=randint(0,2^NdeBits)\n",
    "k=randint(0,2^(NdeBits/2))\n",
    "p1=next_probable_prime(r1)\n",
    "p2=next_probable_prime(r1+k)\n",
    "n=p1*p2\n",
    "\n",
    "n0=floor(sqrt(n))+1\n",
    "I=n0^2-n\n",
    "q1=n0-sqrt(I)\n",
    "q2=n0+sqrt(I)\n",
    "\n",
    "print(p1)\n",
    "print(p2)\n",
    "print(\"\\n-------------------------- diferencia entre p y q: \", p2-p1)\n",
    "print(\"\\nPrimos calculados:\")\n",
    "print(q1)\n",
    "print(q2)\n",
    "print(q1-p1)\n",
    "print(q2-p2)"
   ]
  },
  {
   "cell_type": "markdown",
   "metadata": {},
   "source": [
    "https://crt.sh/?id=7581884753\n",
    "\n",
    "> Non-authoritative answer:\n",
    ">\n",
    "> Name:\twww.whitehatsecurity.be\n",
    ">\n",
    "> Address: 95.211.203.221\n",
    "\n",
    "\n",
    "> Non-authoritative answer:\n",
    ">\n",
    "> www.accessdenied.be\tcanonical name = accessdenied.be.\n",
    ">\n",
    "> Name:\taccessdenied.be\n",
    ">\n",
    "> Address: 95.211.203.221\n"
   ]
  },
  {
   "cell_type": "code",
   "execution_count": 7,
   "metadata": {
    "execution": {
     "iopub.execute_input": "2022-11-07T07:47:36.605303Z",
     "iopub.status.busy": "2022-11-07T07:47:36.604967Z",
     "iopub.status.idle": "2022-11-07T07:47:39.546381Z",
     "shell.execute_reply": "2022-11-07T07:47:39.545801Z",
     "shell.execute_reply.started": "2022-11-07T07:47:36.605269Z"
    },
    "tags": []
   },
   "outputs": [
    {
     "name": "stdout",
     "output_type": "stream",
     "text": [
      "\n",
      "Primos calculados:\n",
      "173423359228950219508505314528773737299440582426812201685461010979271780194421861387468180296237687895289814434596639191106077081478426655767209510213746355566332307825529911047983676207772762433902299661547012988060854120303729626290982655608016528750796342165855592578533258017865029541549043896408768310401\n",
      "173423359228950219508505314528773737299440582426812201685461010979271780194421861387468180296237687895289814434596639191106077081478426655767209510213746355566332307825529911047983676207772762433902299661547012988060854120303729626290982655608016528750796342165855592578533258017865029541549043896408768310449\n",
      "48\n"
     ]
    },
    {
     "data": {
      "text/plain": [
       "173423359228950219508505314528773737299440582426812201685461010979271780194421861387468180296237687895289814434596639191106077081478426655767209510213746355566332307825529911047983676207772762433902299661547012988060854120303729626290982655608016528750796342165855592578533258017865029541549043896408768310449"
      ]
     },
     "execution_count": 7,
     "metadata": {},
     "output_type": "execute_result"
    }
   ],
   "source": [
    "aux='''00:ee:3e:c0:ea:b6:3d:53:ab:5f:18:8b:05:7c:6a:\n",
    "                    99:15:87:c1:8c:69:e0:ee:16:73:b1:a9:4f:df:4c:\n",
    "                    81:e7:cd:66:8e:8d:8d:47:3d:d6:27:3d:6e:f4:ab:\n",
    "                    cc:38:69:26:5f:8a:7c:4f:0f:13:8c:33:6f:ab:52:\n",
    "                    40:be:88:fe:dd:cc:76:ba:e4:3b:da:84:0a:f7:c5:\n",
    "                    4a:40:99:53:fb:89:28:71:f4:9a:b2:94:ca:56:1b:\n",
    "                    3b:54:6d:14:06:d2:8e:36:10:0b:1a:50:1b:32:f5:\n",
    "                    98:b0:5e:0c:58:c8:99:2d:aa:84:9a:da:ca:14:84:\n",
    "                    7a:1d:a5:85:83:bb:d2:a0:95:19:97:22:f8:77:25:\n",
    "                    07:5b:35:c5:20:09:8b:87:5d:63:01:07:d5:ce:70:\n",
    "                    50:78:5c:eb:ea:04:cc:a8:38:ea:22:10:f4:4d:42:\n",
    "                    6a:04:b7:38:c3:f8:75:e1:23:a1:16:ea:4e:50:96:\n",
    "                    3a:a2:87:83:7a:bb:3b:76:64:e9:8a:f3:99:cc:f5:\n",
    "                    dd:a0:89:70:80:03:b1:55:62:ad:37:0b:bd:1c:da:\n",
    "                    93:25:53:85:23:d2:c6:52:c1:dc:1f:0d:83:51:16:\n",
    "                    50:b5:4b:b2:b3:bd:03:f9:82:87:4d:fa:30:9d:d7:\n",
    "                    12:84:d0:df:9d:22:83:b8:a7:b0:9f:5e:63:44:ea:\n",
    "                    71:31'''\n",
    "for _aux in [' ', '\\n', ':']:\n",
    "    aux=\"\".join(aux.split(_aux))\n",
    "    # print(aux)\n",
    "\n",
    "n=int(aux,16)\n",
    "n0=floor(sqrt(n))+1;\n",
    "I=n0^2-n;\n",
    "q1=n0-sqrt(I);\n",
    "q2=n0+sqrt(I);\n",
    "\n",
    "print(\"\\nPrimos calculados:\")\n",
    "print(q1)\n",
    "print(q2)\n",
    "print(q2-q1)\n",
    "next_probable_prime(q1)"
   ]
  },
  {
   "cell_type": "raw",
   "metadata": {},
   "source": []
  },
  {
   "cell_type": "markdown",
   "metadata": {},
   "source": [
    "<h4><span style=\"text-decoration: underline;\">Método</span>  $p-1$</h4>\n",
    "\n",
    "Sea $p$ primo un factor de $n$ tal que todas las potencias de primo divisoras de $p-1$ son menores que un cierto $B$.\n",
    "\n",
    "Entonces $(p-1)\\vert B!$\n",
    "\n",
    "Calculemos ahora $a\\equiv 2^{B!} \\mod n$. Como $p\\vert n$ tenemos que $a\\equiv 2^{B!} \\mod p$.\n",
    "\n",
    "Por el teorema de Fermat $1\\equiv 2^{p-1} \\mod p$ y como $(p-1)\\vert B!$ entonces $a\\equiv 1 \\mod p$ y por lo tanto $p\\vert (a-1)$. Teniendo en cuenta que $p\\vert n$ podemos concluir que $p$ divide al máximo común divisor de $a-1$ y $n$, $p\\vert d=(a-1,n)$.\n",
    "\n",
    "En consecuencia $d$ es un factor no trivial de $n$. Hemos reducido el problema de factorizar $n$ al problema de factorizar $d$ y $\\frac{n}{d}$.\n",
    "\n",
    "La complejidad de este algoritmo es ${\\cal O}(B\\log B\\log^2 n +\\log^3 n)$. Si $B\\simeq \\sqrt n$ su complejidad es la misma que si nos dedicáramos a dividir por todos los posibles divisores.\n",
    "\n",
    "Para que este método de factorización sea útil $p-1$ ha de tener solamente factores pequeños. \n",
    "\n",
    "Una forma de evitar este ataque es elegir los primos del RSA  de la forma\n",
    "$p=2p_1+1$, $q=2q_1+1$, $p_1$ y $q_1$ primos.\n",
    "\n"
   ]
  },
  {
   "cell_type": "code",
   "execution_count": 8,
   "metadata": {
    "execution": {
     "iopub.execute_input": "2022-11-07T07:49:26.353175Z",
     "iopub.status.busy": "2022-11-07T07:49:26.352571Z",
     "iopub.status.idle": "2022-11-07T07:49:32.682811Z",
     "shell.execute_reply": "2022-11-07T07:49:32.682347Z",
     "shell.execute_reply.started": "2022-11-07T07:49:26.353130Z"
    },
    "tags": []
   },
   "outputs": [
    {
     "name": "stdout",
     "output_type": "stream",
     "text": [
      "p-1= 2 * 5 * 211 * 830899\n",
      "q-1= 2 * 3^3 * 22319587\n",
      "Tomo B = 2^20 = 1048576\n",
      "Factorizado!\n",
      "a= 1410894631984720472\n",
      "mcd(a-1,n)= 1753196891\n",
      "1753196891\n",
      "1205257699\n"
     ]
    }
   ],
   "source": [
    "NdeBits=32;\n",
    "r1=randint(0,2^NdeBits);\n",
    "r2=randint(0,2^NdeBits);\n",
    "p=next_probable_prime(r1);\n",
    "q=next_probable_prime(r2);\n",
    "n=p*q;\n",
    "\n",
    "print(\"p-1=\", factor(p-1))\n",
    "print(\"q-1=\", factor(q-1))\n",
    "\n",
    "a=2;\n",
    "x=1;\n",
    "B=2^20;\n",
    "print(\"Tomo B = 2^20 =\",B);\n",
    "\n",
    "while x<B and gcd(a-1,n)==1:\n",
    "    x=x+1;\n",
    "    a=mod(a^x,n);    \n",
    "\n",
    "\n",
    "if x<B:\n",
    "    print(\"Factorizado!\")\n",
    "else:\n",
    "    print(\"Error!\")\n",
    "    \n",
    "print('a=', a);\n",
    "print('mcd(a-1,n)=',gcd(a-1,n));\n",
    "print( p);\n",
    "print( q);\n"
   ]
  },
  {
   "cell_type": "markdown",
   "metadata": {},
   "source": []
  },
  {
   "cell_type": "markdown",
   "metadata": {},
   "source": [
    "<h4><span style=\"text-decoration: underline;\">Criba cuadrática</span></h4>\n",
    "\n",
    "Dados $n=pq$, $y$ y $z$ tales que $y\\not\\equiv \\pm z\\mod n$ y \n",
    "$y^2\\equiv z^2 \\mod n$ entonces $(y-z,n)=p\\ \\textrm{ó}\\ q$.\n",
    "\n",
    "Se generan $x_1,\\ldots,x_m$. Para cada número se calcula \n",
    "$x_i^2\\mod n$ que se intenta factorizar sobre una base de primos \n",
    "$\\{2,3,\\ldots,p_k\\}$. En el caso de ser posible tendremos\n",
    "$$\n",
    "x_i^2\\mod n=\\Pi_{j=1}^k p_j^{e_j}.\n",
    "$$\n",
    "\n",
    "Cuando obtengamos $k+1$, por eliminación gausiana podremos escribir\n",
    "uno de los vectores $(e_1,\\ldots,e_k)$ como combinación lineal \n",
    "(módulo 2) de los otros. Entonces \n",
    "$$\n",
    "\\Pi_{i=1}^m \\left(x_i^{2}\\right)^{b_i} \\equiv \n",
    "\\Pi_{j=1}^k p_j^{c_j}\\mod n,\n",
    "$$ \n",
    "siendo $b_i$ 0 ó 1 (dependiendo\n",
    "de si pertenece o no a la combinación lineal) y $c_j$ la suma de\n",
    "las multiplicidades de los primos.\n",
    "\n",
    "\n",
    "Definiendo \n",
    "$$\n",
    "y\\equiv\\Pi_{i=1}^m x_i^{b_i} \\mod n\n",
    "\\hskip1cm \\textrm{y} \\hskip1cm \n",
    "z\\equiv  \\Pi_{j=1}^k p_j^{c_j/2}\\mod n\n",
    "$$ entonces \n",
    "$$\n",
    "y^2\\equiv z^2 \\mod n.\n",
    "$$\n",
    "\n",
    "\n",
    "Con $m=100\\,000\\,000$ y $k=200\\,000$ la criba se puede realizar \n",
    "en unos pocos segundos (5-10) obteniendo poquísimos números \n",
    "cuyo cuadrado sea factorizable.\n",
    "\n",
    "La complejidad del algoritmo es \n",
    "${\\cal O}\\left(\\mbox{e}^{\\left(1+\\circ(1)\\right)\n",
    "\\sqrt{\\log n\\log\\log n}}\\right)$.\n"
   ]
  },
  {
   "cell_type": "code",
   "execution_count": 9,
   "metadata": {
    "execution": {
     "iopub.execute_input": "2022-11-07T07:49:55.359473Z",
     "iopub.status.busy": "2022-11-07T07:49:55.358961Z",
     "iopub.status.idle": "2022-11-07T07:49:56.441880Z",
     "shell.execute_reply": "2022-11-07T07:49:56.441380Z",
     "shell.execute_reply.started": "2022-11-07T07:49:55.359434Z"
    },
    "tags": []
   },
   "outputs": [
    {
     "name": "stdout",
     "output_type": "stream",
     "text": [
      "n= 15744539\n",
      "Base de primos: [2, 3, 5, 7, 11]\n",
      "\n",
      "Numero de Intentos:  15 ; X= 1884145 ; X^2 mod n = 2450000\n",
      "Numero de Intentos:  2230 ; X= 2675224 ; X^2 mod n = 1546875\n",
      "Numero de Intentos:  2572 ; X= 112 ; X^2 mod n = 12544\n",
      "Numero de Intentos:  6526 ; X= 5870919 ; X^2 mod n = 12782924\n",
      "Numero de Intentos:  7327 ; X= 10816910 ; X^2 mod n = 369600\n",
      "Numero de Intentos:  12634 ; X= 9104344 ; X^2 mod n = 1782000\n",
      "Numero de Intentos:  19149 ; X= 14584468 ; X^2 mod n = 254016\n",
      "Numero de Intentos:  21881 ; X= 15444546 ; X^2 mod n = 15125\n",
      "Numero de Intentos:  27300 ; X= 1815 ; X^2 mod n = 3294225\n",
      "\n",
      " Numero de Intentos:  27300\n",
      "0 [0, 0, 1, 0, 0] [4, 0, 5, 2, 0, 1884145, 2450000]     2^4 * 5^5 * 7^2\n",
      "1 [0, 0, 0, 0, 1] [0, 2, 6, 0, 1, 2675224, 1546875]     3^2 * 5^6 * 11\n",
      "2 [0, 0, 0, 0, 0] [8, 0, 0, 2, 0, 112, 12544]     2^8 * 7^2\n",
      "3 [0, 0, 0, 0, 1] [2, 0, 0, 4, 3, 5870919, 12782924]     2^2 * 7^4 * 11^3\n",
      "4 [0, 1, 0, 1, 1] [6, 1, 2, 1, 1, 10816910, 369600]     2^6 * 3 * 5^2 * 7 * 11\n",
      "5 [0, 0, 1, 0, 1] [4, 4, 3, 0, 1, 9104344, 1782000]     2^4 * 3^4 * 5^3 * 11\n",
      "6 [0, 0, 0, 0, 0] [6, 4, 0, 2, 0, 14584468, 254016]     2^6 * 3^4 * 7^2\n",
      "7 [0, 0, 1, 0, 0] [0, 0, 3, 0, 2, 15444546, 15125]     5^3 * 11^2\n",
      "8 [0, 0, 0, 0, 0] [0, 2, 2, 0, 4, 1815, 3294225]     3^2 * 5^2 * 11^4\n"
     ]
    }
   ],
   "source": [
    "p=3571;\n",
    "q=4409;\n",
    "n=p*q;\n",
    "print(\"n=\", n);\n",
    "\n",
    "Base=list(primes(1,12));\n",
    "print('Base de primos:', Base)\n",
    "print()\n",
    "NumeroDePrimos=len(Base);\n",
    "NumeroDeFactorizacionesABuscar=NumeroDePrimos+4\n",
    "NumeroDeFactorizaciones=0;\n",
    "NumeroDeIntentos=0;\n",
    "\n",
    "exponenteMatrix = [[0 for i in range(0,NumeroDePrimos+2)] for i in range(0,NumeroDeFactorizacionesABuscar)] \n",
    "exponenteMatrixBinaria = [[0 for i in range(0,NumeroDePrimos)] for i in range(0,NumeroDeFactorizacionesABuscar)] \n",
    "\n",
    "while NumeroDeFactorizaciones<NumeroDeFactorizacionesABuscar:\n",
    "    NumeroDeIntentos=NumeroDeIntentos+1;\n",
    "    exponente=list([0 for i in  range(0,NumeroDePrimos)]);\n",
    "    x=randint(1,n);\n",
    "    x2=mod(x^2,n);\n",
    "    for i in range(NumeroDePrimos):\n",
    "        p=Base[i];\n",
    "        while mod(x2,p)==0:\n",
    "            exponente[i]=exponente[i]+1;\n",
    "            x2=x2/p;\n",
    "    if x2==1:\n",
    "        print( \"Numero de Intentos: \", NumeroDeIntentos, \"; X=\",x, \"; X^2 mod n =\",mod(x^2,n));\n",
    "        for i in range(len(Base)):\n",
    "            p=Base[i];\n",
    "            exponenteMatrix[NumeroDeFactorizaciones][i]=exponente[i];\n",
    "            exponenteMatrixBinaria[NumeroDeFactorizaciones][i]=exponente[i]%2;\n",
    "            #print p, \"^\", exponente[i];\n",
    "        exponenteMatrix[NumeroDeFactorizaciones][NumeroDePrimos]=x;\n",
    "        exponenteMatrix[NumeroDeFactorizaciones][NumeroDePrimos+1]=Integer(mod(x^2,n));\n",
    "        NumeroDeFactorizaciones=NumeroDeFactorizaciones+1;\n",
    "        \n",
    "print( \"\\n Numero de Intentos: \", NumeroDeIntentos);\n",
    "for i in range(NumeroDeFactorizacionesABuscar):\n",
    "    print( i,  exponenteMatrixBinaria[i], exponenteMatrix[i],\"   \", factor(exponenteMatrix[i][NumeroDePrimos+1]));"
   ]
  },
  {
   "cell_type": "code",
   "execution_count": 12,
   "metadata": {
    "execution": {
     "iopub.execute_input": "2022-11-07T07:51:49.951024Z",
     "iopub.status.busy": "2022-11-07T07:51:49.950642Z",
     "iopub.status.idle": "2022-11-07T07:51:49.958184Z",
     "shell.execute_reply": "2022-11-07T07:51:49.957641Z",
     "shell.execute_reply.started": "2022-11-07T07:51:49.950995Z"
    },
    "tags": []
   },
   "outputs": [
    {
     "data": {
      "text/plain": [
       "3571"
      ]
     },
     "execution_count": 12,
     "metadata": {},
     "output_type": "execute_result"
    }
   ],
   "source": [
    "solucion=[0,7]\n",
    "X=1\n",
    "exponenteSolucion = Matrix([0 for i in range(0,NumeroDePrimos)])\n",
    "for i in solucion:\n",
    "    X=X*exponenteMatrix[i][len(Base)]\n",
    "    exponenteSolucion=exponenteSolucion+Matrix(exponenteMatrix[i][:-2])\n",
    "Y=1\n",
    "for i in range(len(Base)):\n",
    "    Y=Y*(Base[i]**(exponenteSolucion[0][i]/2))\n",
    "gcd(n,X-Y)"
   ]
  },
  {
   "cell_type": "markdown",
   "metadata": {},
   "source": []
  },
  {
   "cell_type": "markdown",
   "metadata": {},
   "source": [
    "<h4><span style=\"text-decoration: underline;\">Otros métodos de factorización</span></h4>\n",
    "\n",
    "* **Curvas elípticas** ${\\cal O}\\left(\\mbox{e}^{\\left(1+\\circ(1)\\right)\n",
    "    \\sqrt{2\\log p\\log\\log p}}\\right)$ siendo $p$ el menor divisor \n",
    "    primo de $n$.\n",
    "* **Criba del cuerpo de números**\n",
    "    ${\\cal O}\\left(\\mbox{e}^{\\left(1.92+\\circ(1)\\right)\n",
    "    (\\log n)^{1/2} (\\log\\log n)^{2/3}}\\right)$. Es el que mejor se comporta \n",
    "    cuando $n$ crece.\n",
    "\n"
   ]
  },
  {
   "cell_type": "markdown",
   "metadata": {},
   "source": []
  },
  {
   "cell_type": "markdown",
   "metadata": {},
   "source": [
    "---\n",
    "<h3><span style=\"text-decoration: underline;\">Ataques al uso del RSA</span></h3>\n",
    "<h4><span style=\"text-decoration: underline;\">Exponente compartido</span></h4>\n",
    "\n",
    "Supongamos que enviamos el mismo mensaje $m$ a tres personas cuyo\n",
    "exponente público es $e=3$:\n",
    "$$\n",
    "c_1\\equiv m^3 \\mod n_1,\n",
    "$$\n",
    "$$\n",
    "c_2\\equiv m^3 \\mod n_2,\n",
    "$$\n",
    "$$\n",
    "c_3\\equiv m^3 \\mod n_3.\n",
    "$$\n",
    "\n",
    "Si $(n_1,n_2)=((n_1,n_3)=n_2,n_3)=1$ por el teorema chino \n",
    "existe una única solución del sistema\n",
    "$$\n",
    "x\\equiv c_1 \\mod n_1,\n",
    "$$\n",
    "$$\n",
    "x\\equiv c_2 \\mod n_2,\n",
    "$$\n",
    "$$\n",
    "x\\equiv c_3 \\mod n_3,\n",
    "$$\n",
    "módulo $n=n_1n_2n_3$. \n",
    "\n",
    "La solución es **exactamente igual a** (no solo\n",
    "congruente con) $m^3$. Podemos hallar $m$ calculando la raíz\n",
    "cúbica en los reales (es fácil y rápido) del resultado \n",
    "obtenido aplicando el teorema chino de los restos.\n",
    "\n",
    "\n",
    "El coste para hallar $m$ a partir de los\n",
    "criptogramas y las claves públicas es\n",
    "${\\cal O}\\left(\\log^3(n_1)+\\log^2(n)\\right)$ siendo $n=\\prod_{i=1}^e\n",
    "n_i$. \n",
    "\n",
    "\n",
    "Si los módulos no son relativamente primos, cosa altamente \n",
    "improbable, podemos factorizarlos (su $mcd$ nos da el factor \n",
    "primo que comparten.)\n",
    "\n",
    "**Nota:**\n",
    "\tAl usar RSA-OAEP cada $m$ es diferente, evitando este ataque. \n",
    "\n"
   ]
  },
  {
   "cell_type": "code",
   "execution_count": 13,
   "metadata": {
    "execution": {
     "iopub.execute_input": "2022-11-07T07:52:19.869859Z",
     "iopub.status.busy": "2022-11-07T07:52:19.869392Z",
     "iopub.status.idle": "2022-11-07T07:52:23.792975Z",
     "shell.execute_reply": "2022-11-07T07:52:23.792290Z",
     "shell.execute_reply.started": "2022-11-07T07:52:19.869824Z"
    },
    "tags": []
   },
   "outputs": [
    {
     "name": "stdout",
     "output_type": "stream",
     "text": [
      "\n",
      "criptograma y módulo 1:  121479427437762063327228404400735428089714583222248565772615107862919934730540603386764809024837784333876931256546543777413189596390320480949819500535384416959629156474160269166564409008265293749393650287717636475248607830601065400242369748712547121027775840444302842439077561580486545599827216836667822300421688321606142625809584663458981815121564985562102978822869597253623477196540637135884882005466691003501288613639991907088170737894784359236180360931442531019578147895730215945983119999789341028686589891062669471366032173432897166405018614983660461443427624258988441849817727625937173875270833353426784949245338088112037458898417764430473628540433160845065841570952160517835547741281989141434308162467025566851527716497024221085860560230565714517370837803349449150845659744456715469822305474750705229833474946500325852450662719792866942471833254847866380469965136416983099314337169089446303494892765286349557573750051769079231104861438284096870151978361460369975035954734442264810481238796219537617237875535102596690946517718777035148779655360505605138962342006420016805935730493064334737970365832109928654761271642121705378004053734351983976676551153187422035442981069765892888357094775989324947688408590731143747761492208627 \n",
      " 360339748788805253887798037355643588673588010669249186909446825654146116265974465906447464012129450027728287030209564931501588117290486015619838417940926738065325904817443332300302686752015725089391206218289121380241395522768610220795006790276722444461816008914468861199991553363764414128380409295583299800861616762550086834299332269639727966844590122172273186010723659106169301126055017718107727912566627802211419138557162904298909127679389271226560798342472648172335156452985014401727095344493887285424842019477824242150589104345764782648771102343738580951118696377739670655922346504516512767627339150136093645102007969938759243827767039120116888324619301890771628467783600378198432481597838496242175447958879834355633089681687232299897181118424964631293428694855160661848986436288365305165162487114813177829876329862337801882188189154845076455081117729609222506014066573808430928055583441778521605308584277889137359874995647475921768202674830011094094747882465194938422541078118662337541299716060287678226744866841703662968980288321685185115128218957087301904741579053882336838833919034034266943969875311730349368138157936154169702007242201632435043944930010469592461676695650662531601131775861204360940780232057280915543361417623\n",
      "\n",
      "criptograma y módulo 2:  24606595512497854920614077530508921436129248782400631314530404799505563777008355672224735155541748171608368853926070637957779189270641769144020278474503252168278193321735367739446291688589520751532969689718196912729692370535372611084529613635398321632083352695025459344263267453763247468724591296108801104361234525304378838075995565996804720618937425346761318749985901107616002960003578527989001148306101671535009949575413740258772148495697796088339080824144780648875661992058646306715085591882207581353270327238396292413541666464852969691009303285261314959456894865370757269916201257454608094619825668598330141005292232946386344127247620977452195044412522101376451770445747572741804160571051543800971422652455956113906639872125150364763787964553854334348795933468193053790461076546774352106608185810292609663196637817722584873842985516871203255789131340407473122649767187809803292356823644622395112367759301500490480466716096106015412588215555732177267503275609140406527081268810876002306054741798280973708248664149170164892337660083865412818434118709931954782601273842346481805501092703819120001457130898341887203274856502448025651150669305474591533427747938082461840393741513344435638288691160441734231146077163052929825395205784 \n",
      " 50022962380535775265607917177443079510521148713878770461665822045679689110290912719824450155858294577693409502297162996652060169312884647126016000436565247450925186338386780434521841796480700678096816758743599257903602804763331199490025958938308767393672129237033545345234855844939752010662557596425741866753251584271521111976187139417556953329496716307871793225867025802961400517084469439028514096194324191381148433754777003632004311107277657230799677494817908378450071165939779454555019794433209066760585321526082962153127872073679358018276586442423471774094595420343826123594130947822637860535347127184702965094718011461358711509400400922723364271715379604415781026296368354046534341779619201668553879162906497108591762872001919122333460205805070704081123600857976200448395489581591972407490102087415560470642913509477190546505615135123495994616510314100189115637912228269421382387324788856692999025632636016352104029918109676921491020204225833836597745353673454525770560919807995285190535167371606448297523039341863531713636100512174870807138910011286064916587290296599606056924436305514497778493299688949958468469641086824460945234912766437868455127716230251314740070704903105767182531660821273224419247753636607876054246480581\n",
      "\n",
      "criptograma y módulo 3:  40710351001476038671541802023563825257097507590183194217765431935461335560985379407188423507786973616911028329929639127584023534671850757850503752126834080591503865859790601560745451936257408258670986691608996191641680049819192699978510977250828815869714842543335752588245086666119889116493097706035696933796833362773985806381249163228079163732781027980745433848922340672894890275554385427099590145029747164579856228080776226274712642016666480984862321854560714157962917752793101974676907889212226651234695649911450263628038773860955237034601650482977204245396632647611830110239392607003229597100083768267525922179876634435776863953666348414666754430460831661374088464303822397242917684330698443961827514186364344000899598068500869481619652389577901409694846688257035903062679596470322096535472072189058042920953777320986526261894680481760211082217343135876446163614357196627600500773576477220628974897682772962081512685437747216818865006416140199993115833599088784218037979232990171444195075944362372473136589420223395793523401955106108039388751057208647751622173745005694758025429175622197741928317249417989004913445471093799669192120922453966409578028064321956052491313156263412906807235064986423266012387035180239650974505216772 \n",
      " 63385757746811197753285579847011453442922972701497810327448363316166725734946768640233681447220709483896705400014700276058793093151439206615383485114298427086062920342862347506429021613681012096931071949951806058301691003282096659321562435946270770020572267410181330139370613002314989520931357910649139947305005477158671053992685335034367764427404307577557358685884223415770250855895081303014057814333137641472771632028896024233674469993389362663603871684407045265655113571720417927302006653242342182338076685718929284509094489743689008035406706157224186414813662194497481351974483880544366849634514432148036386132390073528490139898836144512791552241189085505080554297294484197078130206802515807909956590902511320035883978340795505877730129276802970057306743545101546935011051211124073925015366673162920202303911285241112897434386725189810906006138417398121606033051036338815038163327831033994372973539209388176461498280552987221255169525168317506265114421696058731884906903806911401340605514168218154609251679021082462320429064122720005086042347968092849769480145956086790766734371267389952984009323559681856853325552033016369564969680999381639076406937934706429363666856048532253884944810740666039795921435992039052522222812800861\n",
      "\n",
      "---------------- Empiezo los cálculos para descifrar------------------\n",
      "\n",
      "mensaje original= 37522263385605276845675326710109280175168752692515258322178596802386227473848875214147242571250844622058593277179418271049628321425121163259308054957703590584845558408155557731271989429708333901618633740494175504065714745984973163443903161679387208884419796310853140359101240299649487129787394383209514574391163477698327044810281215279837650706184976479602860561434167636191499953336132241289004677601883597299093063277661897668066912830169824896077845402489007534327571059687486076549003529347869167076836861002566440030182732854705880639907324536745682657439660195752112226853786631002163818627033618612599964056370261650622937360428195000382620382360282388578628160891264464693589376822121439847986281462233792960249857330586307715879841162430653175055810904946462986373081303142906671899926607551659975372082092105769044544011474225015464377892340588366976175652543418299288571995657831752476513859946811573614696581849109630708779613961968860155034139318919395086367937944250453801779182157276209476713779115262128111787019342664114704579587629438846221948908613562086506944429140152174964480206235477076908534909981149961030967344314346156738697024349224949070030897443979135645575274412270998689571675288466668446209133492132\n",
      "\n",
      "mensaje recuperado= 37522263385605276845675326710109280175168752692515258322178596802386227473848875214147242571250844622058593277179418271049628321425121163259308054957703590584845558408155557731271989429708333901618633740494175504065714745984973163443903161679387208884419796310853140359101240299649487129787394383209514574391163477698327044810281215279837650706184976479602860561434167636191499953336132241289004677601883597299093063277661897668066912830169824896077845402489007534327571059687486076549003529347869167076836861002566440030182732854705880639907324536745682657439660195752112226853786631002163818627033618612599964056370261650622937360428195000382620382360282388578628160891264464693589376822121439847986281462233792960249857330586307715879841162430653175055810904946462986373081303142906671899926607551659975372082092105769044544011474225015464377892340588366976175652543418299288571995657831752476513859946811573614696581849109630708779613961968860155034139318919395086367937944250453801779182157276209476713779115262128111787019342664114704579587629438846221948908613562086506944429140152174964480206235477076908534909981149961030967344314346156738697024349224949070030897443979135645575274412270998689571675288466668446209133492132\n",
      "\n",
      "Diferencia: 0\n",
      "\n",
      " Tiempo= 0.0004980000000038842\n"
     ]
    }
   ],
   "source": [
    "NdeBitsDelModulo=2048*2\n",
    "limite=2^(NdeBitsDelModulo/2);\n",
    "r1=randint(0,limite);\n",
    "r2=randint(0,limite);\n",
    "p1=next_probable_prime(r1);\n",
    "p2=next_probable_prime(r2);\n",
    "n1=p1*p2;\n",
    "r1=randint(0,limite);\n",
    "r2=randint(0,limite);\n",
    "p1=next_probable_prime(r1);\n",
    "p2=next_probable_prime(r2);\n",
    "n2=p1*p2;\n",
    "r1=randint(0,limite);\n",
    "r2=randint(0,limite);\n",
    "p1=next_probable_prime(r1);\n",
    "p2=next_probable_prime(r2);\n",
    "n3=p1*p2;\n",
    "\n",
    "\n",
    "Z1= IntegerModRing(n1);\n",
    "Z2= IntegerModRing(n2);\n",
    "Z3= IntegerModRing(n3);\n",
    "\n",
    "\n",
    "e=3;\n",
    "m=mod(mod(mod(randint(0,limite^2),n1),n2),n3);\n",
    "m1=Z1(m);\n",
    "m2=Z2(m);\n",
    "m3=Z3(m);\n",
    "\n",
    "cc1=m1^e; \n",
    "cc2=m2^e; \n",
    "cc3=m3^e; \n",
    "\n",
    "print(\"\\ncriptograma y módulo 1: \",cc1,'\\n', n1);\n",
    "print(\"\\ncriptograma y módulo 2: \",cc2,'\\n', n2);\n",
    "print(\"\\ncriptograma y módulo 3: \",cc3,'\\n', n3);\n",
    "\n",
    "\n",
    "c1=Integer(cc1);\n",
    "c2=Integer(cc2);\n",
    "c3=Integer(cc3);\n",
    "\n",
    "#---------------------\n",
    "#Empieza ataque\n",
    "#---------------------\n",
    "print(\"\\n---------------- Empiezo los cálculos para descifrar------------------\")\n",
    "t0=cputime()\n",
    "s=(crt(crt(c1,c2,n1,n2),c3,n1*n2,n3))^(1/e);\n",
    "t1=cputime()\n",
    "\n",
    "print(\"\\nmensaje original=\",m);\n",
    "print(\"\\nmensaje recuperado=\",s);\n",
    "print(\"\\nDiferencia:\",Integer(s)-Integer(m));\n",
    "\n",
    "print(\"\\n Tiempo=\",t1-t0)"
   ]
  },
  {
   "cell_type": "markdown",
   "metadata": {},
   "source": []
  },
  {
   "cell_type": "markdown",
   "metadata": {},
   "source": [
    "<h4><span style=\"text-decoration: underline;\">Módulo compartido:</span></h4>\n",
    "\n",
    "Una gran organización podría estar tentada de distribuir\n",
    "entre sus miembros un par de exponentes, uno público y su\n",
    "correspondiente exponente privado, y un módulo común a\n",
    "todos los usuarios, pero no los valores de los primos que lo\n",
    "componen. \n",
    "\n",
    "En esta situación podemos distinguir dos tipos de ataques,\n",
    "según su procedencia:\n",
    "\n",
    "* <em><span style=\"text-decoration: underline;\">Atacante externo</span></em>\n",
    "    Sean $c_1$ y $c_2$ los criptogramas resultantes de cifrar, con las claves públicas RSA $\\{e_1, n\\}$ y $\\{e_2, n\\}$  tales que $(e_1,e_2)=1$, un mismo mensaje $0\\leq m<n$.\n",
    "\n",
    "    Entonces, el tiempo necesario para hallar $m$ a partir de los criptogramas y las claves públicas es ${\\cal O}\\left(\\log^3(n)\\right).$\n",
    "    \n",
    "    Si $(e_1,e_2)=1$ podemos hallar $r$ y $s$ tales que $e_1 r+e_2 s=1$. Entonces\n",
    "    $$\n",
    "    c_1^rc_2^s\\equiv m^{e_1 r}m^{e_2 s} \\equiv m^{e_1 r+e_2 s}\n",
    "    \\equiv m \\mod n.\n",
    "    $$\n",
    "    Las operaciones más costosas son las exponenciaciones modulares.\n",
    "\n",
    "\n",
    "* <em><span style=\"text-decoration: underline;\">Atacante interno</span></em>\n",
    "    El conocimiento de un exponente público y su correspondiente exponente privado permite calcular los otros exponentes privados, incluso factorizar el módulo.\n",
    "\n",
    "    Sean $n$ un módulo RSA, $3\\leq e_{_A},d_{_A}<\\phi(n)$ enteros tales que $e_{_A} d_{_A}\\equiv 1 \\mod \\phi(n)$, y $3\\leq e_{_B}<\\phi(n)$ un entero tal que $(e_{_B},\\phi(n))=1$.\n",
    "\n",
    "    Busquemos un entero $\\alpha$ con las siguientes propiedades:\n",
    "    \n",
    "    - $\\alpha=k\\phi(n)$\n",
    "    \n",
    "    - $(\\alpha, e_{_B})=1$.\n",
    "\n",
    "    Entonces, por Bezout, podremos hallar $r$ y $s$ tales que $\\alpha\\,r+e_{_B}s=1$. Como $\\alpha$ es un múltiplo de $\\phi(n)$, tomando módulo $\\phi(n)$ podremos concluir que $e_{_B}s\\equiv 1\\mod\\phi(n)$.  \n",
    "\n",
    "    Definamos \n",
    "    $$\n",
    "    g_0=e_{_A} d_{_A}-1, \\hskip1cm h_0=(g_0,e_{_B}),\n",
    "    $$ \n",
    "    y recursivamente\n",
    "    $$\n",
    "    g_i=\\frac{g_{i-1}}{h_{i-1}}, \\hskip1cm h_i=(g_i, e_{_B}).\n",
    "    $$\n",
    "    Notemos que $g_i$ siempre es entero ya que $h_{i-1}$ es un divisor de $g_{i-1}$. Sea $t$ el menor entero tal que $h_t=1$, (observemos que si $h_k\\neq 1$ entonces $h_k\\geq 2$ y $g_{k+1}\\leq g_{k}/2$ y, por lo tanto, en un número de pasos del orden de $\\log e_{_A} d_{_A}-1$ tendremos que alguna $h_j$    será 1.)\n",
    "\n",
    "    Tal como hemos tomado $t$,  $h_t=1$ y, por lo tanto, $(g_t, e_{_B})=1$. Por otra parte $g_t=(e_{_A} d_{_A}-1)/h_0\\ldots h_{t-1}= \\lambda\\phi(n)/h_0 \\ldots h_{t-1}$;     como $h_i=(g_i, e_{_B})$ y $(\\phi(n), e_{_B})=1$ tenemos que ningún $h_i$ divide a $\\phi(n)$ y, por lo tanto, que todos los $h_i$ dividen a $\\lambda$. En consecuencia, $g_t$ es un múltiplo de $\\phi(n)$ (por la misma razón, no puede ser igual a 1).\n",
    "\n",
    "    Resumiendo, $g_t$ cumple los requisitos pedidos para $\\alpha$.\n",
    "\n",
    "    El coste para hallar un entero $d_{_B}$ tal que $e_{_B} d_{_B}\\equiv 1 \\mod \\phi(n)$ es ${\\cal O}\\left(\\log^3(n)\\right)$.\n"
   ]
  },
  {
   "cell_type": "code",
   "execution_count": 29,
   "metadata": {
    "execution": {
     "iopub.execute_input": "2021-11-02T15:37:27.444873Z",
     "iopub.status.busy": "2021-11-02T15:37:27.444495Z",
     "iopub.status.idle": "2021-11-02T15:37:27.580840Z",
     "shell.execute_reply": "2021-11-02T15:37:27.580341Z",
     "shell.execute_reply.started": "2021-11-02T15:37:27.444841Z"
    }
   },
   "outputs": [
    {
     "name": "stdout",
     "output_type": "stream",
     "text": [
      "(1, -8, 30841)\n",
      "mensaje original= 66516970071248718081454445740202013103573498812121803202976239295446500793915697946963977227069812341005685949257037361261483841337215824846482174781286180276638898679991540551471033013613117680859555652288493315644307387467351658559010292515376276338414222505327848876934890925746328170220176907128385894781\n",
      "mensaje recuperado= 66516970071248718081454445740202013103573498812121803202976239295446500793915697946963977227069812341005685949257037361261483841337215824846482174781286180276638898679991540551471033013613117680859555652288493315644307387467351658559010292515376276338414222505327848876934890925746328170220176907128385894781\n",
      "\n",
      " Tiempo= 0.00043099999999896\n"
     ]
    }
   ],
   "source": [
    "NdeBitsDelModulo=2048;\n",
    "limite=2^(NdeBitsDelModulo/2);\n",
    "r1=randint(0,limite);\n",
    "r2=randint(0,limite);\n",
    "p=next_probable_prime(r1);\n",
    "q=next_probable_prime(r2); \n",
    "n=p*q;\n",
    "\n",
    "e1=2^16+1;\n",
    "e2=2^4+1;\n",
    "\n",
    "\n",
    "\n",
    "m=mod(randint(0,limite),n);\n",
    "c1=mod(m^e1,n);\n",
    "c2=mod(m^e2,n);\n",
    "\n",
    "#---------------------\n",
    "#Empieza ataque\n",
    "#---------------------\n",
    "t0=cputime()\n",
    "bezout=xgcd(e1,e2)\n",
    "print(bezout)\n",
    "m_rec=mod(mod(c1^bezout[1],n)*mod(c2^bezout[2],n),n)\n",
    "t1=cputime()\n",
    "\n",
    "print(\"mensaje original=\",m);\n",
    "print(\"mensaje recuperado=\",m_rec);\n",
    "print(\"\\n Tiempo=\",t1-t0)"
   ]
  },
  {
   "cell_type": "code",
   "execution_count": 39,
   "metadata": {
    "execution": {
     "iopub.execute_input": "2021-11-02T15:38:56.608350Z",
     "iopub.status.busy": "2021-11-02T15:38:56.607968Z",
     "iopub.status.idle": "2021-11-02T15:38:56.760001Z",
     "shell.execute_reply": "2021-11-02T15:38:56.759395Z",
     "shell.execute_reply.started": "2021-11-02T15:38:56.608321Z"
    }
   },
   "outputs": [
    {
     "name": "stdout",
     "output_type": "stream",
     "text": [
      "g, h:  23864168792672015547422812474658177427066943598566277750478544088673769466102106195405315958867699196603779125541980533420673848622066875856543948043542723758179389177792889003790077434832228380331760197266828982707865762599250649704546484753015000041985726874479789085685121817822658763994350709620391333803436912593555192873828513608832185814637602902315218846618346797883976523233494225283994062036843463918780804517093037254741218139588989429337405731310501230456345529888987170037414031081532982459766154648257127404229712309768880056561686447619839255100839190912781812075506084861534616271562273253103872014398400 1\n",
      "\n",
      "mensaje original= 87280226696781622849332124049654555476666749277941678195668029352200232050767593129431458039468800967225859287093534699035019243639495008420630771629571249773911173814385761924987706634911088215583717106306008330577287279480854157684268636514680130816962583894376899882812683633392163490957507130042390661910\n",
      "\n",
      "mensaje recuperado= 87280226696781622849332124049654555476666749277941678195668029352200232050767593129431458039468800967225859287093534699035019243639495008420630771629571249773911173814385761924987706634911088215583717106306008330577287279480854157684268636514680130816962583894376899882812683633392163490957507130042390661910\n",
      "\n",
      " Tiempo= 0.013866999999997631\n"
     ]
    }
   ],
   "source": [
    "NdeBitsDelModulo=2048;\n",
    "limite=2^(NdeBitsDelModulo/2);\n",
    "r1=randint(0,limite);\n",
    "r2=randint(0,limite);\n",
    "p=next_probable_prime(r1);\n",
    "q=next_probable_prime(r2);\n",
    "n=p*q;\n",
    "phi=(p-1)*(q-1);\n",
    "\n",
    "e1=2^16+1;\n",
    "d1=Integer(mod(e1^-1,phi));\n",
    "\n",
    "e2=2*randint(0,limite)+1;\n",
    "while gcd(e2,phi)!=1:\n",
    "    e2=2*randint(0,limite)+1;\n",
    "    \n",
    "    \n",
    "#---------------------\n",
    "#Empieza ataque\n",
    "#---------------------\n",
    "t0=cputime()\n",
    "g=e1*d1-1;\n",
    "h=gcd(g,e2);\n",
    "print(\"g, h: \", g,h);\n",
    "while h!=1:\n",
    "    g=g/h;\n",
    "    h=gcd(g,e2);\n",
    "    print(\"g, h: \", g,h);\n",
    "\n",
    "bezout=xgcd(e2,g);\n",
    "\n",
    "d2=bezout[1];\n",
    "\n",
    "\n",
    "\n",
    "m=mod(randint(0,limite),n);\n",
    "c2=mod(m^e2,n);\n",
    "m_rec=mod(c2^d2,n)\n",
    "t1=cputime()\n",
    "\n",
    "\n",
    "print(\"\\nmensaje original=\",m)\n",
    "print(\"\\nmensaje recuperado=\",m_rec)\n",
    "print(\"\\n Tiempo=\",t1-t0)"
   ]
  },
  {
   "cell_type": "markdown",
   "metadata": {},
   "source": []
  },
  {
   "cell_type": "markdown",
   "metadata": {},
   "source": [
    "<h4><span style=\"text-decoration: underline;\">Timing / Power attacks</span></h4>\n",
    "\n",
    "Para calcular  $a^m \\pmod n$, $a$, $m>0$ i $n>0$ enteros, se considera a expressión del exponente en base 2, $m=b_r2^r+\\dots+b_12+b_0$, donde $b_i\\in\\{ 0,1\\}$  y $b_r=1$, y se usa el siguiente algoritmo: \n",
    "\n",
    "```python\n",
    "y=1\n",
    "i=r\n",
    "while i >=0:\n",
    "    y=(y**2)%n\n",
    "    if b[i]==1:\n",
    "        y=(a*y)%n\n",
    "    i=i-1\n",
    "return y\n",
    "```\n",
    "\n",
    "Este algoritmo consume en cada iteración más tiempo/energía si el bit del exponente es 1 que si es 0. Mediante un análisis estadístico del tiempo/energía consumido es posible calcular\n",
    "el exponente:\n",
    "\n",
    "![Sin modificación](PowerAttacks1.png)\n",
    "\n",
    "Para evitar este ataque se puede utilizar el método de Montgomery\n",
    "para la exponenciación (Montgomery Powering Ladder):\n",
    "\n",
    "```python\n",
    "R0=R1=1\n",
    "i=r\n",
    "while i >=0:\n",
    "    if b[i]==0:\n",
    "        R1=(R0*R1)%n\n",
    "        R0=(R0**2)%n\n",
    "    else:\n",
    "        R0=(R0*R1)%n\n",
    "        R1=(R1**2)%n \n",
    "    i=i-1\n",
    "return R0\n",
    "```\n",
    "\n",
    "\n",
    "Este algoritmo consume en cada iteración el mismo tiempo/energía \n",
    "independientemente del valor del bit del exponente:\n",
    "\n",
    "![Con modificación](PowerAttacks2.png)\n",
    "\n",
    "\n",
    "No es difícil comprobar que son equivalente observando que siempre se cumple que $R_1=a\\, R_0$.\n",
    "\n",
    "\n",
    "A veces es difícil evitar estos tipos de ataques porque los compiladores, al optimizar el código pueden dejar sin efectos las medidas tomadas para evitar los ataques.\n",
    "\n",
    "[What you get is what you C: Controlling side effects in mainstream C compilers](https://www.cl.cam.ac.uk/~rja14/Papers/whatyouc.pdf), L. Simon, D. Chisnall, R. Anderson:\n",
    "\n",
    "*But when a programmer tries to control side effects of \n",
    "code, such as to make a cryptographic algorithm execute\n",
    "in constant time, the problem remains. Programmers devise\n",
    "complex tricks to obscure their intentions, but compiler\n",
    "writers find ever smarter ways to optimize code. \n",
    "A compiler upgrade can suddenly and without warning open a\n",
    "timing channel in previously secure code. This arms race\n",
    "is pointless and has to stop.*\n",
    "\n",
    "\n",
    "\n",
    "\n",
    "\n"
   ]
  },
  {
   "cell_type": "markdown",
   "metadata": {},
   "source": []
  },
  {
   "cell_type": "markdown",
   "metadata": {},
   "source": [
    "<h4><span style=\"text-decoration: underline;\">Criptograma escogido (reto-respuesta)</span></h4>\n",
    "\n",
    "\n",
    "Supongamos que un atacante desea descifrar un criptograma  $c\\equiv m^e \\mod n$ cifrado con la clave pública de $A$.\n",
    "\n",
    "El atacante elige un entero aleatorio $k$ y calcula $\\tilde{c}\\equiv c k^e \\mod n$. Se pone en contacto con $A$ y le pide que descifre/firme $\\tilde{c}$ para que demuestre su identidad. \n",
    "\n",
    "$A$ calculará\n",
    "$$\n",
    "\\tilde{c}^d\\equiv  (c k^e)^d \\equiv  (m^e)^d k \\equiv m\\,k \\mod n\n",
    "$$\n",
    "y enviará $m\\,k$ al atacante que sólo tendrá que multiplicar por $k^{-1}\\mod n$ para obtener el mensaje $m$.\n",
    "\n",
    "\n",
    "**Nota:**\n",
    "\tAl usar RSA-OAEP cada $m$ tiene una estructura determinada que si se comprueba que es correcta evita este ataque. \n"
   ]
  },
  {
   "cell_type": "markdown",
   "metadata": {},
   "source": []
  },
  {
   "cell_type": "markdown",
   "metadata": {},
   "source": [
    "<h4><span style=\"text-decoration: underline;\">Insuficiente Control de formato</span></h4>\n",
    "\n",
    "[Bleichenbacher's RSA signature forgery based on implementation error, 2006](https://www.ietf.org/mail-archive/web/openpgp/current/msg00999.html)\n",
    "\n",
    "[PKCS\\#1 Signature Validation](https://www.imperialviolet.org/2014/09/26/pkcs1.html)\n",
    "\n",
    "Suponganos que para firmar un mensaje el formato de los\n",
    "datos a firmar es:\n",
    "\n",
    "`0x00 0x01 0xFF ... 0xFF 0x00 ||  ASN.1 hash del mensaje`\n",
    "\n",
    "La codificación ASN.1 lleva el tamaño del hash. Algunas implementaciones\n",
    "no comprueban que tras el hash del mensaje no hay nada más. Esto permite\n",
    "construir un mensaje a firmar con la siguiente estructura:\n",
    "\n",
    "`0x00 0x01 0xFF ... 0xFF 0x00 || ASN.1 hash || bytes elegidos oportunamente`\n",
    "\n",
    "de forma que sea un cubo exacto (fácil de calcular, no es fácil calcular raíces módulo $n$). \n",
    "\n",
    "La raíz cúbica pasaría como firma válida de cualquiera que tenga un exponente público igual a 3 y módulo suficientemente grande (el número de bits elegidos oportunamente \n",
    "será ligeramente mayor que 2/3, si el exponente es 3, del número de bits del módulo, por lo tanto `0x00 0x01 0xFF ... 0xFF 0x00 ||  ASN.1 hash del mensaje`\n",
    "ha de tener algo menos de 1/3 del número de bits del módulo) \n",
    "ya que al calcular el cubo (verificar la firma) obtendría el hash correcto de la codificación ASN.1 pero no comprobaría que detrás de ella hay más bits.  \n"
   ]
  },
  {
   "cell_type": "code",
   "execution_count": 40,
   "metadata": {
    "execution": {
     "iopub.execute_input": "2021-11-02T15:52:16.526509Z",
     "iopub.status.busy": "2021-11-02T15:52:16.526136Z",
     "iopub.status.idle": "2021-11-02T15:52:16.543767Z",
     "shell.execute_reply": "2021-11-02T15:52:16.543280Z",
     "shell.execute_reply.started": "2021-11-02T15:52:16.526476Z"
    }
   },
   "outputs": [
    {
     "name": "stdout",
     "output_type": "stream",
     "text": [
      "Tipo de Hash: 160160\n",
      "Hash del Mensaje: 00112233445566778899AABBCCDDEEFF00112233\n",
      "A firmar:\n",
      "0001ffffffffffffffffffffffffffffffffffffffffffffffffffffffffffffffffffffffffffffffffffffffffffffffffffffffffffffffffffffffffffffffffffffffffffffffffffffffffffffffffffffffffffffffffffffffffffffffffffffffffffffffffffffffffffffffffffffffffffffffffffffffffffffffffffffffffffffffffffffffffffffffffffffffffffffffffffffffffffffffffffffffffffffffffffffffffffffffffffffffffffffffffffffffffffffffffffffffffffffffffffffffffffffffffffffffffffffffffffffffffffffffffffffffffffff0016016000112233445566778899AABBCCDDEEFF00112233 \n",
      "\n",
      "Falsificando firma:\n",
      "0000x1ffffffffffff0016016000112233445566778899aabbccddeeff001122330000000000000000000000000000000000000000000000000000000000000000000000000000000000000000000000000000000000000000000000000000000000000000000000000000000000000000000000000000000000000000000000000000000000000000000000000000000000000000000000000000000000000000000000000000000000000000000000000000000000000000000000000000000000000000000000000000000000000000000000000000000000000000000000000000000000000000000000000000000000000000000000000000000000000000\n",
      "Firma: 0x32cbfd4a7adc708ec61e63ad7c16cd97e8f8a94dc1ead3b4e51efd4e83f4fac4ac7ed1ddd2a9252fa55314265c80438830736be3b17193eedd081f196328f4759b8653cbc57e7cf5fb1fcafe5b173499cb279368af \n",
      "\n",
      "'Hash' del Mensaje recuperado a partir de la Firma: 0001ffffffffffff0016016000112233445566778899aabbccddeeff00112233000000000000000000000000000000000000000000000000000000000000000000000000000000000000000000000000000000000000007ca91e387ded1d605a4684d92c97ffd81dcf20523353d666703528e4d770b7fa7584bb13bc47bbbea454caf03c0928c153c360e9beb795a25c96f1c86cca78a844d92c3530442227a2861b31cfa7495b200ddf8c9c7baa4a0309e0f43dc38674d545a7745562beb0017c2e4517a1680ebbb63d8fb1cb9f3ee93143b7beb6a32e6cfe0270ba684943caa802b235d96349e81d76c9c6c8a9fb2be14310455dc59cde8bfa087290b6ff0f \n",
      "\n",
      "160160\n",
      "Tipo de Hash recuperado: 160160 \n",
      "\n",
      "Hash del Mensaje recuperado= 00112233445566778899aabbccddeeff00112233 \n",
      "\n",
      "Firma correcta? True \n",
      "\n"
     ]
    }
   ],
   "source": [
    "nbits=2048\n",
    "tipoHash=\"160160\"\n",
    "hash=\"00112233445566778899AABBCCDDEEFF00112233\"\n",
    "print (\"Tipo de Hash:\",tipoHash)\n",
    "print( \"Hash del Mensaje:\", hash)\n",
    "print( \"A firmar:\"),\n",
    "m=\"00\"+\"01\"+(nbits/8-1-1-(len(tipoHash)+len(hash))/2-1)*\"ff\"+\"00\"+tipoHash+hash\n",
    "print( m,\"\\n\")\n",
    "\n",
    "print( \"Falsificando firma:\")\n",
    "c=Integer(\"0001FFFFFFFFFFFF00\"+tipoHash+hash,16)\n",
    "d=c*2^(nbits-256);\n",
    "print(\"000\"+hex(d)),\"\\n\"\n",
    "c1=(floor(d^(1/3))+1)^3\n",
    "f=c1^(1/3)\n",
    "\n",
    "print( \"Firma:\",hex(Integer(f)),\"\\n\")\n",
    "\n",
    "mensajeRecuperado=hex(Integer(f^3))[2:]\n",
    "print( \"'Hash' del Mensaje recuperado a partir de la Firma:\",\"000\"+mensajeRecuperado,\"\\n\")\n",
    "\n",
    "\n",
    "for i in range(1,len(mensajeRecuperado)):\n",
    "    if mensajeRecuperado[i]!=\"f\":\n",
    "        break\n",
    "tipoHashRecuperado=mensajeRecuperado[i+2:i+2+6]                \n",
    "print(tipoHashRecuperado)\n",
    "\n",
    "longitudHash=Integer(Integer(mensajeRecuperado[i+2:i+2+3])/4)\n",
    "hashRecuperado=mensajeRecuperado[i+2+6:i+2+6+longitudHash]\n",
    "\n",
    "print( \"Tipo de Hash recuperado:\",tipoHashRecuperado,\"\\n\")\n",
    "print( \"Hash del Mensaje recuperado=\",hashRecuperado,\"\\n\")\n",
    "print( \"Firma correcta?\", Integer(hash,16)==Integer(hashRecuperado,16),\"\\n\")"
   ]
  },
  {
   "cell_type": "markdown",
   "metadata": {},
   "source": []
  },
  {
   "cell_type": "markdown",
   "metadata": {},
   "source": [
    "<h4><span style=\"text-decoration: underline;\">Error provocado</span></h4>\n",
    "\n",
    "[D. Boneh, R.A. DeMillo, and R.J. Lipton. *On the Importance of Checking Cryptographic Protocols for Faults*, EUROCRYPT 1997](https://pdfs.semanticscholar.org/7622/200b9459a8c0e25e74ce7316c2402862e919.pdf)\n",
    "\n",
    "Supongamos un dispositivo que calcula una firma utilizando el teorema chino al que inducimos a que, una vez calculada correctamente la firma módulo $p$, cometa un error al calcular la firma módulo $q$. \n",
    "\n",
    "El dispositivo devolverá una firma $S$ correcta módulo $p$ pero incorrecta módulo $q$.\n",
    "Entonces \n",
    "$$\n",
    "p=\\textrm{mcd}(n,S^e-m)\n",
    "$$\n",
    "siendo $m$ el mensaje firmado.\n",
    "\n"
   ]
  },
  {
   "cell_type": "code",
   "execution_count": 47,
   "metadata": {
    "execution": {
     "iopub.execute_input": "2021-10-25T17:08:19.286012Z",
     "iopub.status.busy": "2021-10-25T17:08:19.285462Z",
     "iopub.status.idle": "2021-10-25T17:08:20.406109Z",
     "shell.execute_reply": "2021-10-25T17:08:20.405456Z",
     "shell.execute_reply.started": "2021-10-25T17:08:19.285958Z"
    }
   },
   "outputs": [
    {
     "name": "stdout",
     "output_type": "stream",
     "text": [
      "\n",
      "m= 69699065438169686856413415077051604096234213275187496450925675520237368461804029704981735070410143800224546772219533797189252239221559731983375917447137526976253315329798710824155896345605432642050895902970883770001610664822416704645206227727854856901535768362559205220213659956614196376711377134011389900901537540754403685271617717882477536023667104794895925917523681098745867727390069466393082579847187087747963472570091144660475144156437271513124363317166861476377979938521719035200650125586711166315094075831951882521132003199218195370202447255027688313139575034211364432329554568600183115730731170442728536443337062685253277741962683061059098050386979866040267029950208793098062056973589770674309305912084393409836186840755870777673055932112486506459088041703458085442316183338164065085051391604149470532852990768820255277575264213393417235224562256239170662938901141543246195545676989113894416961491833275245647063378312512957613293557672918428602899915524218503643994305834597277450306460992574679738224067025758269709865950883115356049921794064706731106675728283704928063955496102263785122217424479318263646120095292762838745435009661396731467052454011929335999758824852342209534341613164432459376603845282524093645880392971\n",
      "\n",
      "firma erronea= 50293179118204374421866469545861278478093573321149050165615291451209273785357650052763493028047835370442078417070534360503168411486006192515189580601287753473514963642919466622194328962102217883298367826183835546891983730248986859178883178528713663638955088102625165553993464884774979476018547997497004141504493674185588913377033017502931986580690626967352839110657645794826728292608770733512784997936446361680749496159299699801819526779833181772334738085199538647830602123151950952498153681062047466290781663992785312589668806904890819775319255401798641084380612000723840791418511803357940885511466904659149410403279757121989555776033012484208487872921284124954417424031092637443097408202107146572807195436919555564387644683434409230336794781520415742357728446497139449726076233594252366419963678758313836371660982230784687192735052376154732720451790567432638997982375523638144043324950657622417790557095154349826620484348325810714312275167506040334415943872962705695283396389845272009120198749042805488912806789454087825058202890689125326701296702434611040702371210960979970402533573605615476532701854565302621439017282410283067744523341026627281530450074580803248355560613438534694317868380066733108410280982480329841998838458692\n",
      "\n",
      "primo calculado: 4658633618817335993392315353254485841859187867669925665395329056332223393284756587129516047780099578418767364353693920435365054217011783663026434235368972017143731956627476484030528806688832059844512160490759423085506790449802578526973676480629776625420243161858813530017844682724020179525583701651031760846863418794054078016030401859282592352310066085603447713385729015575772932087585088679598210847791044878948475139672031017591327772237496834413848513903583329945453456820901579328206588026958870244135549159302606942265001729288824573663099769871979418572163890940548830787694930147759763600712647798812257575951\n",
      "p - primo calculado: 0\n",
      "\n",
      " Tiempo= 0.0006940000000099644\n"
     ]
    }
   ],
   "source": [
    "NdeBits=2048*2; # bits del módulo\n",
    "\n",
    "e=2^16+1;\n",
    "\n",
    "r1=randint(0,2^(NdeBits/2));\n",
    "r2=randint(0,2^(NdeBits/2));\n",
    "p=next_probable_prime(r1);\n",
    "while gcd(e,p-1)!=1:\n",
    "    print( \".\");\n",
    "    p=next_probable_prime(p+2);\n",
    "q=next_probable_prime(r2);\n",
    "while gcd(e,q-1)!=1:\n",
    "    print( \"+\");\n",
    "    q=next_probable_prime(q+2);\n",
    "n=p*q;\n",
    "phi=(p-1)*(q-1);\n",
    "d=mod(e^-1,phi);\n",
    "dp=mod(d,p-1);\n",
    "dq=mod(d,q-1);\n",
    "q_inv=mod(q^-1,p);\n",
    "\n",
    "#print( \"p=\",p);\n",
    "#print( \"q=\",q);\n",
    "#print \"n=\",n;\n",
    "#print \"e=\",e;\n",
    "#print \"d=\",d;\n",
    "#print \"dp=\",dp;\n",
    "#print \"dq=\",dq;\n",
    "#print \"q_inv=\",q_inv;\n",
    "\n",
    "m=mod(randint(0,2^NdeBits),n);\n",
    " \n",
    "m_aux=mod(m,p); #Necesario para que trabaje en Zp, si no tarda mucho\n",
    "fp=mod(m_aux^dp,p); \n",
    "\n",
    "fq=mod(randint(0,2^NdeBits),q); #Aleatorio, error provocado <---------------------------\n",
    "\n",
    "h=mod((Integer(fp)-Integer(fq))*(q_inv),n);\n",
    "f_erronea=mod((Integer(fq)+q*h),n);\n",
    "\n",
    "f_correcta=mod(m^d,n);\n",
    "\n",
    "\n",
    "print(\"\\nm=\",m)\n",
    "print(\"\\nfirma erronea=\",f_erronea)\n",
    "#print(\"firma correcta=\",f_correcta)\n",
    "\n",
    "#-----------Empiezo factorizacion-----------\n",
    "t0=cputime()\n",
    "aux=mod(f_erronea^e,n)-m;\n",
    "primo=gcd(aux,n);\n",
    "print(\"\\nprimo calculado:\",primo)\n",
    "print(\"p - primo calculado:\", p-primo)\n",
    "t1=cputime()\n",
    "print(\"\\n Tiempo=\",t1-t0)"
   ]
  },
  {
   "cell_type": "markdown",
   "metadata": {},
   "source": []
  },
  {
   "cell_type": "markdown",
   "metadata": {},
   "source": [
    "<h4><span style=\"text-decoration: underline;\">Primos no aleatorios</span></h4>\n",
    "\n",
    "\n",
    "* [Ron was wrong, Whit is right. (14 Feb 2012)](https://eprint.iacr.org/2012/064.pdf)\n",
    "\tWe performed a sanity check of public keys collected on the web. Our main goal was to test the validity of the assumption that different random choices are made each time keys are generated. We found that the vast majority of public keys work as intended. A more disconcerting finding is that **two out of every one thousand RSA moduli that we collected offer no security.**\n",
    "    \n",
    "\tOur conclusion is that the validity of the assumption is questionable and that generating keys in the real world for ''multiple-secrets''  cryptosystems such as RSA is significantly riskier than for ''single-secret'' ones such as ElGamal or (EC)DSA which are based on Diffie-Hellman. \n",
    "    \n",
    "    *Factoring one 1024-bit RSA modulus would be historic. Factoring 12720 such moduli is a statistic.*\n",
    "\n",
    "\n",
    "* [Widespread Weak Keys in Network Devices (2012)](https://factorable.net/)\n",
    "    We found that 5.57\\% of TLS hosts and 9.60\\% of SSH hosts share public keys in an apparently vulnerable manner, due to either insufficient randomness during key generation or device default keys.\n",
    "\n",
    "    We were able to remotely obtain the RSA private keys for 0.50\\% of TLS hosts and 0.03\\% of SSH hosts because their public keys shared nontrivial common smallfactors due to poor randomness.\n",
    "\n",
    "    We were able to remotely obtain the DSA private keys for 1.03\\% of SSH hosts due to repeated signature randomness.\n",
    "\n",
    "\n",
    "\n",
    "\n",
    "* [Factoring RSA keys from certified smart cards: Coppersmith in the wild (2013)](https://smartfacts.cr.yp.to/smartfacts-20130916.pdf) \n",
    "\n",
    "    This paper explains how an attacker can efficiently factor 184 distinct RSA keys out of more than two million 1024-bit RSA keys downloaded from Taiwan’s national “Citizen Digital Certificate” database. These keys were generated by government-issued smart cards that have built-in hardware random-number generators and that are advertised as having passed FIPS 140-2 Level 2 certification.\n",
    "\n",
    "    These 184 keys include 103 keys that share primes and that are efficiently factored by a batch-GCD computation. This is the same type of computation that was used last year by two independent teams (USENIX Security 2012: Heninger, Durumeric, Wustrow, Halderman; Crypto 2012: Lenstra, Hughes, Augier, Bos, Kleinjung, Wachter) to factor tens of thousands of cryptographic keys on the Internet.\n",
    "\n",
    "    The remaining 81 keys do not share primes. Factoring these 81 keys requires taking deeper advantage of randomness-generation failures: first using the shared primes as a springboard to characterize the failures, and then using Coppersmith-type partial-key-recovery attacks. This is the first successful public application of Coppersmith-type attacks to keys found in the wild.\n",
    "\n"
   ]
  },
  {
   "cell_type": "markdown",
   "metadata": {},
   "source": []
  },
  {
   "cell_type": "markdown",
   "metadata": {},
   "source": [
    "---\n",
    "## Recomendaciones\n",
    "\n",
    "\n",
    "\n",
    "* El tamaño de $p$ y $q$ debe de ser de unos 1576 bits y el de $n$ no debe ser inferior a 3072 bits, recomendándose módulos de tamaño mayor.\n",
    "    \n",
    "* $\\vert p-q\\vert \\approx p$.\n",
    "\n",
    "* $p$ y $q$ deben ser primos fuertes. $p$ es primo fuerte si es primo y además:\n",
    "    - $p-1$ tiene un factor primo grande, $r$;\n",
    "    - $p+1$ tiene un factor primo grande; \n",
    "    - $r-1$ tiene un factor primo grande.\n",
    "\n",
    "* No hay que compartir módulo.\n",
    "\n",
    "* El exponente público no debe ser excesivamente pequeño (17 bits como mínimo) y *reconocible*. \n",
    "  \n",
    "* Una clave sólo ha de tener un uso (cifrado, firma, autentificación...)\n",
    "\n"
   ]
  },
  {
   "cell_type": "markdown",
   "metadata": {},
   "source": []
  },
  {
   "cell_type": "markdown",
   "metadata": {},
   "source": [
    "<h3>Generación de primos fuertes $p$</h3>\n",
    "<p>(1) $p$-1 divisor primo grande $r$ (~1/2 de bits que $p$)</p>\n",
    "<p>(2) $p$+1 divisor primo grande $s$ (~1/4 de bits que $p$)</p>\n",
    "<p>(3) $r$-1 divisor primo grande $t$ (~1/4 de bits que $p$)</p>\n",
    "<p>Primero genero $t$ y $s$.</p>\n",
    "<p>$r=2\\,k\\, t+1$, me aseguro la condición (3)</p>\n",
    "<p>$p_0=2\\, s\\,s_1-1$,  $s_1$ es el inverso de $s$ módulo $r$</p>\n",
    "<p>$p=p_0+2\\,k\\,r\\,s$.</p>\n",
    "<p>Observemos que $p+1=2\\,s\\, s_1+2\\,k\\,r\\,s$.</p>\n",
    "<p>Notemos que $p-1=2\\,s\\,s_1-2+2\\,k\\,r\\, s = 2(s\\,s_1-1+k\\,r\\,s)$, si tomamos módulo $r$, teniendo en cuenta que $s_1$ es el inverso de $s$ módulo $r$ nos queda que $p-1\\equiv 0\\mod r$. Por lo tanto $p-1$ es un múltiplo de $r$.</p>\n",
    "\n",
    "\n",
    "\n",
    "<p><em>p 1024 bits ~ 5 segundos</em></p>\n",
    "<p><em>p 2048 bits ~ 50-90 segundos</em></p>\n",
    "<p><em><br /></em></p>"
   ]
  },
  {
   "cell_type": "code",
   "execution_count": 2,
   "metadata": {
    "ExecuteTime": {
     "end_time": "2020-10-27T11:40:39.763886Z",
     "start_time": "2020-10-27T11:40:39.652231Z"
    },
    "execution": {
     "iopub.execute_input": "2021-11-16T14:42:50.350984Z",
     "iopub.status.busy": "2021-11-16T14:42:50.350465Z",
     "iopub.status.idle": "2021-11-16T14:42:56.349575Z",
     "shell.execute_reply": "2021-11-16T14:42:56.348981Z",
     "shell.execute_reply.started": "2021-11-16T14:42:50.350937Z"
    }
   },
   "outputs": [
    {
     "name": "stdout",
     "output_type": "stream",
     "text": [
      "t= 55422738056754204263126397665141992249107281459078793481252739504739988195957\n",
      "s= 103982484281716666827692197151797662678552424374779563935945641918877995737913\n",
      "r= 3533209642544815673720249271321188073431632183292520929124913898520245920845900644942629510431881801723322686419574125819633752489162291445700216141314483\n",
      "\n",
      "p= 63582440097135859778128227410059462886248201215778686081823861222937015595725105951466260683161680753764301477924261977276525618364678669125014917763200093392685594044306837313959620288523825640197109325560545065507590728932576332346184386087490678783555969022456204661865149483696676574229880847921436575971\n",
      "\n",
      " Tiempo= 2.6382829999999995\n",
      "0 True\n",
      "0 True\n",
      "0 True\n",
      "True\n"
     ]
    }
   ],
   "source": [
    "NdeBitsDelPrimoFuerte=1024*1;\n",
    "NdeBitsDelPrimo=NdeBitsDelPrimoFuerte/4;\n",
    "aux=randint(0,2^NdeBitsDelPrimo);\n",
    "t=next_probable_prime(aux);\n",
    "print(\"t=\",t, flush=True)\n",
    "\n",
    "aux=randint(0,2^NdeBitsDelPrimo);\n",
    "s=next_probable_prime(aux);\n",
    "print(\"s=\",s, flush=True)\n",
    "\n",
    "aux=randint(0,2^(NdeBitsDelPrimo));\n",
    "r=aux*2*t+1;\n",
    "while not(is_prime(r)):\n",
    "    aux=aux+1;\n",
    "    r=aux*2*t+1;\n",
    "print(\"r=\",r, flush=True)\n",
    "\n",
    "t0 = cputime()\n",
    "\n",
    "p0= 2*s*(s.powermod(r-2,r)) -1;\n",
    "aux=randint(0,2^(NdeBitsDelPrimo));\n",
    "p=p0+aux*2*r*s;\n",
    "while not(is_prime(p)):\n",
    "    aux=aux+1\n",
    "    p=p0+aux*2*r*s;\n",
    "print(\"\\np=\",p, flush=True)\n",
    "\n",
    "t1=cputime()\n",
    "print(\"\\n Tiempo=\",t1-t0)\n",
    "\n",
    "print(mod(p-1,r), is_prime(r));\n",
    "print(mod(p+1,s), is_prime(s));\n",
    "print(mod(r-1,t), is_prime(t));\n",
    "print(is_prime(p));"
   ]
  },
  {
   "cell_type": "code",
   "execution_count": null,
   "metadata": {},
   "outputs": [],
   "source": []
  },
  {
   "cell_type": "code",
   "execution_count": null,
   "metadata": {},
   "outputs": [],
   "source": []
  },
  {
   "cell_type": "code",
   "execution_count": null,
   "metadata": {},
   "outputs": [],
   "source": []
  },
  {
   "cell_type": "code",
   "execution_count": null,
   "metadata": {},
   "outputs": [],
   "source": []
  },
  {
   "cell_type": "code",
   "execution_count": null,
   "metadata": {},
   "outputs": [],
   "source": []
  },
  {
   "cell_type": "code",
   "execution_count": null,
   "metadata": {},
   "outputs": [],
   "source": []
  },
  {
   "cell_type": "code",
   "execution_count": null,
   "metadata": {},
   "outputs": [],
   "source": []
  },
  {
   "cell_type": "code",
   "execution_count": null,
   "metadata": {},
   "outputs": [],
   "source": []
  },
  {
   "cell_type": "code",
   "execution_count": null,
   "metadata": {},
   "outputs": [],
   "source": []
  },
  {
   "cell_type": "code",
   "execution_count": null,
   "metadata": {},
   "outputs": [],
   "source": []
  },
  {
   "cell_type": "code",
   "execution_count": null,
   "metadata": {},
   "outputs": [],
   "source": []
  },
  {
   "cell_type": "code",
   "execution_count": null,
   "metadata": {},
   "outputs": [],
   "source": []
  },
  {
   "cell_type": "code",
   "execution_count": null,
   "metadata": {},
   "outputs": [],
   "source": []
  },
  {
   "cell_type": "code",
   "execution_count": null,
   "metadata": {},
   "outputs": [],
   "source": []
  },
  {
   "cell_type": "markdown",
   "metadata": {},
   "source": [
    "<h3>Primos dependientes</h3>\n",
    "\n",
    "<p>Defino mi propia función raíz por que la se SAGE no funciona siempre con enteros. Si la raíz es entera devuelve su valor, si no lo es devuelve 0.5</p>"
   ]
  },
  {
   "cell_type": "code",
   "execution_count": 14,
   "metadata": {
    "ExecuteTime": {
     "end_time": "2020-10-27T11:56:27.886478Z",
     "start_time": "2020-10-27T11:56:27.859832Z"
    },
    "execution": {
     "iopub.execute_input": "2021-09-16T09:57:09.463723Z",
     "iopub.status.busy": "2021-09-16T09:57:09.463365Z",
     "iopub.status.idle": "2021-09-16T09:57:09.476760Z",
     "shell.execute_reply": "2021-09-16T09:57:09.476048Z",
     "shell.execute_reply.started": "2021-09-16T09:57:09.463682Z"
    }
   },
   "outputs": [],
   "source": [
    "def raiz(n):\n",
    "    b=10^(floor(log(n.n(),10)/2)+1);\n",
    "    a=10^(floor(log(n.n(),10)/2)-1);\n",
    "    semiintervalo=(b-a)/2;\n",
    "    c=floor((a+b)/2);\n",
    "    epsilon=0.51;\n",
    "    while semiintervalo > epsilon:   \n",
    "        c=floor(a+semiintervalo);\n",
    "        if c^2==n:\n",
    "            a=c;\n",
    "            b=c;\n",
    "            return(c);\n",
    "        if c^2<n:\n",
    "            a=c;\n",
    "        else:\n",
    "            b=c;    \n",
    "        semiintervalo=(b-a)/2; \n",
    "        c=floor(a+semiintervalo);\n",
    "    if(a==b):    \n",
    "       return c;\n",
    "    else:\n",
    "       return 0.5;"
   ]
  },
  {
   "cell_type": "code",
   "execution_count": 15,
   "metadata": {
    "ExecuteTime": {
     "end_time": "2020-10-27T11:59:13.349371Z",
     "start_time": "2020-10-27T11:59:11.577894Z"
    },
    "execution": {
     "iopub.execute_input": "2021-09-16T09:57:09.478073Z",
     "iopub.status.busy": "2021-09-16T09:57:09.477765Z",
     "iopub.status.idle": "2021-09-16T09:57:10.105663Z",
     "shell.execute_reply": "2021-09-16T09:57:10.105090Z",
     "shell.execute_reply.started": "2021-09-16T09:57:09.478047Z"
    }
   },
   "outputs": [
    {
     "name": "stdout",
     "output_type": "stream",
     "text": [
      "p= 500877037873841926175920940056952144533704692113906975758294037372467180267743889208183730406767480263235019746348719949135450750536300712194160469055592586514461446970733961190376384376828963589797596889593381920180250050763956556647247120697570576380841492470219164537035202602611045147693951618000183159\n",
      "q= 22150592496634919104358094101653656627268018078390455371762442187408998606997984689354887274237311863836132640176454759372306904668074319144149765432920577121548939681462886027546944424395780573974045241909708573989182138520555978888635997519003064249808303989933895844010930268627738638594696143056752500891\n",
      "n= 11094723156865047164922935244436417826197869979869471622244185074684113281251129093199195343376419357013622316406442418132978253836986422581325925034694564877571820505618838655710421499573695445866043057855726535708697447057341384334066649659083313837563502091005753921827593017739322103824863952293812231276882181217640101167259691408069029161949520376869920947248444194989129441645970606283134688120866465341861645374633252871037438145674072689548402322671727599274240375802318397424448852913051339288613556717848194504043526479689885565165559762024267175782373661712293068233795102305457955746722023369310694669\n",
      "Número de iteraciones: 305\n",
      "Primo calculado:  500877037873841926175920940056952144533704692113906975758294037372467180267743889208183730406767480263235019746348719949135450750536300712194160469055592586514461446970733961190376384376828963589797596889593381920180250050763956556647247120697570576380841492470219164537035202602611045147693951618000183159\n"
     ]
    }
   ],
   "source": [
    "limite=2^1024;\n",
    "r1=2*randint(0,limite)+1;\n",
    "k=2*randint(0,limite);\n",
    "p1=next_probable_prime(r1);\n",
    "p2=next_probable_prime(p1+k);\n",
    "n=p1*p2;\n",
    "\n",
    "x=0;\n",
    "#delta=raiz((k+x)^2+4*n);\n",
    "delta=sqrt((k+x)^2+4*n);\n",
    "\n",
    "#while is_Integer(delta)==False:\n",
    "while delta!=floor(delta):\n",
    "    x=x+2;\n",
    "    #delta=raiz((k+x)^2+4*n);\n",
    "    delta=sqrt((k+x)^2+4*n);\n",
    "\n",
    "p=(-k-x+delta)/2;\n",
    "print(\"p=\", p1);\n",
    "print(\"q=\",p2);\n",
    "print(\"n=\",n);\n",
    "print(\"Número de iteraciones:\",x/2);\n",
    "print(\"Primo calculado: \",p);"
   ]
  },
  {
   "cell_type": "code",
   "execution_count": null,
   "metadata": {},
   "outputs": [],
   "source": []
  },
  {
   "cell_type": "code",
   "execution_count": null,
   "metadata": {},
   "outputs": [],
   "source": []
  },
  {
   "cell_type": "code",
   "execution_count": null,
   "metadata": {
    "ExecuteTime": {
     "end_time": "2020-10-27T12:27:21.010070Z",
     "start_time": "2020-10-27T12:27:20.996201Z"
    }
   },
   "outputs": [],
   "source": []
  },
  {
   "cell_type": "code",
   "execution_count": null,
   "metadata": {},
   "outputs": [],
   "source": []
  },
  {
   "cell_type": "markdown",
   "metadata": {},
   "source": [
    "<h3>Clave pseudo-RSA</h3>\n",
    "<p>n=p^r q^s</p>"
   ]
  },
  {
   "cell_type": "code",
   "execution_count": 25,
   "metadata": {
    "ExecuteTime": {
     "end_time": "2020-10-27T12:35:11.597662Z",
     "start_time": "2020-10-27T12:35:11.520638Z"
    },
    "execution": {
     "iopub.execute_input": "2021-09-16T09:57:49.028353Z",
     "iopub.status.busy": "2021-09-16T09:57:49.028032Z",
     "iopub.status.idle": "2021-09-16T09:57:49.045490Z",
     "shell.execute_reply": "2021-09-16T09:57:49.044949Z",
     "shell.execute_reply.started": "2021-09-16T09:57:49.028327Z"
    }
   },
   "outputs": [
    {
     "name": "stdout",
     "output_type": "stream",
     "text": [
      "p= 23369\n",
      "q= 21019\n",
      "n= 131846838494996102589668044770336155128785531042093162675319145687668332455254014106578956378004590961179385389877390914562612126849760674746752672540767175448873666343847053559954888086370930728110470268245167516538361839826571828721912532270851848352695773669042268974614945921\n",
      "p= 62586997053342018633032455829944327660427330926261297395469074583941557768755026714277920500061821695481135821476656532326160197156218594561\n",
      "q= 2106617104230530404951977753069411594895643693295624742104610366729774254384483003169256391411048166998203301239912301508095373433198885761\n",
      "e= 65537\n",
      "d= 32409058418641038519268777717691487701598701554564662855094519689481576413723523683772563078634887557819840782767764737723277571390109791769400246023409457346796342071371298401119579211621848953382422029432751322953133924499166618699584980351694030875578896417609748486453707665\n",
      "dp= 2444662652380818637889532075786099668420712407617642878444867835269566191755101336289737250402889515198952370736483514259141788401956114433\n",
      "dq= 1039067567535954823977345480085735350450339270257582846159768801300835787815623028610658063267976701468289289729133194956837673171748490755\n",
      "q_inv= 42577350854658271904036922753190881945395320545360324616757039323241197652060811570169629082445772156222194527648063115563490173077020450977\n"
     ]
    }
   ],
   "source": [
    "e=2^16+1;\n",
    "NdeBits=512*(2); # bits del módulo\n",
    "NdebitsP=16; # bits de los primos pequeños\n",
    "\n",
    "r=NdeBits/(2*NdebitsP)\n",
    "s=NdeBits/(2*NdebitsP)\n",
    "r1=randint(0,2^(NdeBits/(2*r)));\n",
    "r2=randint(0,2^(NdeBits/(2*s)));\n",
    "\n",
    "p=next_probable_prime(r1);\n",
    "phip=(p-1)*p^(r-1);\n",
    "while gcd(e,phip)!=1:\n",
    "    print( \".\");\n",
    "    p=next_probable_prime(p+2);\n",
    "    phip=(p-1)*p^(r-1);\n",
    "print( \"p=\",p);\n",
    "    \n",
    "q=next_probable_prime(r2);\n",
    "phiq=(q-1)*q^(r-1);\n",
    "while gcd(e,phiq)!=1:\n",
    "    print( \"+\");\n",
    "    q=next_probable_prime(q+2);\n",
    "    phiq=(q-1)*q^(r-1);\n",
    "print( \"q=\",q);\n",
    "\n",
    "p=p^r;\n",
    "q=q^s;    \n",
    "n=p*q;\n",
    "phi=(phip)*(phiq);\n",
    "d=mod(e^-1,phi);\n",
    "dp=mod(d,phip);\n",
    "dq=mod(d,phiq);\n",
    "q_inv=mod(q^-1,p);\n",
    "\n",
    "print( \"n=\",n);\n",
    "print( \"p=\", p);\n",
    "print( \"q=\", q);\n",
    "print( \"e=\",e);\n",
    "print( \"d=\",d);\n",
    "print( \"dp=\",dp);\n",
    "print( \"dq=\",dq);\n",
    "print( \"q_inv=\",q_inv);"
   ]
  },
  {
   "cell_type": "code",
   "execution_count": null,
   "metadata": {},
   "outputs": [],
   "source": []
  },
  {
   "cell_type": "markdown",
   "metadata": {},
   "source": [
    "<hr /><hr /><hr /><hr /><hr />"
   ]
  },
  {
   "cell_type": "code",
   "execution_count": null,
   "metadata": {},
   "outputs": [],
   "source": []
  },
  {
   "cell_type": "code",
   "execution_count": null,
   "metadata": {},
   "outputs": [],
   "source": []
  }
 ],
 "metadata": {
  "kernelspec": {
   "display_name": "SageMath 9.4",
   "language": "sage",
   "name": "sagemath"
  },
  "language": "python",
  "language_info": {
   "codemirror_mode": {
    "name": "ipython",
    "version": 3
   },
   "file_extension": ".py",
   "mimetype": "text/x-python",
   "name": "python",
   "nbconvert_exporter": "python",
   "pygments_lexer": "ipython3",
   "version": "3.9.5"
  }
 },
 "nbformat": 4,
 "nbformat_minor": 4
}
