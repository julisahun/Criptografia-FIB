{
 "cells": [
  {
   "cell_type": "code",
   "execution_count": 129,
   "metadata": {},
   "outputs": [],
   "source": [
    "import hashlib\n",
    "import sympy\n",
    "import binascii\n",
    "from ecpy.curves import Curve, Point"
   ]
  },
  {
   "cell_type": "code",
   "execution_count": 130,
   "metadata": {},
   "outputs": [],
   "source": [
    "with open('./files/subjectPublicKey.txt') as f:\n",
    "    subjectPK = f.read()\n",
    "Qx = int(subjectPK[2:66], 16)\n",
    "Qy = int(subjectPK[66:], 16)"
   ]
  },
  {
   "cell_type": "code",
   "execution_count": 131,
   "metadata": {},
   "outputs": [],
   "source": [
    "p = 115792089210356248762697446949407573530086143415290314195533631308867097853951\n",
    "n = 115792089210356248762697446949407573529996955224135760342422259061068512044369\n",
    "Gx = int(\"6b17d1f2e12c4247f8bce6e563a440f277037d812deb33a0f4a13945d898c296\", 16)\n",
    "Gy = int(\"4fe342e2fe1a7f9b8ee7eb4a7c0f9e162bce33576b315ececbb6406837bf51f5\", 16)"
   ]
  },
  {
   "cell_type": "code",
   "execution_count": 132,
   "metadata": {},
   "outputs": [],
   "source": [
    "cv = Curve.get_curve('secp256r1')\n",
    "P = Point(Gx, Gy, cv)\n",
    "Q = Point(Qx, Qy, cv)"
   ]
  },
  {
   "cell_type": "code",
   "execution_count": 133,
   "metadata": {},
   "outputs": [],
   "source": [
    "with open('./files/signature.txt') as f:\n",
    "    signature = f.read()\n",
    "f1 = signature[8:74]\n",
    "f2 = signature[78:]"
   ]
  },
  {
   "cell_type": "code",
   "execution_count": 134,
   "metadata": {},
   "outputs": [],
   "source": [
    "pre = \"20\"*64 + \"544C5320312E332C2073657276657220436572746966696361746556657269667900\".lower()"
   ]
  },
  {
   "cell_type": "code",
   "execution_count": 140,
   "metadata": {},
   "outputs": [],
   "source": [
    "with open('./files/mensaje.bin', 'rb') as f:\n",
    "    message = f.read().hex().encode()\n",
    "    message2 = \"807dae9f518cd960e89d64223461d4bb6bd1e94623954e8f433a616123815d7c6b852a981182059aa36c7847f8a26405\"\n",
    "    h = hashlib.sha384(message).hexdigest()\n",
    "    m2 = hashlib.sha256((pre + message2).encode()).hexdigest()\n",
    "    m = hashlib.sha256((pre + h).encode()).hexdigest()"
   ]
  },
  {
   "cell_type": "code",
   "execution_count": 141,
   "metadata": {},
   "outputs": [
    {
     "name": "stdout",
     "output_type": "stream",
     "text": [
      "False\n",
      "False\n"
     ]
    }
   ],
   "source": [
    "f2i = sympy.mod_inverse(int(f2, 16), n)\n",
    "w1 = (int(m, 16) * f2i) % n\n",
    "w11 = (int(m2, 16) * f2i) % n\n",
    "w2 = (int(f1, 16) * f2i) % n\n",
    "\n",
    "E = w1 * P + w2 * Q\n",
    "E2 = w11 * P + w2 * Q\n",
    "print((E.x % n) == f1) \n",
    "print((E2.x% n) == f1) \n"
   ]
  }
 ],
 "metadata": {
  "kernelspec": {
   "display_name": "Python 3.9.13 64-bit",
   "language": "python",
   "name": "python3"
  },
  "language_info": {
   "codemirror_mode": {
    "name": "ipython",
    "version": 3
   },
   "file_extension": ".py",
   "mimetype": "text/x-python",
   "name": "python",
   "nbconvert_exporter": "python",
   "pygments_lexer": "ipython3",
   "version": "3.9.13"
  },
  "orig_nbformat": 4,
  "vscode": {
   "interpreter": {
    "hash": "7d6993cb2f9ce9a59d5d7380609d9cb5192a9dedd2735a011418ad9e827eb538"
   }
  }
 },
 "nbformat": 4,
 "nbformat_minor": 2
}
