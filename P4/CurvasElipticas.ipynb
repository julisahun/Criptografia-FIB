{
 "cells": [
  {
   "cell_type": "code",
   "execution_count": 1,
   "metadata": {},
   "outputs": [],
   "source": [
    "import hashlib\n",
    "import sympy\n",
    "import binascii\n",
    "from ecpy.curves import Curve, Point"
   ]
  },
  {
   "cell_type": "code",
   "execution_count": 86,
   "metadata": {},
   "outputs": [],
   "source": [
    "with open('./files/subjectPublicKey.txt') as f:\n",
    "    subjectPK = f.read()\n",
    "Qx = int(subjectPK[2:66], 16)\n",
    "Qy = int(subjectPK[66:], 16)"
   ]
  },
  {
   "cell_type": "code",
   "execution_count": 94,
   "metadata": {},
   "outputs": [],
   "source": [
    "p = 115792089210356248762697446949407573530086143415290314195533631308867097853951\n",
    "n = 115792089210356248762697446949407573529996955224135760342422259061068512044369\n",
    "q = n\n",
    "b = int(\"5ac635d8aa3a93e7b3ebbd55769886bc651d06b0cc53b0f63bce3c3e27d2604b\", 16)\n",
    "Gx = int(\"6b17d1f2e12c4247f8bce6e563a440f277037d812deb33a0f4a13945d898c296\", 16)\n",
    "Gy = int(\"4fe342e2fe1a7f9b8ee7eb4a7c0f9e162bce33576b315ececbb6406837bf51f5\", 16)"
   ]
  },
  {
   "cell_type": "code",
   "execution_count": 88,
   "metadata": {},
   "outputs": [
    {
     "data": {
      "text/plain": [
       "True"
      ]
     },
     "execution_count": 88,
     "metadata": {},
     "output_type": "execute_result"
    }
   ],
   "source": [
    "r = Qy ** 2\n",
    "r2 = Qx ** 3 - 3 * Qx + b\n",
    "r % p == r2 % p"
   ]
  },
  {
   "cell_type": "code",
   "execution_count": 89,
   "metadata": {},
   "outputs": [],
   "source": [
    "cv = Curve.get_curve('secp256r1')\n",
    "P = Point(Gx, Gy, cv)\n",
    "Q = Point(Qx, Qy, cv)"
   ]
  },
  {
   "cell_type": "code",
   "execution_count": 100,
   "metadata": {},
   "outputs": [
    {
     "data": {
      "text/plain": [
       "True"
      ]
     },
     "execution_count": 100,
     "metadata": {},
     "output_type": "execute_result"
    }
   ],
   "source": [
    "(Q * q).is_infinity"
   ]
  },
  {
   "cell_type": "code",
   "execution_count": 90,
   "metadata": {},
   "outputs": [],
   "source": [
    "with open('./files/signature.txt') as f:\n",
    "    signature = f.read()\n",
    "f1 = int(signature[8:74], 16)\n",
    "f2 = int(signature[78:], 16)"
   ]
  },
  {
   "cell_type": "code",
   "execution_count": 91,
   "metadata": {},
   "outputs": [],
   "source": [
    "pre = \"20\"*64 + \"544C5320312E332C2073657276657220436572746966696361746556657269667900\".lower()"
   ]
  },
  {
   "cell_type": "code",
   "execution_count": 92,
   "metadata": {},
   "outputs": [],
   "source": [
    "with open('./files/mensaje.bin', 'rb') as f:\n",
    "    message = f.read()\n",
    "    # message2 = \"807dae9f518cd960e89d64223461d4bb6bd1e94623954e8f433a616123815d7c6b852a981182059aa36c7847f8a26405\"\n",
    "    h = hashlib.sha384(message).hexdigest()\n",
    "    m = int(hashlib.sha256(bytes(bytearray.fromhex(pre + h))).hexdigest(), 16)"
   ]
  },
  {
   "cell_type": "code",
   "execution_count": 93,
   "metadata": {},
   "outputs": [
    {
     "name": "stdout",
     "output_type": "stream",
     "text": [
      "True\n"
     ]
    }
   ],
   "source": [
    "f2i = sympy.mod_inverse(f2, n)\n",
    "w1 = (m * f2i) % n\n",
    "w2 = (f1 * f2i) % n\n",
    "\n",
    "E = (w1 * P) + (w2 * Q)\n",
    "print((E.x % n) == f1) \n"
   ]
  }
 ],
 "metadata": {
  "kernelspec": {
   "display_name": "Python 3",
   "language": "python",
   "name": "python3"
  },
  "language_info": {
   "codemirror_mode": {
    "name": "ipython",
    "version": 3
   },
   "file_extension": ".py",
   "mimetype": "text/x-python",
   "name": "python",
   "nbconvert_exporter": "python",
   "pygments_lexer": "ipython3",
   "version": "3.9.15 (main, Oct 11 2022, 15:04:24) \n[GCC 11.2.0]"
  },
  "orig_nbformat": 4,
  "vscode": {
   "interpreter": {
    "hash": "a806f75dfb18e4bb16bb70a3e91cee63e6c7858b02f38d091c897d68ed2af227"
   }
  }
 },
 "nbformat": 4,
 "nbformat_minor": 2
}
