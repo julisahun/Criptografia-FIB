{
 "cells": [
  {
   "cell_type": "code",
   "execution_count": 18,
   "metadata": {},
   "outputs": [],
   "source": [
    "output = !openssl crl -inform DER -text -noout -in ../files/ElRaco/GEANTOVRSACA4.crl\n",
    "revoked_certificated = [*filter(lambda x: 'Serial Number:' in x, output)]"
   ]
  },
  {
   "cell_type": "code",
   "execution_count": 19,
   "metadata": {},
   "outputs": [
    {
     "name": "stdout",
     "output_type": "stream",
     "text": [
      "Numero de certificados revocados:  13874\n"
     ]
    }
   ],
   "source": [
    "print('Numero de certificados revocados: ', len(revoked_certificated))"
   ]
  },
  {
   "cell_type": "code",
   "execution_count": 20,
   "metadata": {},
   "outputs": [],
   "source": [
    "!openssl x509 -in ../files/ElRaco/GEANTOVRSACA4.crt -inform der -out ../files/ElRaco/GEANTOVRSACA4.pem\n",
    "output = !openssl ocsp -issuer ../files/ElRaco/GEANTOVRSACA4.pem -cert ../files/ElRaco/www-fib-upc-es.pem -text -url http://GEANT.ocsp.sectigo.com\n",
    "!rm ../files/ElRaco/GEANTOVRSACA4.pem"
   ]
  },
  {
   "cell_type": "code",
   "execution_count": 21,
   "metadata": {},
   "outputs": [
    {
     "name": "stdout",
     "output_type": "stream",
     "text": [
      "estado: good\n",
      "This Update: Dec 19 08:34:05 2022 GMT\n",
      "Next Update: Dec 26 08:34:04 2022 GMT\n"
     ]
    }
   ],
   "source": [
    "# print('Certificado: ', output)\n",
    "print('estado:', output[-3].split(':')[1].lstrip())\n",
    "print(output[-2].lstrip())\n",
    "print(output[-1].lstrip())"
   ]
  }
 ],
 "metadata": {
  "kernelspec": {
   "display_name": "Python 3",
   "language": "python",
   "name": "python3"
  },
  "language_info": {
   "codemirror_mode": {
    "name": "ipython",
    "version": 3
   },
   "file_extension": ".py",
   "mimetype": "text/x-python",
   "name": "python",
   "nbconvert_exporter": "python",
   "pygments_lexer": "ipython3",
   "version": "3.10.8"
  },
  "orig_nbformat": 4,
  "vscode": {
   "interpreter": {
    "hash": "7d6993cb2f9ce9a59d5d7380609d9cb5192a9dedd2735a011418ad9e827eb538"
   }
  }
 },
 "nbformat": 4,
 "nbformat_minor": 2
}
