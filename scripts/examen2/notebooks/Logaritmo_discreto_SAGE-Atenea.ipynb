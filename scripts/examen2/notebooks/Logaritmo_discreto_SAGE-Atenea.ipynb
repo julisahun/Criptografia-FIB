{
 "cells": [
  {
   "cell_type": "markdown",
   "metadata": {
    "execution": {
     "iopub.execute_input": "2021-10-29T10:58:56.421757Z",
     "iopub.status.busy": "2021-10-29T10:58:56.421333Z",
     "iopub.status.idle": "2021-10-29T10:59:06.564224Z",
     "shell.execute_reply": "2021-10-29T10:59:06.561821Z",
     "shell.execute_reply.started": "2021-10-29T10:58:56.421714Z"
    }
   },
   "source": [
    "<!DOCTYPE html PUBLIC \"-//W3C//DTD HTML 4.01 Transitional//EN\"  \n",
    "  \"http://www.w3.org/TR/html4/loose.dtd\">  \n",
    "<html > \n",
    "<head> \n",
    "<meta http-equiv=\"Content-Type\" content=\"text/html; charset=iso-8859-1\"> \n",
    "<meta name=\"generator\" content=\"TeX4ht (http://www.tug.org/tex4ht/)\"> \n",
    "<meta name=\"originator\" content=\"TeX4ht (http://www.tug.org/tex4ht/)\"> \n",
    "<!-- html --> \n",
    "<link rel=\"stylesheet\" type=\"text/css\" href=\"logaritmo_discreto.css\"> \n",
    "</head><body \n",
    ">\n",
    "<div class=\"maketitle\"><h2 class=\"titleHead\">Logaritmo discreto</h2>\n",
    "<div class=\"author\" ></div><br />\n",
    "<div class=\"date\" ><span \n",
    "class=\"cmr-12\">11 de noviembre de 2022</span></div>\n",
    "   </div>\n",
    "   <p>\n",
    "   <div class=\"tableofcontents\">\n",
    "   <span class=\"sectionToc\" >1 <a \n",
    "href=\"#x1-20001\" id=\"QQ2-1-2\">Introducción</a></span>\n",
    "<br />   &#x00A0;<span class=\"subsectionToc\" >1.1 <a \n",
    "href=\"#x1-30001.1\" id=\"QQ2-1-3\">Diffie-Helmman en <span \n",
    "class=\"msbm-10x-x-109\">&#x2124;</span><sub><span \n",
    "class=\"cmmi-8\">p</span></sub></a></span>\n",
    "<br />   &#x00A0;<span class=\"subsectionToc\" >1.2 <a \n",
    "href=\"#x1-40001.2\" id=\"QQ2-1-4\">ElGamal en <span \n",
    "class=\"msbm-10x-x-109\">&#x2124;</span><sub><span \n",
    "class=\"cmmi-8\">p</span></sub></a></span>\n",
    "<br />   &#x00A0;<span class=\"subsectionToc\" >1.3 <a \n",
    "href=\"#x1-40001.3\" id=\"QQ2-1-DSA\">The Digital Signature Algorithm (DSA)</a></span>\n",
    "<br />    &#x00A0;<span class=\"subsectionToc\" >1.4 <a \n",
    "href=\"#x1-50001.3\" id=\"QQ2-1-5\">El problema del logaritmo discreto</a></span>\n",
    "<br />   \n",
    "<span class=\"sectionToc\" >2 <a \n",
    "href=\"#x1-100003\" id=\"QQ2-1-10\">Cálculo del logaritmo discreto</a></span>\n",
    "<br />   &#x00A0;<span class=\"subsectionToc\" >2.1 <a \n",
    "href=\"#x1-110003.1\" id=\"QQ2-1-11\">Baby-step, Giant-step</a></span>\n",
    "<br />   &#x00A0;<span class=\"subsectionToc\" >2.2 <a \n",
    "href=\"#x1-130003.3\" id=\"QQ2-1-13\">Index calculus</a></span>\n",
    "<br />   \n",
    "<span class=\"sectionToc\" >3 <a \n",
    "href=\"#x1-140004\" id=\"QQ2-1-14\">Curvas Elípticas</a></span>\n",
    "<br />   &#x00A0;<span class=\"subsectionToc\" >3.1 <a \n",
    "href=\"#x1-150004.1\" id=\"QQ2-1-15\">Curvas elípticas sobre <span \n",
    "class=\"msbm-10x-x-109\">F</span><sub><span \n",
    "class=\"cmmi-8\">p</span></sub></a></span>\n",
    "<br />   &#x00A0;<span class=\"subsectionToc\" >3.2 <a \n",
    "href=\"#x1-170004.3\" id=\"QQ2-1-18\">Teorema de Hasse. Orden de un punto</a></span>\n",
    "<br />   &#x00A0;<span class=\"subsectionToc\" >3.3 <a \n",
    "href=\"#x1-180004.4\" id=\"QQ2-1-20\">DH sobre curvas elípticas</a></span>\n",
    "<br />   &#x00A0;<span class=\"subsectionToc\" >3.4 <a \n",
    "href=\"#x1-180004.5\" id=\"QQ2-1-ECDSA\">ECDSA</a></span>       \n",
    "<br />   &#x00A0;<span class=\"subsectionToc\" >3.5<a href=\"#x1-200004.6\" id=\"QQ2-1-22\"> Seguridad</a></span>\n",
    "                                                                     \n",
    "\n",
    "                                                                     \n",
    "   </div>\n",
    "<!--l. 55--><p class=\"indent\" >\n",
    "                                                                     \n",
    "\n",
    "                                                                     \n",
    "<!--l. 58--><p class=\"indent\" >   Diffie, W., and Hellman, M. <span class=\"cmbx-10x-x-109\">(1976) </span><span class=\"cmti-10x-x-109\">New directions in cryptography. </span>IEEE Trans. Inform. Theory IT-22, 644&#8211;654.\n",
    "    \n",
    "    \n",
    "    \n",
    "    "
   ]
  },
  {
   "cell_type": "markdown",
   "metadata": {
    "execution": {
     "iopub.execute_input": "2021-10-29T10:58:56.421757Z",
     "iopub.status.busy": "2021-10-29T10:58:56.421333Z",
     "iopub.status.idle": "2021-10-29T10:59:06.564224Z",
     "shell.execute_reply": "2021-10-29T10:59:06.561821Z",
     "shell.execute_reply.started": "2021-10-29T10:58:56.421714Z"
    }
   },
   "source": [
    "   <h3 class=\"sectionHead\"><span class=\"titlemark\">1   </span> <a \n",
    " id=\"x1-20001\"></a>Introducción</h3>\n",
    "<!--l. 64--><p class=\"noindent\" >\n",
    "   <h4 class=\"subsectionHead\"><span class=\"titlemark\">1.1   </span> <a \n",
    " id=\"x1-30001.1\"></a>Diffie-Helmman en <span \n",
    "class=\"msbm-10x-x-109\">&#x2124;</span><sub><span \n",
    "class=\"cmmi-8\">p</span></sub></h4>\n",
    "<!--l. 66--> Sean $p$ primo y $g\\in\\mathbb Z_p^*$ de orden $r$ suficientemente grande.\n",
    "\n",
    "<div class=\"center\" \n",
    ">\n",
    "<!--l. 69--><p class=\"noindent\" >\n",
    "<!--l. 71--><p class=\"center\" ><img \n",
    "src=\"logaritmo_discreto0x.png\" alt=\"PICT\" >\n",
    "</div>\n",
    "\n",
    "\n",
    "\n",
    "\n",
    "\n",
    "Para *romper* el sistema deberíamos poder calcular logaritmos discretos o resolver el problema de DH: hallar $\\delta$ a partir de $\\alpha$ y $\\beta$."
   ]
  },
  {
   "cell_type": "code",
   "execution_count": 2,
   "metadata": {
    "execution": {
     "iopub.execute_input": "2022-11-11T07:22:01.102885Z",
     "iopub.status.busy": "2022-11-11T07:22:01.102451Z",
     "iopub.status.idle": "2022-11-11T07:22:01.123040Z",
     "shell.execute_reply": "2022-11-11T07:22:01.122511Z",
     "shell.execute_reply.started": "2022-11-11T07:22:01.102843Z"
    },
    "tags": []
   },
   "outputs": [
    {
     "data": {
      "text/html": [
       "Genero los parámetros, \\(p\\) primo de la forma \\(p=2q+1\\), \\(q\\) primo, y \\(g\\) generador"
      ],
      "text/plain": [
       "Genero los parámetros, \\(p\\) primo de la forma \\(p=2q+1\\), \\(q\\) primo, y \\(g\\) generador"
      ]
     },
     "metadata": {},
     "output_type": "display_data"
    },
    {
     "data": {
      "text/html": [
       "\\(p=288458560380430136848390661697516226721175242735376086104852012466262728255189549344495879920255277045637871556872288765087590695091461535844143277328136263878250061220110615902611962802519819071478617369377306539851011592842226534040973487458177347791666895791829805973097301764437565642483770393576775108359\\)"
      ],
      "text/plain": [
       "\\(p=288458560380430136848390661697516226721175242735376086104852012466262728255189549344495879920255277045637871556872288765087590695091461535844143277328136263878250061220110615902611962802519819071478617369377306539851011592842226534040973487458177347791666895791829805973097301764437565642483770393576775108359\\)"
      ]
     },
     "metadata": {},
     "output_type": "display_data"
    },
    {
     "data": {
      "text/html": [
       "\\(g=7\\)"
      ],
      "text/plain": [
       "\\(g=7\\)"
      ]
     },
     "metadata": {},
     "output_type": "display_data"
    },
    {
     "name": "stdout",
     "output_type": "stream",
     "text": [
      "\n"
     ]
    },
    {
     "data": {
      "text/html": [
       "Alicia envía \\(\\alpha=208821853759642248817900459704378466621899557054846415225977458397473016786759255297974677780328617577659342343429562755679934053837541724378056457545312864882163429097260232403677524353279922802194647710804165132763969172063293052382899836676950041046150167361452036514459420405030953485597129050283908022458\\)"
      ],
      "text/plain": [
       "Alicia envía \\(\\alpha=208821853759642248817900459704378466621899557054846415225977458397473016786759255297974677780328617577659342343429562755679934053837541724378056457545312864882163429097260232403677524353279922802194647710804165132763969172063293052382899836676950041046150167361452036514459420405030953485597129050283908022458\\)"
      ]
     },
     "metadata": {},
     "output_type": "display_data"
    },
    {
     "data": {
      "text/html": [
       "Benito envía \\(\\beta=44352751157586004119311896768459916805777816344733714397600385006912151522182620421651137836088600977142787736250532487916659261019046614029511058466097661475842956430852309845179688582444941098031357829478670896532287984804415862171104461091575983374274315591924510417681279160463970605726055081200387528602\\)"
      ],
      "text/plain": [
       "Benito envía \\(\\beta=44352751157586004119311896768459916805777816344733714397600385006912151522182620421651137836088600977142787736250532487916659261019046614029511058466097661475842956430852309845179688582444941098031357829478670896532287984804415862171104461091575983374274315591924510417681279160463970605726055081200387528602\\)"
      ]
     },
     "metadata": {},
     "output_type": "display_data"
    },
    {
     "name": "stdout",
     "output_type": "stream",
     "text": [
      "Han llegado al mismo secreto? True\n"
     ]
    }
   ],
   "source": [
    "import time\n",
    "\n",
    "def primo_2q1(bits):\n",
    "    '''\n",
    "    Devuelve un primo p de la forma 2*q+1 siendo q primo también\n",
    "    '''\n",
    "    q=next_probable_prime(randint(2**(bits-1),2**bits))\n",
    "    p=2*q+1\n",
    "\n",
    "    while is_prime(p)==False:\n",
    "        q=next_probable_prime(randint(2**(bits-1),2**bits))\n",
    "        p=2*q+1\n",
    "    return p\n",
    "\n",
    "bits=1024\n",
    "\n",
    "# p=primo_2q1(bits)\n",
    "# ~ 24 segundos\n",
    "# p=346148821213692554956910344544298105621773144123056855354628819161664151118780952705147338968098087081259894636531361045371268381435976442869303996411184376055358704996320890147947671409697928250869744288676406152295262964727008942985658602716592075890830021686024509431231075145043394012548658381406046511703\n",
    "# ~ 65 segundos\n",
    "# p=220822880467271174008834409346362988768333190519055894066995612897972947133703956768959345250906698848784030690953280591688921042163345789692958549868511451801490028613489095077544509946703533335088255538800135803183742110700142290411141091188100487492760814269485550072403432746137719356155579734289955490147\n",
    "\n",
    "# p=307521036136329708293976056546828057014575795418370471956299315097095004870819640612539480296167611192518166936983627496873265617854259520504436649126143709327903457679134575624431868126991788564065570883509413268349609018352396124067316555827339919776480289189328550470345196415687988544363709812214687272019\n",
    "\n",
    "p=288458560380430136848390661697516226721175242735376086104852012466262728255189549344495879920255277045637871556872288765087590695091461535844143277328136263878250061220110615902611962802519819071478617369377306539851011592842226534040973487458177347791666895791829805973097301764437565642483770393576775108359\n",
    "\n",
    "q=Integer((p-1)/2)\n",
    "orden=p-1\n",
    "\n",
    "g=mod(2,p)\n",
    "while pow(g,q,p)==1:\n",
    "    g=g+1\n",
    "\n",
    "show(html('Genero los parámetros, $p$ primo de la forma $p=2q+1$, $q$ primo, y $g$ generador'))\n",
    "show(html('$p={}$'.format(p,)))\n",
    "show(html('$g={}$'.format(g)))\n",
    "print()\n",
    "\n",
    "a=randint(1,orden)\n",
    "b=randint(1,orden)\n",
    "\n",
    "alpha=g**a\n",
    "beta=g**b\n",
    "show(html('Alicia envía $\\\\alpha={}$'.format(alpha)))\n",
    "show(html('Benito envía $\\\\beta={}$'.format(beta)))\n",
    "\n",
    "delta_a=beta**a\n",
    "delta_b=alpha**b\n",
    "\n",
    "print('Han llegado al mismo secreto?',delta_a==delta_b)\n",
    "\n"
   ]
  },
  {
   "cell_type": "markdown",
   "metadata": {
    "execution": {
     "iopub.execute_input": "2021-10-29T10:58:56.421757Z",
     "iopub.status.busy": "2021-10-29T10:58:56.421333Z",
     "iopub.status.idle": "2021-10-29T10:59:06.564224Z",
     "shell.execute_reply": "2021-10-29T10:59:06.561821Z",
     "shell.execute_reply.started": "2021-10-29T10:58:56.421714Z"
    }
   },
   "source": [
    "<!--l. 90--><p class=\"noindent\" >\n",
    "   <h4 class=\"subsectionHead\"><span class=\"titlemark\">1.2   </span> <a \n",
    " id=\"x1-40001.2\"></a>ElGamal en $\\mathbb{Z}_p$</h4>\n",
    " \n",
    "\n",
    "Sean $p$ primo y $g$ generador de $\\mathbb Z_p^*$ \n",
    "comunes a todos los usuarios (es suficiente con que el orden de $g$ sea suficientemente grande). \n",
    "\n",
    "Cada participante elige como **clave privada** $s\\in\\mathbb Z_{p-1}$. \n",
    "Su **clave pública** es $\\alpha=g^s\\mod p$.\n",
    "\n",
    "Cifrado:\n",
    "* Se transforma el mensaje en elementos de $\\mathbb Z_{p}^*$.\n",
    "* Para cada $m$ se elige $k\\in [1,p-1]$ aleatorio.\n",
    "* Se envía el criptograma \n",
    "    $$\n",
    "    c=(c_1,c_2)=(g^{k}, m \\alpha^k) \\mod p.\n",
    "    $$\n",
    "\n",
    "Descifrado: $c=(c_1,c_2)=(g^{k}, m \\alpha^k) \\mod p$ se descifra calculando\n",
    "$$\n",
    "c_2c_1^{p-1-s}=m\\alpha^kg^{k(p-1)-ks}=mg^{sk}g^{-ks}=m \\mod p.\n",
    "$$\n",
    "\n",
    "Para romper el sistema deberíamos saber calcular $s$ a partir de $\\alpha$, \n",
    "o sea, calcular el logaritmo discreto módulo $p$ en base $g$ de $\\alpha$."
   ]
  },
  {
   "cell_type": "markdown",
   "metadata": {},
   "source": [
    "<!--l. 90--><p class=\"noindent\" >\n",
    "   <h4 class=\"subsectionHead\"><span class=\"titlemark\">1.3   </span> <a \n",
    " id=\"x1-40001.3\"></a>The Digital Signature Algorithm (DSA)</h4>\n",
    "\n",
    "http://nvlpubs.nist.gov/nistpubs/FIPS/NIST.FIPS.186-4.pdf\n",
    "\n",
    "#### **Generación de claves**\n",
    "\n",
    "Cada usuario realiza los siguientes pasos:\n",
    "\n",
    "* Elige $q$ primo, $2^{N-1}<q<2^{N}$ ($N$ bits).\n",
    "* Elige $p$ primo de $L$ bits tal que $q\\vert (p-1)$.\n",
    "* Elige $x\\in\\mathbb Z_p^*$ y calcula $g=x^{\\frac{p-1}{q}}\\text{ mod } p$.\n",
    "     Si $g=1$ se toma otro $x$. ($g$ es el generador de un grupo cíclico.)\n",
    "* Elige $r\\in[2,q-1]$ aleatorio.\n",
    "* Calcula $u=g^r \\text{ mod } p$.\n",
    "* La clave pública es $\\{p,q,g,u\\}$, la clave privada es $r$.\n",
    "\n",
    "| L     | N |\n",
    "| ----  | - |\n",
    "| 2048  | 224 |\n",
    "| 2048  | 256 |\n",
    "| 3072  | 256 |\n",
    "\n",
    "\n",
    "\n",
    "#### **Firma**\n",
    "\n",
    "Para firmar un mensaje $m$ se realizan los siguientes pasos:\n",
    "\n",
    "* Se elige $k\\in[2,q-1]$ aleatorio.\n",
    "* Se calcula $f_1=(g^k \\text{ mod } p) \\text{ mod } q$.\n",
    "* Se calcula $k^{-1} \\text{ mod } q$.\n",
    "* Se calcula $f_2=k^{-1}(SHA(m)+rf_1) \\text{ mod } q$. \n",
    "     Si $f_2=0$ se toma otro $k$.\n",
    "* La firma es el par $(f_1,f_2)$.\n",
    "\n",
    "#### **Verificación de la firma**\n",
    "\n",
    "Para verificar que la firma $(f_1,f_2)$ del mensaje $m$\n",
    "es de A se realizan los pasos:\n",
    "\n",
    "* Se busca la clave pública de A, $\\{p,q,g,u\\}$.\n",
    "* Se calcula $w=f_2^{-1} \\text{ mod } q$.\n",
    "* Se calcula $\\alpha_1=SHA(m) w \\text{ mod } q$ y  $\\alpha_2=f_1 w \\text{ mod } q$.\n",
    "* Se calcula $v=g^{\\alpha_1}u^{\\alpha_2}\\text{ mod } p$.\n",
    "* La firma es válida si $v\\equiv f_1 \\text{ mod } q$.\n",
    "\n",
    "\n",
    "\n",
    "**Observación:** La firma tiene longitud igual a $2N$ bits.\n",
    "\n",
    "\n"
   ]
  },
  {
   "cell_type": "code",
   "execution_count": 5,
   "metadata": {
    "execution": {
     "iopub.execute_input": "2022-11-11T07:59:31.332835Z",
     "iopub.status.busy": "2022-11-11T07:59:31.332402Z",
     "iopub.status.idle": "2022-11-11T07:59:48.786602Z",
     "shell.execute_reply": "2022-11-11T07:59:48.785818Z",
     "shell.execute_reply.started": "2022-11-11T07:59:31.332801Z"
    },
    "tags": []
   },
   "outputs": [],
   "source": [
    "L = 2048\n",
    "N = 256\n",
    "\n",
    "q = random_prime(2**(N-1), 2**(N))\n",
    "aux = randint(2**(L-N-1), 2**(L-N))\n",
    "p = aux*q+1\n",
    "while is_prime(p) == False:\n",
    "    print('.', end='')\n",
    "    aux = randint(2**(L-N-1), 2**(L-N))\n",
    "    p = aux*q+1"
   ]
  },
  {
   "cell_type": "code",
   "execution_count": 37,
   "metadata": {
    "execution": {
     "iopub.execute_input": "2022-11-11T08:32:02.144116Z",
     "iopub.status.busy": "2022-11-11T08:32:02.143609Z",
     "iopub.status.idle": "2022-11-11T08:32:02.171885Z",
     "shell.execute_reply": "2022-11-11T08:32:02.171320Z",
     "shell.execute_reply.started": "2022-11-11T08:32:02.144074Z"
    },
    "tags": []
   },
   "outputs": [
    {
     "data": {
      "text/html": [
       "Clave Pública: \n",
       "\\(p=1815277279079437987269581499585919687160395320294694946651319239641343144517528941978757614884727989561886601600253553502590511965381886102514642639231000838796913185974100401167686979031502912104788763658555368673788565382186263892683981395497817523759343429962187738606903216431997733030552928174974620842212961410483507561825346015456408985028193674259726174677687195689245090543129613188378028181300416743635519596607623757884364412326983023912342650368947568789258140081876623022895785575486252161493944348896454898549795282593046326295278861073578899249384944470942339270196674757756240766179536867616745743777\\)  \n",
       "\\(q=11205528438730356888919843537601355593836401162140290446335883525263431227209\\)  \n",
       "\\(g=203965004213332079754576429271766217750772373997499547947708283564045628114752473419752574818982275645354622798450978427287987165111576885493226046005559550647897867910255349510097803585031818354498241439258863109608956070677103186806116590426265736000080382252818042893752527549204936518588261924852366818250596975786566083247113009870747800394667059112640410506913082616491528560961022674906864883539675631661748931409073004547492207417962872824940152440525001376349773918994273177128439849200806087419520576779744333287553033167089015854204456929603787438951082510408902900500475929408854490913956602543389377936\\) \n",
       "\\(u=1370742880593576329604964207979685710993671342165447214524360415281283432355084927110934376165724623549248426486668643210043823438004564662528161035060787405690613262035533242490574408404811578188918356328719315805444860579814500580913335314209622505556995426399229741325308510853114245443195032504542691606229411194273604531508683799762179206693381971307217684064636137229093020364661419108591127140177390643035374099441785860547169965620877688817679790047193118105390890852269856732781746586977282936770803481555870858840233049046350630165428922066650789354885895656883290399832767922203416181386024840258096158770\\)"
      ],
      "text/plain": [
       "Clave Pública: \n",
       "\\(p=1815277279079437987269581499585919687160395320294694946651319239641343144517528941978757614884727989561886601600253553502590511965381886102514642639231000838796913185974100401167686979031502912104788763658555368673788565382186263892683981395497817523759343429962187738606903216431997733030552928174974620842212961410483507561825346015456408985028193674259726174677687195689245090543129613188378028181300416743635519596607623757884364412326983023912342650368947568789258140081876623022895785575486252161493944348896454898549795282593046326295278861073578899249384944470942339270196674757756240766179536867616745743777\\)  \n",
       "\\(q=11205528438730356888919843537601355593836401162140290446335883525263431227209\\)  \n",
       "\\(g=203965004213332079754576429271766217750772373997499547947708283564045628114752473419752574818982275645354622798450978427287987165111576885493226046005559550647897867910255349510097803585031818354498241439258863109608956070677103186806116590426265736000080382252818042893752527549204936518588261924852366818250596975786566083247113009870747800394667059112640410506913082616491528560961022674906864883539675631661748931409073004547492207417962872824940152440525001376349773918994273177128439849200806087419520576779744333287553033167089015854204456929603787438951082510408902900500475929408854490913956602543389377936\\) \n",
       "\\(u=1370742880593576329604964207979685710993671342165447214524360415281283432355084927110934376165724623549248426486668643210043823438004564662528161035060787405690613262035533242490574408404811578188918356328719315805444860579814500580913335314209622505556995426399229741325308510853114245443195032504542691606229411194273604531508683799762179206693381971307217684064636137229093020364661419108591127140177390643035374099441785860547169965620877688817679790047193118105390890852269856732781746586977282936770803481555870858840233049046350630165428922066650789354885895656883290399832767922203416181386024840258096158770\\)"
      ]
     },
     "metadata": {},
     "output_type": "display_data"
    },
    {
     "data": {
      "text/html": [
       "Clave Privada: \n",
       "\\(r=6422833039515813612687976155847279312709667968605525297218416400438228441943\\)"
      ],
      "text/plain": [
       "Clave Privada: \n",
       "\\(r=6422833039515813612687976155847279312709667968605525297218416400438228441943\\)"
      ]
     },
     "metadata": {},
     "output_type": "display_data"
    },
    {
     "data": {
      "text/html": [
       "Firma: \n",
       "\\(f_1=142315530227702994297751154095552650636590915543022353951457903318651296729\\) \n",
       "\\(f_2=9494896981655588965615727071074708075965086769694892927011819600527856458149\\)"
      ],
      "text/plain": [
       "Firma: \n",
       "\\(f_1=142315530227702994297751154095552650636590915543022353951457903318651296729\\) \n",
       "\\(f_2=9494896981655588965615727071074708075965086769694892927011819600527856458149\\)"
      ]
     },
     "metadata": {},
     "output_type": "display_data"
    },
    {
     "data": {
      "text/html": [
       "Es válida la firma? True"
      ],
      "text/plain": [
       "Es válida la firma? True"
      ]
     },
     "metadata": {},
     "output_type": "display_data"
    }
   ],
   "source": [
    "aux = randint(2**(L-1), 2**(L))\n",
    "g = power_mod(aux, Integer((p-1)/q), p)\n",
    "while g == 1:\n",
    "    aux = randint(2, p-1)\n",
    "    g = power_mod(aux, Integer((p-1)/q), p)\n",
    "\n",
    "r = randint(2, q-1)\n",
    "u = power_mod(g, r, p)\n",
    "\n",
    "show(html('Clave Pública: \\n$p={}$  \\n$q={}$  \\n$g={}$ \\n$u={}$'.format(p, q, g, u)))\n",
    "show(html('Clave Privada: \\n$r={}$'.format(r)))\n",
    "\n",
    "\n",
    "'''\n",
    "Firma\n",
    "'''\n",
    "m = randint(2, q-1)\n",
    "\n",
    "k = randint(2, q-1)\n",
    "f1 = Integer(mod(power_mod(g, k, p), q))\n",
    "k_inv = power_mod(k, -1, q)\n",
    "f2 = Integer(mod(k_inv*(m+r*f1), q))\n",
    "while f2 == 0:\n",
    "    k = randint(2, q-1)\n",
    "    f1 = Integer(mod(power_mod(g, k, p), q))\n",
    "    k_inv = power_mod(k,-1, q)\n",
    "    f2 = Integer(mod(k_inv*(m+r*f1), q))\n",
    "show(html('Firma: \\n$f_1={}$ \\n$f_2={}$'.format(f1, f2)))\n",
    "\n",
    "'''\n",
    "Verificación Firma\n",
    "'''\n",
    "w = power_mod(f2, -1, q)\n",
    "x1 = Integer(mod(m*w, q))\n",
    "x2 = Integer(mod(f1*w, q))\n",
    "v = mod(power_mod(g, x1, p)*power_mod(u, x2, p), p)\n",
    "verificacion = mod(v, q) == mod(f1, q)\n",
    "show(html('Es válida la firma? {}'.format(verificacion)))"
   ]
  },
  {
   "cell_type": "code",
   "execution_count": 30,
   "metadata": {
    "execution": {
     "iopub.execute_input": "2022-11-11T08:27:20.411956Z",
     "iopub.status.busy": "2022-11-11T08:27:20.411396Z",
     "iopub.status.idle": "2022-11-11T08:27:20.418042Z",
     "shell.execute_reply": "2022-11-11T08:27:20.417289Z",
     "shell.execute_reply.started": "2022-11-11T08:27:20.411912Z"
    },
    "tags": []
   },
   "outputs": [
    {
     "data": {
      "text/plain": [
       "3070717015217611675303104949920044509588845178239253483130911361832535886965"
      ]
     },
     "execution_count": 30,
     "metadata": {},
     "output_type": "execute_result"
    }
   ],
   "source": [
    "power_mod(Integer(f2), -1, q)"
   ]
  },
  {
   "cell_type": "markdown",
   "metadata": {
    "execution": {
     "iopub.execute_input": "2021-10-29T10:58:56.421757Z",
     "iopub.status.busy": "2021-10-29T10:58:56.421333Z",
     "iopub.status.idle": "2021-10-29T10:59:06.564224Z",
     "shell.execute_reply": "2021-10-29T10:59:06.561821Z",
     "shell.execute_reply.started": "2021-10-29T10:58:56.421714Z"
    }
   },
   "source": [
    "<!--l. 116--><p class=\"noindent\" >\n",
    "   <h4 class=\"subsectionHead\"><span class=\"titlemark\">1.4   </span> <a \n",
    " id=\"x1-50001.3\"></a>El problema del logaritmo discreto</h4>\n",
    "\n",
    "Sea $(G, \\circ)$ un grupo cíclico: La operación es interna, asociativa, \n",
    "con elemento neutro, cada elemento tiene inverso y existe $g$ que\n",
    "genera el grupo.\n",
    "\n",
    "Se define $\\log_g x=k$ si $g^k=x$.\n",
    "\n",
    "El problema del logaritmo discreto depende de la representación \n",
    "del grupo.\n",
    "\n",
    "**Ejemplo** \n",
    ">$(\\mathbb Z_p,+)$, $g$ generador.\n",
    ">\n",
    ">Nuestro problema sería, dado $x$, hallar $k$ tal que \n",
    ">$\\overbrace{g+\\cdots+g}^k=x$, o sea, resolver $gk\\equiv x\\mod p$, \n",
    ">cuya solución es $k\\equiv xg^{-1}\\mod p$ que es fácil de calcular.\n",
    "\n",
    ">En $(\\mathbb Z_p,+)$, $\\log_g x=xg^{-1}\\mod p$.\n",
    "\n",
    "\n",
    "**Ejemplo**  \n",
    ">$(\\mathbb Z_p^*,\\cdot)$, $g$ generador.\n",
    "> \n",
    ">Sea $\\phi$ un isomorfismo entre $(\\mathbb Z_p^*,\\cdot)$ y \n",
    ">$(\\mathbb Z_{p-1},+)$, o sea, $\\phi$ es una biyección entre\n",
    ">$\\mathbb Z_p^*$ y $\\mathbb Z_{p-1}$ tal que \n",
    ">$$ \\phi(xy \\mod p)=\\phi(x)+\\phi(y)\\mod p-1. $$\n",
    ">Entonces $\\phi(g^k\\mod p)=k \\phi(g) \\mod p-1$, y por lo tanto\n",
    ">$$  x\\equiv g^k\\mod p \\Leftrightarrow k\\phi(g)\\equiv\\phi(x) \\mod p-1.$$\n",
    "\n",
    ">Hemos transformado nuestro problema del logaritmo discreto en\n",
    ">$\\mathbb Z_p^*$ en un problema del logaritmo discreto en\n",
    ">$\\mathbb Z_{p-1}$, que ya sabemos resolver. Hemos trasladado \n",
    ">la dificultad del cálculo del logaritmo discreto en $\\mathbb Z_p^*$\n",
    ">a hallar el isomorfismo $\\phi$.\n",
    "\n",
    "\n",
    "   "
   ]
  },
  {
   "cell_type": "raw",
   "metadata": {},
   "source": []
  },
  {
   "cell_type": "markdown",
   "metadata": {
    "execution": {
     "iopub.execute_input": "2021-10-29T10:58:56.421757Z",
     "iopub.status.busy": "2021-10-29T10:58:56.421333Z",
     "iopub.status.idle": "2021-10-29T10:59:06.564224Z",
     "shell.execute_reply": "2021-10-29T10:59:06.561821Z",
     "shell.execute_reply.started": "2021-10-29T10:58:56.421714Z"
    }
   },
   "source": [
    "En la práctica, aparte de considerar $\\mathbb Z_p^*$ también se \n",
    "trabaja en otros grupos:\n",
    "* Grupo multiplicativo de un cuerpo finito:\n",
    "  - $\\mathbb Z_p^*$,\n",
    "  - $\\mathbb F_{2^n}$.  \n",
    "* Grupo formado por los puntos de una curva elíptica.\n"
   ]
  },
  {
   "cell_type": "code",
   "execution_count": null,
   "metadata": {},
   "outputs": [],
   "source": []
  },
  {
   "cell_type": "markdown",
   "metadata": {
    "execution": {
     "iopub.execute_input": "2021-10-29T10:58:56.421757Z",
     "iopub.status.busy": "2021-10-29T10:58:56.421333Z",
     "iopub.status.idle": "2021-10-29T10:59:06.564224Z",
     "shell.execute_reply": "2021-10-29T10:59:06.561821Z",
     "shell.execute_reply.started": "2021-10-29T10:58:56.421714Z"
    }
   },
   "source": [
    "<!--l. 711--><p class=\"noindent\" >\n",
    "   <h3 class=\"sectionHead\"><span class=\"titlemark\">2  </span> <a \n",
    " id=\"x1-100003\"></a>Cálculo del logaritmo discreto</h3>\n",
    "                                                                     \n",
    "\n",
    "                                                                     \n",
    "<!--l. 713--><p class=\"noindent\" >\n",
    "   <h4 class=\"subsectionHead\"><span class=\"titlemark\">2.1   </span> <a \n",
    " id=\"x1-110003.1\"></a>Baby-step, Giant-step</h4>\n",
    "\n",
    "Sea $g$ generador de $G$ grupo de orden $n$, $(g^n=1)$.\n",
    "\n",
    "Sea $\\beta\\in G$, deseamos hallar un entero $x$ tal que $g^x=\\beta$:\n",
    "1. Sea $M=\\lceil\\sqrt{n}\\rceil$\n",
    "1. Se calcula la tabla \n",
    "  $$\n",
    "  (j,g^j)\\quad j=0,\\dots,M-1,\\, j\\in\\mathbb Z, \\, g^j\\in G.\n",
    "  $$\n",
    "  es conveniente ordenar la tabla por la segunda componente.\n",
    "1. Se calcula $g^{-M}$ y sea $\\gamma=\\beta$. \n",
    "1.  Para $i=0$ hasta $M-1$\n",
    "  * Se busca $\\gamma$ en la tabla\n",
    "      - Si $\\gamma=g^j$ entonces $x=i\\cdot M+j$\n",
    "      - en caso contrario $\\gamma=\\gamma\\cdot g^{-M}$.\n",
    "\n",
    "* La tabla tiene un coste de construcción ${\\cal O}(\\sqrt{n})$,  requiere almacenar ${\\cal O}(\\sqrt{n})$  elementos y tiene un coste de ordenación ${\\cal O}(\\sqrt{n}\\log n)$\n",
    "* el último punto del algoritmo tiene un coste de ${\\cal O}(\\sqrt{n})$ multiplicaciones\n",
    "     y ${\\cal O}(\\sqrt{n})$ comparaciones.\n",
    "     \n",
    " "
   ]
  },
  {
   "cell_type": "code",
   "execution_count": 38,
   "metadata": {
    "execution": {
     "iopub.execute_input": "2022-11-11T08:37:18.182086Z",
     "iopub.status.busy": "2022-11-11T08:37:18.181572Z",
     "iopub.status.idle": "2022-11-11T08:37:18.203479Z",
     "shell.execute_reply": "2022-11-11T08:37:18.202858Z",
     "shell.execute_reply.started": "2022-11-11T08:37:18.182039Z"
    },
    "tags": []
   },
   "outputs": [
    {
     "data": {
      "text/html": [
       "\\(G=\\mathbb Z_p\\), \\(p\\) primo"
      ],
      "text/plain": [
       "\\(G=\\mathbb Z_p\\), \\(p\\) primo"
      ]
     },
     "metadata": {},
     "output_type": "display_data"
    },
    {
     "name": "stdout",
     "output_type": "stream",
     "text": [
      "+"
     ]
    },
    {
     "data": {
      "text/html": [
       "\\(p= \\)82763 <br> \\(g= \\)11915 <br> La tabla tiene 204 elementos<br> "
      ],
      "text/plain": [
       "\\(p= \\)82763 <br> \\(g= \\)11915 <br> La tabla tiene 204 elementos<br> "
      ]
     },
     "metadata": {},
     "output_type": "display_data"
    },
    {
     "name": "stdout",
     "output_type": "stream",
     "text": [
      "\n",
      " Tabla exponencial: [1, 54, 1074, 1654, 2358, 2515, 3971, 4430, 4537, 4969, 5002, 6019, 6392, 6869, 7871, 8251, 8540, 8653, 8892, 9470, 9518, 9816, 10069, 11076, 11178, 11195, 11326, 11399, 11540, 11614, 11628, 11915, 12041, 12194, 12486, 13521, 13623, 14116, 14418, 14484, 14817, 15208, 15286, 15530, 15663, 15946, 16005, 16846, 16969, 17370, 17724, 18720, 18813, 19263, 19802, 19815, 19858, 20203, 20361, 20906, 21006, 21103, 21405, 21660, 21847, 22388, 22795, 22962, 23010, 23866, 24292, 24480, 24843, 25307, 26266, 26870, 26980, 27296, 28680, 28766, 29081, 29392, 29757, 30090, 30968, 31483, 32487, 34305, 34691, 34923, 35113, 35237, 35427, 35643, 36781, 37625, 38029, 38373, 38494, 38913, 40007, 40236, 40329, 42229, 42258, 42445, 42760, 43442, 43627, 43706, 43857, 43871, 43941, 44076, 44396, 44566, 44637, 45579, 45600, 45774, 45917, 46318, 46898, 47772, 48548, 48644, 48908, 50245, 51208, 51288, 52694, 52697, 53047, 53094, 53127, 54090, 54197, 55505, 55649, 56013, 56050, 56657, 56741, 56792, 57022, 57154, 57232, 57245, 57291, 57401, 57429, 57467, 57944, 58986, 60039, 60381, 60515, 60560, 60831, 60930, 61123, 61467, 62246, 63419, 63619, 64065, 64069, 64645, 64814, 65705, 65742, 66280, 66677, 67668, 69449, 69837, 70873, 70984, 71416, 71803, 72485, 73336, 74291, 74620, 74919, 75797, 75804, 76536, 76577, 76634, 76737, 76826, 76831, 76843, 77557, 78389, 78442, 79135, 79245, 80020, 80726, 80820, 81040, 82585]\n",
      "\n",
      " Tabla logaritmos: [0, 181, 92, 99, 144, 20, 16, 73, 198, 157, 161, 21, 18, 68, 51, 136, 190, 28, 113, 162, 118, 100, 146, 64, 106, 75, 24, 160, 114, 91, 143, 1, 13, 5, 52, 101, 96, 199, 44, 94, 63, 71, 66, 59, 169, 35, 95, 139, 47, 133, 200, 19, 148, 138, 97, 140, 38, 107, 154, 195, 105, 135, 83, 119, 132, 50, 167, 155, 128, 120, 46, 49, 150, 124, 179, 122, 70, 125, 2, 123, 163, 81, 115, 158, 178, 192, 180, 173, 149, 77, 72, 40, 82, 80, 58, 103, 193, 191, 203, 145, 9, 14, 165, 85, 86, 6, 185, 142, 22, 4, 151, 32, 108, 172, 8, 30, 62, 53, 25, 89, 102, 65, 55, 84, 147, 15, 197, 7, 93, 10, 112, 61, 201, 129, 57, 67, 164, 36, 141, 126, 134, 56, 87, 17, 168, 34, 76, 45, 11, 130, 187, 104, 78, 183, 171, 174, 156, 29, 88, 42, 196, 117, 131, 74, 175, 23, 182, 60, 188, 37, 54, 98, 43, 26, 153, 27, 194, 137, 39, 90, 121, 152, 69, 33, 41, 159, 12, 3, 79, 111, 202, 127, 176, 170, 184, 48, 110, 186, 31, 189, 116, 166, 109, 177]\n"
     ]
    }
   ],
   "source": [
    "pretty_print(html('$G=\\\\mathbb Z_p$, $p$ primo'))\n",
    "\n",
    "\n",
    "NdeBits=16\n",
    "p=primo_2q1(NdeBits)\n",
    "q=Integer((p-1)/2)\n",
    "g=mod(randint(0,2^(NdeBits)),p);\n",
    "while g^2==1 or g^q==1:\n",
    "    print( \"+\",end='');\n",
    "    g=mod(randint(0,2^(NdeBits)),p);\n",
    "\n",
    "#p=113; q=112; g=3 #Logaritmo discreto de juguete\n",
    "    \n",
    "M=ceil(sqrt(q-1));\n",
    "  \n",
    "gM=mod(g^-M,p);\n",
    "\n",
    "Tabla=[[i,mod(g^i,p)] for i in range(0,M)]\n",
    "Tabla=sorted(Tabla, key=lambda x: x[1])\n",
    "Tabla_exp=[i[1] for i in Tabla]\n",
    "Tabla_log=[i[0] for i in Tabla]\n",
    "\n",
    "show(html('$p= ${0} <br> $g= ${1} <br> La tabla tiene {2} elementos<br> '.format(p,g,M)))  \n",
    "\n",
    "if NdeBits <=20:\n",
    "    print(\"\\n Tabla exponencial:\", Tabla_exp)\n",
    "    print(\"\\n Tabla logaritmos:\", Tabla_log)\n",
    "else:\n",
    "    print(\"\\n Tablas muy grandes\")"
   ]
  },
  {
   "cell_type": "code",
   "execution_count": 39,
   "metadata": {
    "execution": {
     "iopub.execute_input": "2022-11-11T08:38:38.675143Z",
     "iopub.status.busy": "2022-11-11T08:38:38.674649Z",
     "iopub.status.idle": "2022-11-11T08:39:28.724024Z",
     "shell.execute_reply": "2022-11-11T08:39:28.722312Z",
     "shell.execute_reply.started": "2022-11-11T08:38:38.675102Z"
    },
    "tags": []
   },
   "outputs": [
    {
     "name": "stdout",
     "output_type": "stream",
     "text": [
      "i= 199  de  204 Gamma= 6869               \n",
      "Logaritmo Discreto de 72041 en base 11915 es: 40460\n",
      "True\n",
      "Tiempo: 50.03612470626831\n",
      "Tiempo: 50.03649401664734\n"
     ]
    }
   ],
   "source": [
    "Beta=mod(g^randint(0,q-1),p);\n",
    "\n",
    "Gamma=Beta;\n",
    "\n",
    "t1=walltime();\n",
    "fin=False;\n",
    "i=0;\n",
    "while i in range(0,M) and not(fin):\n",
    "    print('                                          ', end='\\r')\n",
    "    print('i=',i+1, ' de ',M, 'Gamma=', Gamma, end='\\r')\n",
    "    time.sleep(float(0.25))\n",
    "#    print('.', end='')\n",
    "    try:\n",
    "        j=Tabla_exp.index(Gamma)\n",
    "    except:   \n",
    "        j=-1\n",
    "    if j!=-1:\n",
    "        x=i*M+Tabla_log[j];\n",
    "        print( \"\\nLogaritmo Discreto de\",Beta,\"en base\",g, \"es:\",x);\n",
    "        print(g**x==Beta)\n",
    "        print('Tiempo:',walltime(t1));\n",
    "        fin=True;\n",
    "        break;\n",
    "    else:\n",
    "        Gamma=Gamma*gM;\n",
    "    i=i+1;\n",
    "print('Tiempo:',walltime(t1));\n",
    "\n"
   ]
  },
  {
   "cell_type": "raw",
   "metadata": {},
   "source": []
  },
  {
   "cell_type": "markdown",
   "metadata": {
    "execution": {
     "iopub.execute_input": "2021-10-29T10:58:56.421757Z",
     "iopub.status.busy": "2021-10-29T10:58:56.421333Z",
     "iopub.status.idle": "2021-10-29T10:59:06.564224Z",
     "shell.execute_reply": "2021-10-29T10:59:06.561821Z",
     "shell.execute_reply.started": "2021-10-29T10:58:56.421714Z"
    }
   },
   "source": [
    "  \n",
    "    \n",
    "   <h4 class=\"subsectionHead\"><span class=\"titlemark\">2.2   </span> <a \n",
    " id=\"x1-130003.3\"></a>Index calculus</h4>\n",
    " \n",
    " \n",
    " <p>$g$ generador de orden $n$ de un grupo cíclico $G$.</p>\n",
    "<p>Dado $\\beta\\in G$ queremos hallar $k\\in\\mathbb{Z}$ tal que $g^k=\\beta$</p>\n",
    "<p> </p>\n",
    "<ol>\n",
    "<li>Se selecciona una <em>base $S=\\{h_1,\\dots,h_t\\}$ </em>de forma que una<em> porción grande</em> de elementos de $G$ se puedan escribir como <em>productos </em>de elementos de $S$: $$\\beta=h_1^{e_1} h_2^{e_2} \\cdots h_t^{e_t}$$ </li>\n",
    "<li>Se calculan los logaritmos discretos (LD) de los elementos de $S$:<ol style=\"list-style-type: lower-roman;\">\n",
    "<li>$0\\leq k\\leq n-1$ aleatorio, calculamos $g^k$</li>\n",
    "<li>Se intenta escribir $g^k=\\prod h_i^{e_i}$, $e_i\\geq 0$. Si es posible, entonces $k=\\sum e_i\\log(h_i) \\mod n\\ (*)$</li>\n",
    "<li>Se repite el proceso hasta obtener $t$ relaciones del tipo $(*)$ que nos permitan plantear un sistema lineal de ecuaciones resoluble donde las incognitas son los $\\log h_i$ </li>\n",
    "</ol></li>\n",
    "<li>Cálculo del LD concreto:<ol style=\"list-style-type: lower-roman;\">\n",
    "<li>$0\\leq k\\leq n-1$ aleatorio, calculamos $g^k$</li>\n",
    "<li>Si $\\beta g^k=\\prod h_i^{d_i}$, $d_i\\geq 0$ entonces  $\\log\\beta+k=\\sum d_i\\log(h_i) \\mod n$, i.e. $\\log\\beta=\\sum d_i\\log(h_i) \\mod n-k$</li>\n",
    "</ol></li>\n",
    "</ol>\n",
    "<div> </div>\n",
    "<div>La tabla del punto (2) sólo hay que calcularla una vez, es la parte más costosa.</div>\n",
    "<div>El punto (3) es muy rápido en comparación con (2)</div>\n",
    "<div>El coste es ${\\cal O}((\\exp(c(\\log(n))^{1/3}(\\log(\\log(n)))^{2/3})$ si calculamos el LD en $\\mathbb{Z}_p$.</div>\n",
    " \n",
    "\n",
    "\n",
    "\n",
    "\n",
    "\n"
   ]
  },
  {
   "cell_type": "code",
   "execution_count": 56,
   "metadata": {
    "execution": {
     "iopub.execute_input": "2022-11-11T08:51:52.707609Z",
     "iopub.status.busy": "2022-11-11T08:51:52.707146Z",
     "iopub.status.idle": "2022-11-11T08:51:52.764420Z",
     "shell.execute_reply": "2022-11-11T08:51:52.763912Z",
     "shell.execute_reply.started": "2022-11-11T08:51:52.707571Z"
    },
    "tags": []
   },
   "outputs": [
    {
     "data": {
      "text/html": [
       "\\(G=\\mathbb Z_p\\), \\(p\\) primo"
      ],
      "text/plain": [
       "\\(G=\\mathbb Z_p\\), \\(p\\) primo"
      ]
     },
     "metadata": {},
     "output_type": "display_data"
    },
    {
     "name": "stdout",
     "output_type": "stream",
     "text": [
      "Primo    :  48311\n",
      "Generador:  7\n",
      "Base de primos:  [2, 3, 5, 7, 11, 13, 17, 19]\n",
      "Numero de Intentos:  1 ; k= 23346 ; g^k mod p = 2574\n",
      "Numero de Intentos:  11 ; k= 8394 ; g^k mod p = 1625\n",
      "Numero de Intentos:  62 ; k= 5880 ; g^k mod p = 34485\n",
      "Numero de Intentos:  75 ; k= 10839 ; g^k mod p = 16320\n",
      "Numero de Intentos:  77 ; k= 37258 ; g^k mod p = 13365\n",
      "Numero de Intentos:  105 ; k= 16772 ; g^k mod p = 490\n",
      "Numero de Intentos:  115 ; k= 42104 ; g^k mod p = 22815\n",
      "Numero de Intentos:  175 ; k= 34520 ; g^k mod p = 9750\n",
      "Numero de Intentos:  196 ; k= 42832 ; g^k mod p = 5202\n",
      "Numero de Intentos:  210 ; k= 31382 ; g^k mod p = 46930\n",
      "Numero de Intentos:  216 ; k= 29801 ; g^k mod p = 37179\n",
      "Numero de Intentos:  231 ; k= 41222 ; g^k mod p = 10710\n",
      "Numero de Intentos:  253 ; k= 5756 ; g^k mod p = 10368\n",
      "Numero de Intentos:  272 ; k= 17612 ; g^k mod p = 9375\n",
      "Numero de Intentos:  282 ; k= 36366 ; g^k mod p = 22542\n",
      "Numero de Intentos:  290 ; k= 9166 ; g^k mod p = 4598\n",
      "0 [1, 2, 0, 0, 1, 1, 0, 0, 23346, 2574]     2 * 3^2 * 11 * 13\n",
      "1 [0, 0, 3, 0, 0, 1, 0, 0, 8394, 1625]     5^3 * 13\n",
      "2 [0, 1, 1, 0, 2, 0, 0, 1, 5880, 34485]     3 * 5 * 11^2 * 19\n",
      "3 [6, 1, 1, 0, 0, 0, 1, 0, 10839, 16320]     2^6 * 3 * 5 * 17\n",
      "4 [0, 5, 1, 0, 1, 0, 0, 0, 37258, 13365]     3^5 * 5 * 11\n",
      "5 [1, 0, 1, 2, 0, 0, 0, 0, 16772, 490]     2 * 5 * 7^2\n",
      "6 [0, 3, 1, 0, 0, 2, 0, 0, 42104, 22815]     3^3 * 5 * 13^2\n",
      "7 [1, 1, 3, 0, 0, 1, 0, 0, 34520, 9750]     2 * 3 * 5^3 * 13\n",
      "8 [1, 2, 0, 0, 0, 0, 2, 0, 42832, 5202]     2 * 3^2 * 17^2\n",
      "9 [1, 0, 1, 0, 0, 1, 0, 2, 31382, 46930]     2 * 5 * 13 * 19^2\n",
      "10 [0, 7, 0, 0, 0, 0, 1, 0, 29801, 37179]     3^7 * 17\n",
      "11 [1, 2, 1, 1, 0, 0, 1, 0, 41222, 10710]     2 * 3^2 * 5 * 7 * 17\n",
      "12 [7, 4, 0, 0, 0, 0, 0, 0, 5756, 10368]     2^7 * 3^4\n",
      "13 [0, 1, 5, 0, 0, 0, 0, 0, 17612, 9375]     3 * 5^5\n",
      "14 [1, 1, 0, 0, 0, 1, 2, 0, 36366, 22542]     2 * 3 * 13 * 17^2\n",
      "15 [1, 0, 0, 0, 2, 0, 0, 1, 9166, 4598]     2 * 11^2 * 19\n",
      "Solución: (15394, 10732, 1376, 1, -17778, 4266, -93633, 29328)\n",
      "[15394, 10732, 1376, 1, 30532, 4266, 2987, 29328]\n",
      "Logaritmo de 2 = 15394 True\n",
      "Logaritmo de 3 = 10732 True\n",
      "Logaritmo de 5 = 1376 True\n",
      "Logaritmo de 7 = 1 True\n",
      "Logaritmo de 11 = 30532 True\n",
      "Logaritmo de 13 = 4266 True\n",
      "Logaritmo de 17 = 2987 True\n",
      "Logaritmo de 19 = 29328 True\n"
     ]
    }
   ],
   "source": [
    "pretty_print(html('$G=\\\\mathbb Z_p$, $p$ primo'))\n",
    "\n",
    "\n",
    "NdeBits=16\n",
    "p=next_probable_prime(randint(2**(NdeBits-1),2**NdeBits))\n",
    "\n",
    "\n",
    "#p=229;\n",
    "g=mod(2,p)\n",
    "while g.multiplicative_order()!=p-1:\n",
    "    g=g+1\n",
    "\n",
    "ordenG=p-1;\n",
    "\n",
    "Base=list(primes(1,20));\n",
    "NumeroDePrimos=len(Base);\n",
    "NumeroDeLogaritmosABuscar=NumeroDePrimos*2\n",
    "NumeroDeLogaritmos=0;\n",
    "NumeroDeIntentos=0;\n",
    "\n",
    "\n",
    "print (\"Primo    : \", p)\n",
    "print (\"Generador: \", g)\n",
    "\n",
    "print (\"Base de primos: \", Base)\n",
    "\n",
    "\n",
    "exponenteMatrix = [[0 for i in range(0,NumeroDePrimos+2)] for i in range(0,NumeroDeLogaritmosABuscar)] \n",
    "\n",
    "while NumeroDeLogaritmos<NumeroDeLogaritmosABuscar:\n",
    "    NumeroDeIntentos=NumeroDeIntentos+1;\n",
    "    exponente=list([0 for i in  range(0,NumeroDePrimos)]);\n",
    "    k=randint(1,ordenG);\n",
    "    x2=mod(g^k,p);\n",
    "    for i in range(NumeroDePrimos):\n",
    "        pi=Base[i];\n",
    "        while mod(x2,pi)==0:\n",
    "            exponente[i]=exponente[i]+1;\n",
    "            x2=x2/pi\n",
    "    if x2==1:\n",
    "        print( \"Numero de Intentos: \", NumeroDeIntentos, \"; k=\",k, \"; g^k mod p =\",mod(g^k,p));\n",
    "        for i in range(len(Base)):\n",
    "            pi=Base[i];\n",
    "            exponenteMatrix[NumeroDeLogaritmos][i]=exponente[i];\n",
    "            #print pi, \"^\", exponente[i];\n",
    "        exponenteMatrix[NumeroDeLogaritmos][NumeroDePrimos]=k;\n",
    "        exponenteMatrix[NumeroDeLogaritmos][NumeroDePrimos+1]=Integer(mod(g^k,p));\n",
    "        NumeroDeLogaritmos=NumeroDeLogaritmos+1;\n",
    "        \n",
    "for i in range(NumeroDeLogaritmosABuscar):\n",
    "    print (i,  exponenteMatrix[i],\"   \", factor(exponenteMatrix[i][NumeroDePrimos+1]))\n",
    "\n",
    "Matrices=MatrixSpace(ZZ, NumeroDePrimos);\n",
    "M=Matrices.matrix( [ exponenteMatrix[i][j] for j in range(NumeroDePrimos) ] for i in range(NumeroDePrimos));\n",
    "\n",
    "V=vector(ZZ, [exponenteMatrix[i][NumeroDePrimos] for i in range(NumeroDePrimos) ]);\n",
    "\n",
    "\n",
    "\n",
    "solucion = M.solve_right(V);\n",
    "print('Solución:', solucion)\n",
    "\n",
    "cte=1\n",
    "#solucion2=Integer(mod(cte^-1,ordenG))*cte*solucion\n",
    "solucion2=[mod(i,ordenG) for i in solucion]\n",
    "print(solucion2)\n",
    "for i in range(NumeroDePrimos):\n",
    "    print (\"Logaritmo de\", Base[i],\"=\", mod(solucion2[i],ordenG),mod(g^solucion2[i],p)==Base[i])\n",
    "    if mod(g^solucion2[i],p)!=Base[i]:\n",
    "        print('----------------------Error-----------------------')\n",
    "    "
   ]
  },
  {
   "cell_type": "code",
   "execution_count": 58,
   "metadata": {
    "execution": {
     "iopub.execute_input": "2022-11-11T08:52:07.816606Z",
     "iopub.status.busy": "2022-11-11T08:52:07.816124Z",
     "iopub.status.idle": "2022-11-11T08:52:07.827718Z",
     "shell.execute_reply": "2022-11-11T08:52:07.827170Z",
     "shell.execute_reply.started": "2022-11-11T08:52:07.816566Z"
    },
    "tags": []
   },
   "outputs": [
    {
     "name": "stdout",
     "output_type": "stream",
     "text": [
      "Numero de Intentos:  343 ; k= 3835 ; Beta*g^k mod p = 28561\n",
      "[0, 0, 0, 0, 0, 4, 0, 0]     13^4\n",
      "Logaritmo de 37677 = 13229\n",
      "True\n"
     ]
    }
   ],
   "source": [
    "Beta=13\n",
    "Beta=randint(1,p-1)\n",
    "NumeroDeLogaritmos=0\n",
    "while NumeroDeLogaritmos<1:\n",
    "    NumeroDeIntentos=NumeroDeIntentos+1\n",
    "    exponente=list([0 for i in  range(0,NumeroDePrimos)])\n",
    "    k=randint(1,ordenG)\n",
    "    x2=Beta*g**k\n",
    "    for i in range(NumeroDePrimos):\n",
    "        pi=Base[i]\n",
    "        while mod(x2,pi)==0:\n",
    "            exponente[i]=exponente[i]+1\n",
    "            x2=x2/pi\n",
    "    if x2==1:\n",
    "        print( \"Numero de Intentos: \", NumeroDeIntentos, \"; k=\",k, \"; Beta*g^k mod p =\",Beta*g**k) \n",
    "        NumeroDeLogaritmos=NumeroDeLogaritmos+1;\n",
    "        \n",
    "print (exponente,\"   \", factor(Integer(Beta*g**k)))\n",
    "\n",
    "LD=0\n",
    "for i in range(NumeroDePrimos):\n",
    "    LD=LD+mod(solucion2[i],ordenG)*exponente[i]\n",
    "LD=LD-k\n",
    "print (\"Logaritmo de\", Beta,\"=\", LD)\n",
    "print(g**LD==Beta)   "
   ]
  },
  {
   "cell_type": "code",
   "execution_count": null,
   "metadata": {},
   "outputs": [],
   "source": []
  },
  {
   "cell_type": "code",
   "execution_count": null,
   "metadata": {},
   "outputs": [],
   "source": []
  },
  {
   "cell_type": "markdown",
   "metadata": {
    "execution": {
     "iopub.execute_input": "2021-10-29T10:58:56.421757Z",
     "iopub.status.busy": "2021-10-29T10:58:56.421333Z",
     "iopub.status.idle": "2021-10-29T10:59:06.564224Z",
     "shell.execute_reply": "2021-10-29T10:59:06.561821Z",
     "shell.execute_reply.started": "2021-10-29T10:58:56.421714Z"
    }
   },
   "source": [
    "                                                                     \n",
    "<!--l. 958--><p class=\"noindent\" >\n",
    "   <h3 class=\"sectionHead\"><span class=\"titlemark\">3   </span> <a \n",
    " id=\"x1-140004\"></a>Curvas Elípticas</h3>\n",
    " \n",
    " <!--l. 960--><p class=\"noindent\" >\n",
    "   <h4 class=\"subsectionHead\"><span class=\"titlemark\">3.1   </span> <a \n",
    " id=\"x1-150004.1\"></a>Curvas elípticas sobre $\\mathbb Z_p$</h4>\n",
    " \n",
    " Sean $p>3$ primo y $a$, $b\\in\\mathbb Z_p$ tales que $4a^3+27b^2\\neq 0$ \n",
    "en $\\mathbb Z_p$ (para que todo punto tenga tangente i.e. las derivadas\n",
    "parciales no sean ambas cero en algún punto de la curva).\n",
    "\n",
    "Una curva elíptica $E(\\mathbb Z_p)$ sobre $\\mathbb Z_p$ definida por\n",
    "los parámetros $a$, $b$ es el conjunto de soluciones $(x,y)$, \n",
    "$x$, $y\\in\\mathbb Z_p,$ de la ecuación\n",
    "$$ y^2=x^3+ax+b, $$\n",
    "al que se le añade el punto del infinito ${\\cal O}$.\n",
    "\n",
    "$E(\\mathbb Z_p)$ forma un grupo abeliano con la operación suma definida:\n",
    "1. ${\\cal O}+{\\cal O}={\\cal O}$.\n",
    "1. $(x,y)+{\\cal O}=(x,y)$, ${\\cal O}$ es la identidad.\n",
    "1. $(x,y)+(x,-y)={\\cal O}$. El inverso de un elemento se obtiene cambiando el signo de la segunda componente.\n",
    ">\n",
    ">**Observación:** Si $(x,y)\\in E(\\mathbb Z_p)$ entonces $(x,-y)\\in E(\\mathbb Z_p)$.\n",
    "1. Regla para la suma de dos puntos distintos que no son uno inverso del otro:\n",
    "\t$$\n",
    "\t(x_1,y_1)+(x_2,y_2)=(x_3,y_3),\n",
    "\t$$\n",
    "\t\\begin{align*}\n",
    "\tx_3= & \\lambda^2-x_1-x_2,    \\\\\n",
    "\ty_3= & \\lambda(x_1-x_3)-y_1, \\\\\n",
    "\t\\lambda= & \\frac{y_2-y_1}{x_2-x_1}.\n",
    "\t\\end{align*}\n",
    "1. Regla para sumar un punto consigo mismo:\n",
    "\t$$\n",
    "\t2\\,(x_1,y_1)=(x_1,y_1)+(x_1,y_1)=(x_3,y_3),\n",
    "\t$$\n",
    "\t\\begin{align*}\n",
    "\tx_3= & \\lambda^2-2x_1,    \\\\\n",
    "\ty_3= & \\lambda(x_1-x_3)-y_1, \\\\\n",
    "\t\\lambda= & \\frac{3x_1^2+a}{2y_1}.\n",
    "\t\\end{align*}\n",
    "\n",
    "**Notas:**\n",
    "* Multiplicar un punto $P=(x,y)$ por $n$ significa $P+\\cdots+P$.\n",
    "    - $44P=2[2(2[2(2P)+P]+P)]$\n",
    "* Multiplicar un punto $P=(x,y)$ por $-n$ significa $Q+\\cdots+Q$ siendo $Q=(x,-y)$.\n",
    "\t\n"
   ]
  },
  {
   "cell_type": "code",
   "execution_count": 64,
   "metadata": {
    "execution": {
     "iopub.execute_input": "2022-11-11T08:58:55.158476Z",
     "iopub.status.busy": "2022-11-11T08:58:55.157873Z",
     "iopub.status.idle": "2022-11-11T08:58:55.977705Z",
     "shell.execute_reply": "2022-11-11T08:58:55.977066Z",
     "shell.execute_reply.started": "2022-11-11T08:58:55.158416Z"
    },
    "tags": []
   },
   "outputs": [
    {
     "data": {
      "text/html": [
       "\\(y^2=x^3+x+1\\)"
      ],
      "text/plain": [
       "\\(y^2=x^3+x+1\\)"
      ]
     },
     "metadata": {},
     "output_type": "display_data"
    },
    {
     "data": {
      "image/png": "[encoded data removed]",
      "text/plain": [
       "Graphics object consisting of 3 graphics primitives"
      ]
     },
     "metadata": {},
     "output_type": "display_data"
    }
   ],
   "source": [
    "var('x y')\n",
    "dib1=implicit_plot(y^2==x^3+x+1,(x,-1,5),(y,-10,10))\n",
    "dib2=plot((x-1)*(sqrt(31)-sqrt(3))/2+sqrt(3),(x,-1,5),color='green')\n",
    "dib3=plot(-(x-2)*(13/(2*sqrt(11)))-sqrt(11),(x,-1,5),color='red')\n",
    "pretty_print(html('$y^2=x^3+x+1$'))\n",
    "show(dib1+dib2+dib3, figsize=8,aspect_ratio=0.4)"
   ]
  },
  {
   "cell_type": "code",
   "execution_count": 65,
   "metadata": {
    "execution": {
     "iopub.execute_input": "2022-11-11T08:58:57.597677Z",
     "iopub.status.busy": "2022-11-11T08:58:57.596878Z",
     "iopub.status.idle": "2022-11-11T08:58:58.037798Z",
     "shell.execute_reply": "2022-11-11T08:58:58.037113Z",
     "shell.execute_reply.started": "2022-11-11T08:58:57.597606Z"
    },
    "tags": []
   },
   "outputs": [
    {
     "data": {
      "text/html": [
       "<html>\\[\\newcommand{\\Bold}[1]{\\mathbf{#1}}y^2 = x^{3} + x + 1 \\]</html>"
      ],
      "text/latex": [
       "$$\\newcommand{\\Bold}[1]{\\mathbf{#1}}y^2 = x^{3} + x + 1 $$"
      ],
      "text/plain": [
       "Elliptic Curve defined by y^2 = x^3 + x + 1 over Finite Field of size 23"
      ]
     },
     "metadata": {},
     "output_type": "display_data"
    },
    {
     "data": {
      "text/html": [
       "<html>\\[\\newcommand{\\Bold}[1]{\\mathbf{#1}}\\left[\\left(0 : 1 : 0\\right), \\left(0 : 1 : 1\\right), \\left(0 : 22 : 1\\right), \\left(1 : 7 : 1\\right), \\left(1 : 16 : 1\\right), \\left(3 : 10 : 1\\right), \\left(3 : 13 : 1\\right), \\left(4 : 0 : 1\\right), \\left(5 : 4 : 1\\right), \\left(5 : 19 : 1\\right), \\left(6 : 4 : 1\\right), \\left(6 : 19 : 1\\right), \\left(7 : 11 : 1\\right), \\left(7 : 12 : 1\\right), \\left(9 : 7 : 1\\right), \\left(9 : 16 : 1\\right), \\left(11 : 3 : 1\\right), \\left(11 : 20 : 1\\right), \\left(12 : 4 : 1\\right), \\left(12 : 19 : 1\\right), \\left(13 : 7 : 1\\right), \\left(13 : 16 : 1\\right), \\left(17 : 3 : 1\\right), \\left(17 : 20 : 1\\right), \\left(18 : 3 : 1\\right), \\left(18 : 20 : 1\\right), \\left(19 : 5 : 1\\right), \\left(19 : 18 : 1\\right)\\right]\\]</html>"
      ],
      "text/latex": [
       "$$\\newcommand{\\Bold}[1]{\\mathbf{#1}}\\left[\\left(0 : 1 : 0\\right), \\left(0 : 1 : 1\\right), \\left(0 : 22 : 1\\right), \\left(1 : 7 : 1\\right), \\left(1 : 16 : 1\\right), \\left(3 : 10 : 1\\right), \\left(3 : 13 : 1\\right), \\left(4 : 0 : 1\\right), \\left(5 : 4 : 1\\right), \\left(5 : 19 : 1\\right), \\left(6 : 4 : 1\\right), \\left(6 : 19 : 1\\right), \\left(7 : 11 : 1\\right), \\left(7 : 12 : 1\\right), \\left(9 : 7 : 1\\right), \\left(9 : 16 : 1\\right), \\left(11 : 3 : 1\\right), \\left(11 : 20 : 1\\right), \\left(12 : 4 : 1\\right), \\left(12 : 19 : 1\\right), \\left(13 : 7 : 1\\right), \\left(13 : 16 : 1\\right), \\left(17 : 3 : 1\\right), \\left(17 : 20 : 1\\right), \\left(18 : 3 : 1\\right), \\left(18 : 20 : 1\\right), \\left(19 : 5 : 1\\right), \\left(19 : 18 : 1\\right)\\right]$$"
      ],
      "text/plain": [
       "[(0 : 1 : 0), (0 : 1 : 1), (0 : 22 : 1), (1 : 7 : 1), (1 : 16 : 1), (3 : 10 : 1), (3 : 13 : 1), (4 : 0 : 1), (5 : 4 : 1), (5 : 19 : 1), (6 : 4 : 1), (6 : 19 : 1), (7 : 11 : 1), (7 : 12 : 1), (9 : 7 : 1), (9 : 16 : 1), (11 : 3 : 1), (11 : 20 : 1), (12 : 4 : 1), (12 : 19 : 1), (13 : 7 : 1), (13 : 16 : 1), (17 : 3 : 1), (17 : 20 : 1), (18 : 3 : 1), (18 : 20 : 1), (19 : 5 : 1), (19 : 18 : 1)]"
      ]
     },
     "metadata": {},
     "output_type": "display_data"
    },
    {
     "data": {
      "image/png": "[encoded data removed]",
      "text/plain": [
       "Graphics object consisting of 1 graphics primitive"
      ]
     },
     "metadata": {},
     "output_type": "display_data"
    },
    {
     "data": {
      "image/png": "[encoded data removed]",
      "text/plain": [
       "Graphics object consisting of 2 graphics primitives"
      ]
     },
     "metadata": {},
     "output_type": "display_data"
    }
   ],
   "source": [
    "E23 = EllipticCurve(GF(23),[1,1])\n",
    "show(E23)\n",
    "pretty_print(E23.points())\n",
    "puntos=points( ((0,1),(0 , 22 ), (1 , 7), (1 , 16 ), (3 ,10 ), (3 , 13) , (4 , 0 ), (5 , 4), (5 , 19), (6 , 4), (6 , 19 ), (7 , 11), (7 , 12), (9 , 7 ), (9 , 16 ),(11 , 3 ), (11 , 20), (12 , 4 ), (12 , 19 ), (13 , 7 ),(13 , 16), (17 , 3 ), (17 , 20), (18 , 3), (18 , 20 ),(19 , 5 ), (19 , 18)) ,size=30)\n",
    "show(puntos)\n",
    "curva=implicit_plot(y^2==x^3+x+1,(x,-1,20),(y,-5,30), color=\"red\")\n",
    "show(puntos+curva, figsize=8,aspect_ratio=0.4)"
   ]
  },
  {
   "cell_type": "markdown",
   "metadata": {},
   "source": [
    "### Defino un curva"
   ]
  },
  {
   "cell_type": "code",
   "execution_count": 66,
   "metadata": {
    "execution": {
     "iopub.execute_input": "2022-11-11T08:59:00.186513Z",
     "iopub.status.busy": "2022-11-11T08:59:00.185545Z",
     "iopub.status.idle": "2022-11-11T08:59:00.525519Z",
     "shell.execute_reply": "2022-11-11T08:59:00.524957Z",
     "shell.execute_reply.started": "2022-11-11T08:59:00.186407Z"
    },
    "tags": []
   },
   "outputs": [
    {
     "data": {
      "application/vnd.jupyter.widget-view+json": {
       "model_id": "",
       "version_major": 2,
       "version_minor": 0
      },
      "text/plain": [
       "Interactive function <function _ at 0x7f6bfd8c8d30> with 3 widgets\n",
       "  Primo: Dropdown(description='Primo', opti…"
      ]
     },
     "metadata": {},
     "output_type": "display_data"
    }
   ],
   "source": [
    "@interact(layout=dict(\n",
    "                      top=[['Primo'],['A','B']]\n",
    "                      )\n",
    "          )\n",
    "          \n",
    "def _(Primo=prime_range(5,1000),A=-1,B=11):\n",
    "    global Ep, a,b,p,puntos\n",
    "    if is_prime(Primo) and mod(4*A**3+27*B**2,Primo)!=0:\n",
    "        a=A\n",
    "        b=B\n",
    "        p=Primo\n",
    "        Ep = EllipticCurve(GF(p),[a,b])\n",
    "        puntos=points(((Ep.points()[i][0],Ep.points()[i][1]) for i in range(len(Ep.points()))),size=30)\n",
    "        cardinal=Ep.cardinality()\n",
    "        primalidadCardinal=is_prime(cardinal)\n",
    "        pretty_print(html('$$%s \\\\pmod{%s}$$'%(latex(Ep),p)))\n",
    "        pretty_print(html('El número de puntos de la curva es %s. ¿Es primo? %s'%(cardinal,primalidadCardinal)))\n",
    "        show(puntos)\n",
    "    elif is_prime(Primo)==False:\n",
    "         pretty_print(html('Error: %s no es primo'%(Primo)))   \n",
    "    else:\n",
    "         pretty_print(html('Error: $4\\\\cdot%s^{3}+27\\\\cdot%s^{2}\\\\equiv 0\\\\mod %s$'%(A,B,Primo)))\n",
    "            \n",
    "            "
   ]
  },
  {
   "cell_type": "markdown",
   "metadata": {},
   "source": [
    "### Opero con la curva definida"
   ]
  },
  {
   "cell_type": "code",
   "execution_count": 68,
   "metadata": {
    "execution": {
     "iopub.execute_input": "2022-11-11T08:59:53.121737Z",
     "iopub.status.busy": "2022-11-11T08:59:53.121198Z",
     "iopub.status.idle": "2022-11-11T08:59:53.483616Z",
     "shell.execute_reply": "2022-11-11T08:59:53.483149Z",
     "shell.execute_reply.started": "2022-11-11T08:59:53.121694Z"
    },
    "tags": []
   },
   "outputs": [
    {
     "data": {
      "application/vnd.jupyter.widget-view+json": {
       "model_id": "",
       "version_major": 2,
       "version_minor": 0
      },
      "text/plain": [
       "Interactive function <function _ at 0x7f6bfdd5a1f0> with 2 widgets\n",
       "  P: Dropdown(description='P', options=((0 …"
      ]
     },
     "metadata": {},
     "output_type": "display_data"
    }
   ],
   "source": [
    "@interact(layout=dict(\n",
    "                      top=[['P','Q']],\n",
    "                      )\n",
    "          )\n",
    "          \n",
    "def _(P=Ep.points()[1:],Q=Ep.points()[1:]): # La variable de control\n",
    "    pretty_print(html('$$%s \\\\pmod{%s}$$'%(latex(Ep),p)))\n",
    "\n",
    "    x1,y1=Integer(P[0]),Integer(P[1])\n",
    "    x2,y2=Integer(Q[0]),Integer(Q[1])\n",
    "\n",
    "    PQ=P+Q\n",
    "    if PQ[2]==1:\n",
    "        x3,y3 = Integer(PQ[0]), Integer(PQ[1])\n",
    "        puntos_sumados=points( ((x1 , y1 ), (x2 ,y2 ), (x3 , y3 ), (x3 , p-y3 )),size=100, color='black')\n",
    "        punto_suma=points( ((x3 , y3 )), size=200, color='purple')    \n",
    "    else: #punto oo\n",
    "        x3=x1\n",
    "        y3=p+5\n",
    "        puntos_sumados=points( ((x1 , y1 ), (x2 ,y2 ), (x3 , y3 )),size=100, color='black')\n",
    "        punto_suma=points( ((x3 , y3 )), size=200, color='purple')\n",
    "\n",
    "    if mod((x2-x1),p)!=0:\n",
    "        pendiente=Integer(mod((y2-y1)*mod((x2-x1)**(-1),p),p))\n",
    "    else:\n",
    "        pendiente=Integer(mod((3*x1**2+a)*mod((2*y1)**(-1),p),p))\n",
    "    \n",
    "    if pendiente!=0:\n",
    "        h=p/pendiente\n",
    "        x0=x1+(p-y1)/pendiente\n",
    "        \n",
    "        k0=floor(x0/h)\n",
    "        if k0!=(x0/h):\n",
    "            x0=x0-k0*h\n",
    "        else:\n",
    "            x0=h\n",
    "            k0=k0-1\n",
    "        \n",
    "        print('pendiente', pendiente, h, floor(x0/h), x0/h, k0, x0)\n",
    "\n",
    "    else:\n",
    "        x0=p\n",
    "        h=p\n",
    "        k0=0\n",
    "\n",
    "    show(P,'+',Q,'=',PQ)\n",
    "    #pretty_print(html('$y=%s(x-%s)+%s$)'%(pendiente,latex(ft),orden+1)))\n",
    "    #show(y,'=',pendiente*(x-x1)+y1)\n",
    "    pretty_print(html('$$y=%s\\\\;(x-%s)+%s$$'%(pendiente,x1,y1)))\n",
    "\n",
    "    \n",
    "    if PQ[2]==1: \n",
    "        rectas=plot(pendiente*(x-x1)+y1+k0*p,x,0,x0, color='green',linestyle='--')\n",
    "        for k in range(0,max(1,pendiente-1)):\n",
    "            rectas=rectas+plot(pendiente*(x-x1)+y1-(k+1-k0)*p,x,x0+h*(k),x0+h*(k+1), color='green',linestyle='--')\n",
    "    else: #punto oo\n",
    "        rectas=line([(x3 ,0),(x3,p)])    \n",
    "    h2=line([(x3 ,0),(x3,p)], color='red',linestyle='dotted',thickness=3)\n",
    "    \n",
    "    show(puntos+h2+rectas+puntos_sumados+punto_suma)"
   ]
  },
  {
   "cell_type": "raw",
   "metadata": {},
   "source": []
  },
  {
   "cell_type": "markdown",
   "metadata": {
    "execution": {
     "iopub.execute_input": "2021-10-29T10:58:56.421757Z",
     "iopub.status.busy": "2021-10-29T10:58:56.421333Z",
     "iopub.status.idle": "2021-10-29T10:59:06.564224Z",
     "shell.execute_reply": "2021-10-29T10:59:06.561821Z",
     "shell.execute_reply.started": "2021-10-29T10:58:56.421714Z"
    }
   },
   "source": [
    " \n",
    "   <h4 class=\"subsectionHead\"><span class=\"titlemark\">3.2   </span> <a \n",
    " id=\"x1-170004.3\"></a>Teorema de Hasse. Orden de un punto</h4>\n",
    "\n",
    "**Teorema de Hasse** \n",
    "\tSea $E(\\mathbb F_q)$ una curva elíptica sobre $\\mathbb F_q$. Entonces\n",
    "\t$$\n",
    "\tq+1-2\\sqrt q\\leq \\vert E(\\mathbb F_q)\\vert \\leq q+1+2\\sqrt q.\n",
    "\t$$\n",
    "\n",
    "**Definicion:**\n",
    "Orden de un punto $P \\in E(\\mathbb F_q)$: $n$ menor entero positivo  tal que $n\\,P={\\cal O}$.\n",
    "\n",
    "**Nota:** El orden de un punto es un divisor del número de puntos de la curva.\n",
    "\n",
    " "
   ]
  },
  {
   "cell_type": "code",
   "execution_count": 69,
   "metadata": {
    "execution": {
     "iopub.execute_input": "2022-11-11T09:01:33.877163Z",
     "iopub.status.busy": "2022-11-11T09:01:33.876304Z",
     "iopub.status.idle": "2022-11-11T09:01:35.982634Z",
     "shell.execute_reply": "2022-11-11T09:01:35.982072Z",
     "shell.execute_reply.started": "2022-11-11T09:01:33.877088Z"
    },
    "tags": []
   },
   "outputs": [
    {
     "name": "stdout",
     "output_type": "stream",
     "text": [
      "p = 55997\n",
      "Número de puntos de la curva: 55940\n",
      "55525 <= 55940 <= 56471\n",
      "Ordenes posibles: [1, 2, 4, 5, 10, 20, 2797, 5594, 11188, 13985, 27970, 55940]\n",
      "(0 : 1 : 0) Orden: 1\n",
      "(0 : 1 : 1) Orden: 55940\n",
      "(0 : 55996 : 1) Orden: 55940\n",
      "(4 : 1833 : 1) Orden: 5594\n",
      "(4 : 54164 : 1) Orden: 5594\n",
      "(5 : 21066 : 1) Orden: 55940\n",
      "(5 : 34931 : 1) Orden: 55940\n",
      "(7 : 3704 : 1) Orden: 55940\n",
      "(7 : 52293 : 1) Orden: 55940\n",
      "(8 : 27878 : 1) Orden: 13985\n",
      "(8 : 28119 : 1) Orden: 13985\n",
      "(11 : 11959 : 1) Orden: 27970\n",
      "(11 : 44038 : 1) Orden: 27970\n",
      "(16 : 16813 : 1) Orden: 55940\n",
      "(16 : 39184 : 1) Orden: 55940\n",
      "(18 : 4396 : 1) Orden: 27970\n",
      "(18 : 51601 : 1) Orden: 27970\n",
      "(19 : 23994 : 1) Orden: 2797\n",
      "(19 : 32003 : 1) Orden: 2797\n",
      "(20 : 14159 : 1) Orden: 5594\n",
      "(20 : 41838 : 1) Orden: 5594\n",
      "(21 : 24699 : 1) Orden: 13985\n",
      "(21 : 31298 : 1) Orden: 13985\n",
      "(24 : 18753 : 1) Orden: 55940\n",
      "(24 : 37244 : 1) Orden: 55940\n",
      "(26 : 5016 : 1) Orden: 27970\n",
      "(26 : 50981 : 1) Orden: 27970\n",
      "(28 : 6007 : 1) Orden: 55940\n",
      "(28 : 49990 : 1) Orden: 55940\n",
      "(30 : 26775 : 1) Orden: 55940\n",
      "(30 : 29222 : 1) Orden: 55940\n",
      "(32 : 25035 : 1) Orden: 55940\n",
      "(32 : 30962 : 1) Orden: 55940\n",
      "(33 : 4766 : 1) Orden: 55940\n",
      "(33 : 51231 : 1) Orden: 55940\n",
      "(36 : 18518 : 1) Orden: 55940\n",
      "(36 : 37479 : 1) Orden: 55940\n",
      "(37 : 10727 : 1) Orden: 55940\n",
      "(37 : 45270 : 1) Orden: 55940\n",
      "(42 : 3160 : 1) Orden: 13985\n",
      "(42 : 52837 : 1) Orden: 13985\n",
      "(47 : 8502 : 1) Orden: 5594\n",
      "(47 : 47495 : 1) Orden: 5594\n",
      "(48 : 24893 : 1) Orden: 55940\n",
      "(48 : 31104 : 1) Orden: 55940\n",
      "(54 : 21653 : 1) Orden: 55940\n",
      "(54 : 34344 : 1) Orden: 55940\n",
      "(55 : 13873 : 1) Orden: 55940\n",
      "(55 : 42124 : 1) Orden: 55940\n",
      "(57 : 20653 : 1) Orden: 5594\n",
      "(57 : 35344 : 1) Orden: 5594\n",
      "(59 : 14372 : 1) Orden: 13985\n",
      "(59 : 41625 : 1) Orden: 13985\n",
      "(60 : 1891 : 1) Orden: 27970\n",
      "(60 : 54106 : 1) Orden: 27970\n",
      "(63 : 26687 : 1) Orden: 55940\n",
      "(63 : 29310 : 1) Orden: 55940\n",
      "(65 : 9283 : 1) Orden: 55940\n",
      "(65 : 46714 : 1) Orden: 55940\n",
      "(67 : 26111 : 1) Orden: 13985\n",
      "(67 : 29886 : 1) Orden: 13985\n",
      "(68 : 26078 : 1) Orden: 55940\n",
      "(68 : 29919 : 1) Orden: 55940\n",
      "(70 : 16959 : 1) Orden: 27970\n",
      "(70 : 39038 : 1) Orden: 27970\n",
      "(71 : 22199 : 1) Orden: 13985\n",
      "(71 : 33798 : 1) Orden: 13985\n",
      "(72 : 611 : 1) Orden: 55940\n",
      "(72 : 55386 : 1) Orden: 55940\n",
      "(74 : 22904 : 1) Orden: 11188\n",
      "(74 : 33093 : 1) Orden: 11188\n",
      "(76 : 9958 : 1) Orden: 55940\n",
      "(76 : 46039 : 1) Orden: 55940\n",
      "(77 : 16492 : 1) Orden: 13985\n",
      "(77 : 39505 : 1) Orden: 13985\n",
      "(78 : 25055 : 1) Orden: 55940\n",
      "(78 : 30942 : 1) Orden: 55940\n",
      "(79 : 7901 : 1) Orden: 13985\n",
      "(79 : 48096 : 1) Orden: 13985\n",
      "(81 : 18100 : 1) Orden: 55940\n",
      "(81 : 37897 : 1) Orden: 55940\n",
      "(82 : 20530 : 1) Orden: 13985\n",
      "(82 : 35467 : 1) Orden: 13985\n",
      "(85 : 16632 : 1) Orden: 2797\n",
      "(85 : 39365 : 1) Orden: 2797\n",
      "(86 : 27438 : 1) Orden: 11188\n",
      "(86 : 28559 : 1) Orden: 11188\n",
      "(90 : 8813 : 1) Orden: 55940\n",
      "(90 : 47184 : 1) Orden: 55940\n",
      "(91 : 8725 : 1) Orden: 13985\n",
      "(91 : 47272 : 1) Orden: 13985\n",
      "(92 : 25197 : 1) Orden: 55940\n",
      "(92 : 30800 : 1) Orden: 55940\n",
      "(93 : 15210 : 1) Orden: 11188\n",
      "(93 : 40787 : 1) Orden: 11188\n",
      "(94 : 7316 : 1) Orden: 27970\n",
      "(94 : 48681 : 1) Orden: 27970\n",
      "(96 : 15544 : 1) Orden: 5594\n",
      "(96 : 40453 : 1) Orden: 5594\n",
      "(100 : 10186 : 1) Orden: 11188\n"
     ]
    }
   ],
   "source": [
    "NdeBits=16\n",
    "p=next_probable_prime(randint(2**(NdeBits-1),2**NdeBits))\n",
    "q=Integer(p)\n",
    "print(\"p =\",p)\n",
    "EC = EllipticCurve(GF(q),[1,1])\n",
    "Puntos=EC.points()\n",
    "print('Número de puntos de la curva:', EC.cardinality())\n",
    "print(ceil((q+1-2.*sqrt(q))),'<=',EC.cardinality(),'<=',floor((q+1+2.*sqrt(q))))\n",
    "\n",
    "print('Ordenes posibles:',divisors(EC.cardinality()))\n",
    "if EC.cardinality()<100:\n",
    "    for P in Puntos:\n",
    "        print(P,'Orden:',P.order())\n",
    "else:\n",
    "    for P in Puntos[:100]:\n",
    "        print(P,'Orden:',P.order())\n"
   ]
  },
  {
   "cell_type": "code",
   "execution_count": null,
   "metadata": {},
   "outputs": [],
   "source": []
  },
  {
   "cell_type": "code",
   "execution_count": null,
   "metadata": {},
   "outputs": [],
   "source": []
  },
  {
   "cell_type": "markdown",
   "metadata": {
    "execution": {
     "iopub.execute_input": "2021-10-29T10:58:56.421757Z",
     "iopub.status.busy": "2021-10-29T10:58:56.421333Z",
     "iopub.status.idle": "2021-10-29T10:59:06.564224Z",
     "shell.execute_reply": "2021-10-29T10:59:06.561821Z",
     "shell.execute_reply.started": "2021-10-29T10:58:56.421714Z"
    }
   },
   "source": [
    " \n",
    " \n",
    " \n",
    " \n",
    " \n",
    " \n",
    "   <h4 class=\"subsectionHead\"><span class=\"titlemark\">3.3   </span> <a \n",
    " id=\"x1-180004.4\"></a>DH sobre curvas elípticas</h4>\n",
    " \n",
    " Sea $E(\\mathbb Z_p)$ un curva elíptica sobre $\\mathbb Z_p$ y $P\\in E(\\mathbb Z_p)$ de orden $n$ suficientemente grande.\n",
    "\n",
    " \n",
    "\n",
    "<div class=\"center\" \n",
    ">\n",
    "<!--l. 1257--><p class=\"noindent\" >\n",
    "<!--l. 1259--><p class=\"center\" ><img \n",
    "src=\"logaritmo_discreto112x.png\" alt=\"PICT\" >\n",
    "</div>"
   ]
  },
  {
   "cell_type": "markdown",
   "metadata": {
    "tags": []
   },
   "source": [
    "### Curva P-256 $p = 2^{256} − 2^{224} + 2^{192} + 2^{96} − 1$\n",
    "\n",
    "<a href=\"http://nvlpubs.nist.gov/nistpubs/FIPS/NIST.FIPS.186-4.pdf\">http://nvlpubs.nist.gov/nistpubs/FIPS/NIST.FIPS.186-4.pdf</a> Appendix D</h3>"
   ]
  },
  {
   "cell_type": "code",
   "execution_count": 76,
   "metadata": {
    "execution": {
     "iopub.execute_input": "2022-11-11T09:18:54.178495Z",
     "iopub.status.busy": "2022-11-11T09:18:54.178025Z",
     "iopub.status.idle": "2022-11-11T09:18:54.290316Z",
     "shell.execute_reply": "2022-11-11T09:18:54.289706Z",
     "shell.execute_reply.started": "2022-11-11T09:18:54.178457Z"
    },
    "tags": []
   },
   "outputs": [
    {
     "data": {
      "text/html": [
       "Curva P-256"
      ],
      "text/plain": [
       "Curva P-256"
      ]
     },
     "metadata": {},
     "output_type": "display_data"
    },
    {
     "data": {
      "text/html": [
       "\\(y^2=x^3-3\\,x + b\\mod p\\)"
      ],
      "text/plain": [
       "\\(y^2=x^3-3\\,x + b\\mod p\\)"
      ]
     },
     "metadata": {},
     "output_type": "display_data"
    },
    {
     "data": {
      "text/html": [
       "\\(p=2^{256} − 2^{224} + 2^{192} + 2^{96} − 1=\\)\\(115792089210356248762697446949407573530086143415290314195533631308867097853951\\)"
      ],
      "text/plain": [
       "\\(p=2^{256} − 2^{224} + 2^{192} + 2^{96} − 1=\\)\\(115792089210356248762697446949407573530086143415290314195533631308867097853951\\)"
      ]
     },
     "metadata": {},
     "output_type": "display_data"
    },
    {
     "data": {
      "text/html": [
       "\\(b=41058363725152142129326129780047268409114441015993725554835256314039467401291\\)"
      ],
      "text/plain": [
       "\\(b=41058363725152142129326129780047268409114441015993725554835256314039467401291\\)"
      ]
     },
     "metadata": {},
     "output_type": "display_data"
    },
    {
     "data": {
      "text/html": [
       "Generador \\(G=(48439561293906451759052585252797914202762949526041747995844080717082404635286 : 36134250956749795798585127919587881956611106672985015071877198253568414405109 : 1)\\)"
      ],
      "text/plain": [
       "Generador \\(G=(48439561293906451759052585252797914202762949526041747995844080717082404635286 : 36134250956749795798585127919587881956611106672985015071877198253568414405109 : 1)\\)"
      ]
     },
     "metadata": {},
     "output_type": "display_data"
    },
    {
     "name": "stdout",
     "output_type": "stream",
     "text": [
      "Es el orden primo? True\n",
      "El generador es de la curva?  True\n"
     ]
    },
    {
     "data": {
      "text/html": [
       "Alicia envía \\(\\alpha=(114224902507754767676546978992047980205724650226754066896136166698249769191327 : 23423027369759205329756354563233777766621717995887143521271990748223595140198 : 1)\\)"
      ],
      "text/plain": [
       "Alicia envía \\(\\alpha=(114224902507754767676546978992047980205724650226754066896136166698249769191327 : 23423027369759205329756354563233777766621717995887143521271990748223595140198 : 1)\\)"
      ]
     },
     "metadata": {},
     "output_type": "display_data"
    },
    {
     "data": {
      "text/html": [
       "Benito envía \\(\\beta=(813039720700859582954073618034599495108665571106608984821586479345859306619 : 85247337661565745021558542343650061462794552718119845803027365954221857324740 : 1)\\)"
      ],
      "text/plain": [
       "Benito envía \\(\\beta=(813039720700859582954073618034599495108665571106608984821586479345859306619 : 85247337661565745021558542343650061462794552718119845803027365954221857324740 : 1)\\)"
      ]
     },
     "metadata": {},
     "output_type": "display_data"
    },
    {
     "name": "stdout",
     "output_type": "stream",
     "text": [
      "Han llegado al mismo secreto? True\n",
      "(106955275520073563582984200073884604830358949030602731198340769713942221732794 : 15314142428367324354958251856048926010560698361692790398710912415912359107023 : 1)\n"
     ]
    }
   ],
   "source": [
    "p =     115792089210356248762697446949407573530086143415290314195533631308867097853951\n",
    "orden = 115792089210356248762697446949407573529996955224135760342422259061068512044369\n",
    "a=-3\n",
    "b = 0x5ac635d8aa3a93e7b3ebbd55769886bc651d06b0cc53b0f63bce3c3e27d2604b\n",
    "Gx=0x6b17d1f2e12c4247f8bce6e563a440f277037d812deb33a0f4a13945d898c296 \n",
    "Gy=0x4fe342e2fe1a7f9b8ee7eb4a7c0f9e162bce33576b315ececbb6406837bf51f5\n",
    "#Defino la curva\n",
    "Zp= Zmod(p)\n",
    "E = EllipticCurve(Zp,[a,b]);\n",
    "# Defino el generador\n",
    "G = E([Gx,Gy])\n",
    "\n",
    "show(html('Curva P-256'))\n",
    "show(html('$y^2=x^3-3\\\\,x + b\\\\mod p$'))\n",
    "show(html('$p=2^{256} − 2^{224} + 2^{192} + 2^{96} − 1=$'+'${}$'.format(p)))\n",
    "show(html('$b={}$'.format(b)))\n",
    "show(html('Generador $G={}$'.format(G)))\n",
    "\n",
    "print('Es el orden primo?',is_prime(orden))\n",
    "print('El generador es de la curva? ', mod(Gy**2,p)==mod(Gx**3+a*Gx+b,p))\n",
    "\n",
    "\n",
    "a=randint(1,orden)\n",
    "b=randint(1,orden)\n",
    "\n",
    "alpha=a*G\n",
    "beta=b*G\n",
    "show(html('Alicia envía $\\\\alpha={}$'.format(alpha)))\n",
    "show(html('Benito envía $\\\\beta={}$'.format(beta)))\n",
    "\n",
    "delta_a=a*beta\n",
    "delta_b=b*alpha\n",
    "\n",
    "print('Han llegado al mismo secreto?',delta_a==delta_b)\n",
    "print(delta_a)"
   ]
  },
  {
   "cell_type": "code",
   "execution_count": null,
   "metadata": {},
   "outputs": [],
   "source": []
  },
  {
   "cell_type": "markdown",
   "metadata": {
    "execution": {
     "iopub.execute_input": "2022-11-11T09:17:28.663603Z",
     "iopub.status.busy": "2022-11-11T09:17:28.663071Z",
     "iopub.status.idle": "2022-11-11T09:17:28.671223Z",
     "shell.execute_reply": "2022-11-11T09:17:28.670525Z",
     "shell.execute_reply.started": "2022-11-11T09:17:28.663557Z"
    }
   },
   "source": [
    "   <h4 class=\"subsectionHead\"><span class=\"titlemark\">3.4   </span> <a \n",
    " id=\"x1-180004.5\"></a>ECDSA</h4>\n",
    " \n",
    " http://nvlpubs.nist.gov/nistpubs/FIPS/NIST.FIPS.186-4.pdf\n",
    "\n",
    "\n",
    "#### **Generación de claves**\n",
    "\n",
    "Cada usuario realiza los siguientes pasos:\n",
    "\n",
    "* Elige una curva elíptica sobre $\\mathbb Z_p$, $E(\\mathbb Z_p)$.\n",
    "* Elige $G\\in E(\\mathbb Z_p)$ de orden $n$ grande.\n",
    "* Elige $d\\in[2,n-1]$ aleatorio.\n",
    "* Calcula $Q=d\\,G$.\n",
    "* La clave pública es $\\{E(\\mathbb Z_p),G,n,Q\\}$,\n",
    "* La clave privada es $d$.\n",
    "\n",
    "#### **Firma**\n",
    "\n",
    "Para firmar un mensaje $m$ se realizan los siguientes pasos:\n",
    "\n",
    "* Elige $k\\in[2,n-1]$ aleatorio.¹\n",
    "* Calcula $k\\,G=(x_1,y_1)$ y $f_1=x_1\\text{ mod } n$. Si $f_1=0$ se elige otro $k$.²\n",
    "* Calcula $k^{-1} \\text{ mod } n$.\n",
    "* Calcula $f_2=k^{-1}(SHA(m)+f_1\\, d) \\text{ mod } n$. Si $f_2=0$ se toma otro $k$.\n",
    "* La firma es el par $(f_1,f_2)$.\n",
    "\n",
    "[¹] Sony PS3 Security Broken. PS3 Epic Fail\n",
    "https://events.ccc.de/congress/2010/Fahrplan/events/4087.en.html\n",
    "https://fahrplan.events.ccc.de/congress/2010/Fahrplan/attachments/1780_27c3_console_hacking_2010.pdf\n",
    "\n",
    "\n",
    "[²] https://arstechnica.com/information-technology/2022/04/major-crypto-blunder-in-java-enables-psychic-paper-forgeries\n",
    "\n",
    "#### **Verificación de la firma**\n",
    "\n",
    "Para verificar que la firma $(f_1,f_2)$ del mensaje $m$\n",
    "es de A se realizan los siguientes pasos:\n",
    "\n",
    "* Se busca la clave pública de A, $\\{E(\\mathbb Z_p),G,n,Q\\}$.\n",
    "* Calcula $w=f_2^{-1} \\text{ mod } n$.\n",
    "* Calcula $u_1=SHA(m)\\ w \\text{ mod } n$.\n",
    "* Calcula $u_2=f_1\\ w \\text{ mod } n$.\n",
    "* Calcula $u_1 G+u_2 Q=(x_0,y_0)$ y $v=x_0 \\text{ mod } n$.\n",
    "* La firma es válida si $v=f_1$.\n"
   ]
  },
  {
   "cell_type": "markdown",
   "metadata": {},
   "source": [
    "#### Curva P-256 $p = 2^{256} − 2^{224} + 2^{192} + 2^{96} − 1$\n",
    "\n",
    "<a href=\"http://nvlpubs.nist.gov/nistpubs/FIPS/NIST.FIPS.186-4.pdf\">http://nvlpubs.nist.gov/nistpubs/FIPS/NIST.FIPS.186-4.pdf</a> Appendix D</h3>"
   ]
  },
  {
   "cell_type": "code",
   "execution_count": 87,
   "metadata": {
    "execution": {
     "iopub.execute_input": "2022-11-11T10:06:06.811893Z",
     "iopub.status.busy": "2022-11-11T10:06:06.811252Z",
     "iopub.status.idle": "2022-11-11T10:06:06.874115Z",
     "shell.execute_reply": "2022-11-11T10:06:06.873216Z",
     "shell.execute_reply.started": "2022-11-11T10:06:06.811851Z"
    },
    "tags": []
   },
   "outputs": [
    {
     "data": {
      "text/html": [
       "Curva P-256"
      ],
      "text/plain": [
       "Curva P-256"
      ]
     },
     "metadata": {},
     "output_type": "display_data"
    },
    {
     "data": {
      "text/html": [
       "\\(y^2=x^3-3\\,x + b\\mod p\\)"
      ],
      "text/plain": [
       "\\(y^2=x^3-3\\,x + b\\mod p\\)"
      ]
     },
     "metadata": {},
     "output_type": "display_data"
    },
    {
     "data": {
      "text/html": [
       "\\(p=2^{256} − 2^{224} + 2^{192} + 2^{96} − 1=\\)\\(115792089210356248762697446949407573530086143415290314195533631308867097853951\\)"
      ],
      "text/plain": [
       "\\(p=2^{256} − 2^{224} + 2^{192} + 2^{96} − 1=\\)\\(115792089210356248762697446949407573530086143415290314195533631308867097853951\\)"
      ]
     },
     "metadata": {},
     "output_type": "display_data"
    },
    {
     "data": {
      "text/html": [
       "\\(b=41058363725152142129326129780047268409114441015993725554835256314039467401291\\)"
      ],
      "text/plain": [
       "\\(b=41058363725152142129326129780047268409114441015993725554835256314039467401291\\)"
      ]
     },
     "metadata": {},
     "output_type": "display_data"
    },
    {
     "data": {
      "text/html": [
       "Generador \\(G=(48439561293906451759052585252797914202762949526041747995844080717082404635286 : 36134250956749795798585127919587881956611106672985015071877198253568414405109 : 1)\\)"
      ],
      "text/plain": [
       "Generador \\(G=(48439561293906451759052585252797914202762949526041747995844080717082404635286 : 36134250956749795798585127919587881956611106672985015071877198253568414405109 : 1)\\)"
      ]
     },
     "metadata": {},
     "output_type": "display_data"
    },
    {
     "data": {
      "text/html": [
       "Clave Pública Curva P-256 \\(Q=(74175148159468375525476416772897235276588153840822998664071212299763996977849 : 69024814254531333246496732168894057681669850731210187541781720771701438218649 : 1)\\)"
      ],
      "text/plain": [
       "Clave Pública Curva P-256 \\(Q=(74175148159468375525476416772897235276588153840822998664071212299763996977849 : 69024814254531333246496732168894057681669850731210187541781720771701438218649 : 1)\\)"
      ]
     },
     "metadata": {},
     "output_type": "display_data"
    },
    {
     "data": {
      "text/html": [
       "Clave privada \\(d=31479191803046240376358554699212778796246614470807978270255870959941471592507\\)"
      ],
      "text/plain": [
       "Clave privada \\(d=31479191803046240376358554699212778796246614470807978270255870959941471592507\\)"
      ]
     },
     "metadata": {},
     "output_type": "display_data"
    },
    {
     "data": {
      "text/html": [
       "Firma \n",
       "\\(f_1=24923171941847244884225725278170971328605458588687074120227275505862970414830\\) \n",
       "\\(f_2=17084474090683778779294238772865821784571426909387778584406603688219766470948\\)"
      ],
      "text/plain": [
       "Firma \n",
       "\\(f_1=24923171941847244884225725278170971328605458588687074120227275505862970414830\\) \n",
       "\\(f_2=17084474090683778779294238772865821784571426909387778584406603688219766470948\\)"
      ]
     },
     "metadata": {},
     "output_type": "display_data"
    },
    {
     "data": {
      "text/html": [
       "Es válida la firma? True"
      ],
      "text/plain": [
       "Es válida la firma? True"
      ]
     },
     "metadata": {},
     "output_type": "display_data"
    }
   ],
   "source": [
    "p =     115792089210356248762697446949407573530086143415290314195533631308867097853951\n",
    "orden = 115792089210356248762697446949407573529996955224135760342422259061068512044369\n",
    "a=-3\n",
    "b = 0x5ac635d8aa3a93e7b3ebbd55769886bc651d06b0cc53b0f63bce3c3e27d2604b\n",
    "Gx=0x6b17d1f2e12c4247f8bce6e563a440f277037d812deb33a0f4a13945d898c296 \n",
    "Gy=0x4fe342e2fe1a7f9b8ee7eb4a7c0f9e162bce33576b315ececbb6406837bf51f5\n",
    "#Defino la curva\n",
    "Zp= Zmod(p)\n",
    "E = EllipticCurve(Zp,[a,b]);\n",
    "# Defino el generador\n",
    "G = E([Gx,Gy])\n",
    "\n",
    "show(html('Curva P-256'))\n",
    "show(html('$y^2=x^3-3\\\\,x + b\\\\mod p$'))\n",
    "show(html('$p=2^{256} − 2^{224} + 2^{192} + 2^{96} − 1=$'+'${}$'.format(p)))\n",
    "show(html('$b={}$'.format(b)))\n",
    "show(html('Generador $G={}$'.format(G)))\n",
    "\n",
    "\n",
    "'''\n",
    "Generación de claves\n",
    "'''\n",
    "d = randint(2, orden-1)\n",
    "Q = d*G\n",
    "\n",
    "show(html('Clave Pública Curva P-256 $Q={}$'.format(Q)))\n",
    "show(html('Clave privada $d={}$'.format(d)))\n",
    "\n",
    "'''\n",
    "Firma\n",
    "'''\n",
    "\n",
    "def firma_aux(m,k):\n",
    "    P_aux = k*G\n",
    "    f1 = Integer(mod(P_aux[0], orden))\n",
    "    f2 = Integer(mod(power_mod(k, -1, orden)*(m+f1*d), orden))\n",
    "    return f1, f2\n",
    "\n",
    "m = randint(0, orden-1)\n",
    "k = randint(2, orden-1)\n",
    "f1, f2 = firma_aux(m,k)\n",
    "while f1*f2 == 0:\n",
    "    k = randint(2, orden-1)\n",
    "    f1, f2 = firma_aux(m,k)\n",
    "show(html('Firma \\n$f_1={}$ \\n$f_2={}$'.format(f1, f2)))\n",
    "        \n",
    "'''\n",
    "Verificación firma\n",
    "'''\n",
    "w = Integer(power_mod(f2, -1, orden))\n",
    "u1 = Integer(mod(m*w, orden))\n",
    "u2 = Integer(mod(f1*w, orden))\n",
    "P_aux = u1*G + u2*Q\n",
    "v = Integer(mod(P_aux[0], orden))\n",
    "\n",
    "verificacion = v==f1\n",
    "show(html('Es válida la firma? {}'.format(verificacion)))\n"
   ]
  },
  {
   "cell_type": "markdown",
   "metadata": {
    "tags": []
   },
   "source": [
    "\n",
    "\n",
    "#### **Curva p-256:**  $p=2^{256}-2^{224}+2^{192}+2^{96}-1$\n",
    " http://nvlpubs.nist.gov/nistpubs/FIPS/NIST.FIPS.186-4.pdf\n",
    "\n",
    "Curva pseudo aleatoria $y^2 = x^3 - 3x + b \\text{ mod } p$:\n",
    "* primo $p$ 115792089210356248762697446949407573530086143415290314195533631308867097853951\n",
    "* orden $r$ 115792089210356248762697446949407573529996955224135760342422259061068512044369\n",
    "* cofactor $h=1$\n",
    "* semilla de 160 bits usada para generar el coeficiente $b$,   $semilla=c49d360886e704936a6678e1139d26b7819f7e90$\n",
    "* parámetro $c$ del algoritmo usado para generar el coeficiente\n",
    "  $b$, $c=7efba1662985be9403cb055c75d4f7e0ce8d84a9c5114abcaf3177680104fa0d$\n",
    "* coeficiente $b$ que satisface $b^2c\\equiv -27 \\text{ mod } p$, $b=5ac635d8aa3a93e7b3ebbd55769886bc651d06b0cc53b0f63bce3c3e27d2604b$,\n",
    "* punto $G=(G_x,G_y)$ de orden $n=r/h$\n",
    "  $G_x= 6b17d1f2e12c4247f8bce6e563a440f277037d812deb33a0f4a13945d898c296$,  $G_y=4fe342e2fe1a7f9b8ee7eb4a7c0f9e162bce33576b315ececbb6406837bf51f5$\n",
    "\n",
    "$p$ y $r$ están en decimal, el resto en hexadecimal.\n",
    "\n",
    "#### **ECDSA: Generación de una curva aleatoria**\n",
    "\n",
    "\n",
    "* **Input** $p$, primo impar.\n",
    "* **Output** cadena binaria $semilla$ de 160 o más bits, $a,\\ b\\in \\mathbb{Z}_p$ que definen una curva elíptica sobre $\\mathbb{Z}_p$.\n",
    "    1. Sean $t=\\lceil \\log_2 p\\rceil$, $s=\\lfloor (t -1)/160\\rfloor$, $v = t-160 s$.\n",
    "    1. Elegir  $semilla$ aleatorio de longitud $g\\geq 160$. \n",
    "    1. Calcular $H$ = SHA($semilla$) y sea $c_0$ la cadena de los $v$ bits menos significativos de $H$ ($v$ *rightmost bits*).\n",
    "    1. Sea $W_0$ la cadena de $v$ bits obtenidos haciendo 0 el bit más significativo (*leftmost*) de $c_0$. (Así nos aseguramos que $c<p$.)\n",
    "    1. Sea $z$ el entero cuya expesión en binario es $semilla$.\n",
    "    1. Para $i$ desde 1 hasta $s$:\n",
    "        - Sea $s_i$ la expresión binaria del entero $(z + i) \\text{ mod } 2^g$.\n",
    "        - Calcular $W_i$ = SHA($s_i$).\n",
    "    1. Sea $W=W_0\\|W_1\\|\\cdots\\|W_s$.\n",
    "    1. Sea $c$ entero que tiene por representación binaria $W$.\n",
    "    1. Si $c=0$ o $4c+27\\equiv 0 \\text{ mod } p$ volver al punto 2.\n",
    "    1. Elegir $a,\\ b\\in \\mathbb{Z}^*_p$, tales que\n",
    "        $b^2c \\equiv a^3\\text{ mod } p$.\n",
    "* **Salida** $semilla$, $a$, $b$.\n",
    "\n",
    "#### **ECDSA: Verificación de una curva**\n",
    "\n",
    "Dada una curva elíptica es conveniente comprobar que los parámetros son correctos.\n",
    "\n",
    "1. Verificar que $p$ es un primo impar.\n",
    "1. Verificar que $G$ no es el punto del infinito ${\\cal O}$.\n",
    "1. Verificar que $a$, $b$, $G_x$ y $G_y$ son enteros en el intervalo $[0,p-1]$.\n",
    "1. Según el caso, verificar que la curva se ha obtenido aleatoriamente.\n",
    "1. Verificar que $a$ y $b$ definen una curva elíptica sobre $\\mathbb{Z}_p$, $4a^3+27b^2\\not\\equiv 0 \\text{ mod } p$.\n",
    "1. Verificar que $G$ pertenece a la curva,\n",
    "    $G_y^2\\equiv G_x^3+a\\,G_x+b \\text{ mod } p$\n",
    "1. Verificar que $r=n\\,h$.\n",
    "1. Verificar que $n$ es primo.\n",
    "1. Verificar $n\\,G={\\cal O}$.\n",
    "1. Verificar que $n> 2^{160}$ y $n > 4 \\sqrt{p}$.\n",
    "1. Comprobar que $h=\\lfloor (\\sqrt{p}+1)^2/n \\rfloor$.\n",
    "1. Verificar que $n$ no divide $p^k-1$, $1\\leq k\\leq 20$.\n",
    "1. Verificar que $n\\neq p$.\n",
    "\n",
    "\n",
    "Los item 9, 10 y 11 permiten\n",
    "comprobar que el número de puntos de la curva es el correcto.\n",
    "\n",
    "\n",
    "#### **ECDSA: Verificación de una clave ECDSA**\n",
    "\n",
    "\n",
    "\n",
    "Dada una clave ECDSA (un punto $Q$ de la curva) es conveniente comprobar es correcta.\n",
    "\n",
    "* Verificar que $Q$ no es el punto del infinito ${\\cal O}$.\n",
    "* Verificar que $Q_x$ y $Q_y$ son enteros en el intervalo $[0,p-1]$.\n",
    "* Verificar que $Q$ pertenece a la curva,\n",
    "    $Q_y^2\\equiv Q_x^3+a\\,Q_x+b \\text{ mod } p$\n",
    "* Verificar $n\\,Q={\\cal O}$.\n",
    "\n",
    "\n"
   ]
  },
  {
   "cell_type": "markdown",
   "metadata": {},
   "source": [
    "#### **Reducción módulos especiales**, p.e. $p=2^{192}-2^{64}-1$\n",
    "\n",
    "  Si $x<p^2$, $x=x_5 2^{320}+x_4 2^{256}+x_3 2^{192}+x_2 2^{128}+x_1 2^{64}+x_0$,   siendo $x_i<2^{64}$.\n",
    "\n",
    "  Teniendo en cuenta\n",
    "  \\begin{eqnarray*}\n",
    "  2^{192} &\\equiv& 2^{64} +1 \\mod p\\\\\n",
    "  2^{256} &\\equiv& 2^{128}+2^{64}  \\mod p\\\\\n",
    "  2^{320} &\\equiv& 2^{192}+2^{128}  \\mod p\n",
    "  \\end{eqnarray*}\n",
    "  tenemos\n",
    "  \\begin{eqnarray*}\n",
    "    x &\\equiv& x_4 2^{256}+(x_5+x_3) 2^{192}+(x_5+x_2) 2^{128}+x_1 2^{64}+x_0 \\mod p\\\\\n",
    "    x &\\equiv& (x_5+x_3) 2^{192}+(x_5+x_4+x_2) 2^{128}+(x_4+x_1) 2^{64}+x_0 \\mod p\\\\\n",
    "    x &\\equiv& (x_5+x_4+x_2) 2^{128}+(x_5+x_4+x_3+x_1) 2^{64}+x_5+x_3+x_0 \\mod p\n",
    "  \\end{eqnarray*}\n",
    "  \n",
    "  Si fuera necesario, $x \\equiv p-(x_5+x_4+x_2) 2^{128}+(x_5+x_4+x_3+x_1) 2^{64}+x_5+x_3+x_0 \\mod p$"
   ]
  },
  {
   "cell_type": "code",
   "execution_count": null,
   "metadata": {},
   "outputs": [],
   "source": []
  },
  {
   "cell_type": "code",
   "execution_count": null,
   "metadata": {},
   "outputs": [],
   "source": []
  },
  {
   "cell_type": "markdown",
   "metadata": {
    "execution": {
     "iopub.execute_input": "2021-10-29T10:58:56.421757Z",
     "iopub.status.busy": "2021-10-29T10:58:56.421333Z",
     "iopub.status.idle": "2021-10-29T10:59:06.564224Z",
     "shell.execute_reply": "2021-10-29T10:59:06.561821Z",
     "shell.execute_reply.started": "2021-10-29T10:58:56.421714Z"
    }
   },
   "source": [
    "   <h4 class=\"subsectionHead\"><span class=\"titlemark\">3.5   </span> <a \n",
    " id=\"x1-200004.6\"></a>Seguridad</h4>\n",
    "\n",
    "La seguridad se basa en la dificultad de calcular el logaritmo discreto\n",
    "en curvas elípticas que en este caso se puede enunciar:\n",
    "\n",
    "Dados $E(\\mathbb Z_p)$, $Q$, $P\\in E(\\mathbb Z_p)$ hallar $k$, entero positivo, tal\n",
    "que \n",
    "$$\n",
    "k\\,P=Q.\n",
    "$$\n",
    "\n",
    "Este problema no es tan fácil como en $\\mathbb Z_p^*$.\n",
    "\n",
    "                                                                     "
   ]
  },
  {
   "cell_type": "markdown",
   "metadata": {
    "execution": {
     "iopub.execute_input": "2021-11-11T17:41:11.106423Z",
     "iopub.status.busy": "2021-11-11T17:41:11.106043Z",
     "iopub.status.idle": "2021-11-11T17:41:11.110637Z",
     "shell.execute_reply": "2021-11-11T17:41:11.110049Z",
     "shell.execute_reply.started": "2021-11-11T17:41:11.106384Z"
    }
   },
   "source": [
    "<h4>Baby-step, Giant-step</h4>"
   ]
  },
  {
   "cell_type": "code",
   "execution_count": 1,
   "metadata": {
    "execution": {
     "iopub.execute_input": "2022-11-11T10:54:56.320815Z",
     "iopub.status.busy": "2022-11-11T10:54:56.320402Z",
     "iopub.status.idle": "2022-11-11T10:54:56.469909Z",
     "shell.execute_reply": "2022-11-11T10:54:56.469128Z",
     "shell.execute_reply.started": "2022-11-11T10:54:56.320774Z"
    },
    "tags": []
   },
   "outputs": [
    {
     "data": {
      "text/html": [
       "Curva"
      ],
      "text/plain": [
       "Curva"
      ]
     },
     "metadata": {},
     "output_type": "display_data"
    },
    {
     "data": {
      "text/html": [
       "\\(y^2=x^3-x + 1\\mod 211\\)"
      ],
      "text/plain": [
       "\\(y^2=x^3-x + 1\\mod 211\\)"
      ]
     },
     "metadata": {},
     "output_type": "display_data"
    },
    {
     "data": {
      "text/html": [
       "Generador \\(G=(2 : 86 : 1)\\)"
      ],
      "text/plain": [
       "Generador \\(G=(2 : 86 : 1)\\)"
      ]
     },
     "metadata": {},
     "output_type": "display_data"
    },
    {
     "name": "stdout",
     "output_type": "stream",
     "text": [
      "El orden es 223\n",
      "\n",
      "Tabla construida:   [[(0 : 1 : 0), 0], [(2 : 86 : 1), 1], [(43 : 209 : 1), 2], [(175 : 28 : 1), 3], [(207 : 12 : 1), 4], [(201 : 62 : 1), 5], [(12 : 105 : 1), 6], [(93 : 142 : 1), 7], [(14 : 4 : 1), 8], [(60 : 29 : 1), 9], [(142 : 168 : 1), 10], [(4 : 160 : 1), 11], [(97 : 197 : 1), 12], [(185 : 40 : 1), 13], [(45 : 190 : 1), 14]] \n",
      "\n",
      "\n",
      "Tabla de búsqueda: \n",
      " [[(0 : 1 : 0), 0], [(2 : 86 : 1), 1], [(4 : 160 : 1), 11], [(12 : 105 : 1), 6], [(14 : 4 : 1), 8], [(43 : 209 : 1), 2], [(45 : 190 : 1), 14], [(60 : 29 : 1), 9], [(93 : 142 : 1), 7], [(97 : 197 : 1), 12], [(142 : 168 : 1), 10], [(175 : 28 : 1), 3], [(185 : 40 : 1), 13], [(201 : 62 : 1), 5], [(207 : 12 : 1), 4]] \n",
      "\n",
      "Elemento del que queremos calcular LD:  (50 : 75 : 1) \n",
      "\n",
      "0  Punto buscado en la tabla:  (50 : 75 : 1)\n",
      "1  Punto buscado en la tabla:  (170 : 205 : 1)\n",
      "2  Punto buscado en la tabla:  (163 : 66 : 1)\n",
      "3  Punto buscado en la tabla:  (63 : 42 : 1)\n",
      "4  Punto buscado en la tabla:  (125 : 92 : 1)\n",
      "5  Punto buscado en la tabla:  (200 : 66 : 1)\n",
      "6  Punto buscado en la tabla:  (47 : 108 : 1)\n",
      "7  Punto buscado en la tabla:  (103 : 22 : 1)\n",
      "8  Punto buscado en la tabla:  (94 : 82 : 1)\n",
      "9  Punto buscado en la tabla:  (69 : 91 : 1)\n",
      "10  Punto buscado en la tabla:  (34 : 127 : 1)\n",
      "11  Punto buscado en la tabla:  (147 : 53 : 1)\n",
      "12  Punto buscado en la tabla:  (164 : 187 : 1)\n",
      "13  Punto buscado en la tabla:  (14 : 4 : 1)\n",
      "\n",
      "Logaritmo Discreto de (50 : 75 : 1) en base (2 : 86 : 1) es: 13 * 15 + 8 = 203\n"
     ]
    },
    {
     "data": {
      "text/html": [
       "<html>\\[\\newcommand{\\Bold}[1]{\\mathbf{#1}}203 \\verb|*| \\left(2 : 86 : 1\\right) \\verb|=| \\left(50 : 75 : 1\\right) \\verb|==| \\left(50 : 75 : 1\\right) \\mathrm{True}\\]</html>"
      ],
      "text/latex": [
       "$$\\newcommand{\\Bold}[1]{\\mathbf{#1}}203 \\verb|*| \\left(2 : 86 : 1\\right) \\verb|=| \\left(50 : 75 : 1\\right) \\verb|==| \\left(50 : 75 : 1\\right) \\mathrm{True}$$"
      ],
      "text/plain": [
       "203 '*' (2 : 86 : 1) '=' (50 : 75 : 1) '==' (50 : 75 : 1) True"
      ]
     },
     "metadata": {},
     "output_type": "display_data"
    }
   ],
   "source": [
    "p=211\n",
    "E = EllipticCurve(GF(211),[1,1])\n",
    "E.points()\n",
    "n=E.cardinality()\n",
    "\n",
    "Alpha=E.points()[3] #generador\n",
    "M=ceil(sqrt(n-1)); \n",
    "gM=(n-M)*Alpha; \n",
    "Tabla=[[i*Alpha,i] for i in range(0,M)]; \n",
    "Tabla_ordenada=sorted(Tabla, key=lambda coordenada: coordenada[0][0])\n",
    "\n",
    "show(html('Curva'))\n",
    "show(html('$y^2=x^3-x + 1\\\\mod {}$'.format(p)))\n",
    "show(html('Generador $G={}$'.format(Alpha)))\n",
    "\n",
    "\n",
    "print (\"El orden es\",n)\n",
    "#print M;\n",
    "#print range(0,M)\n",
    "print (\"\\nTabla construida:  \", Tabla,\"\\n\")\n",
    "print (\"\\nTabla de búsqueda: \\n\", Tabla_ordenada,\"\\n\")\n",
    "\n",
    "Beta=E.points()[55] #punto del que queremos calcular el logaritmo discreto\n",
    "print( \"Elemento del que queremos calcular LD: \",Beta,\"\\n\")\n",
    "\n",
    "Gamma=Beta;\n",
    "\n",
    "#t1=walltime();\n",
    "fin=False;\n",
    "i=0;\n",
    "while i in range(0,M) and not(fin):\n",
    "    print (i,\" Punto buscado en la tabla: \",Gamma)\n",
    "    for j in range(0,M):\n",
    "        if Gamma==Tabla[j][0]:\n",
    "            x=i*M+j;\n",
    "            print (\"\\nLogaritmo Discreto de\",Beta,\"en base\",Alpha, \"es:\",i,\"*\",M,\"+\",j,\"=\",x)\n",
    "            show(x,\"*\",Alpha,\"=\",x*Alpha,\"==\",Beta, Beta==x*Alpha)\n",
    "            #print(walltime(t1));\n",
    "            fin=True;\n",
    "            break;\n",
    "    Gamma=Gamma+gM;\n",
    "    i=i+1;        \n",
    "#print(walltime(t1));"
   ]
  },
  {
   "cell_type": "code",
   "execution_count": null,
   "metadata": {},
   "outputs": [],
   "source": []
  },
  {
   "cell_type": "code",
   "execution_count": null,
   "metadata": {},
   "outputs": [],
   "source": []
  },
  {
   "cell_type": "code",
   "execution_count": null,
   "metadata": {},
   "outputs": [],
   "source": []
  },
  {
   "cell_type": "code",
   "execution_count": null,
   "metadata": {},
   "outputs": [],
   "source": []
  }
 ],
 "metadata": {
  "kernelspec": {
   "display_name": "Python 3.10.8 64-bit",
   "language": "python",
   "name": "python3"
  },
  "language_info": {
   "codemirror_mode": {
    "name": "ipython",
    "version": 3
   },
   "file_extension": ".py",
   "mimetype": "text/x-python",
   "name": "python",
   "nbconvert_exporter": "python",
   "pygments_lexer": "ipython3",
   "version": "3.10.8"
  },
  "vscode": {
   "interpreter": {
    "hash": "b0fa6594d8f4cbf19f97940f81e996739fb7646882a419484c72d19e05852a7e"
   }
  }
 },
 "nbformat": 4,
 "nbformat_minor": 4
}
