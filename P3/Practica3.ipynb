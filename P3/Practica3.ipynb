{
 "cells": [
  {
   "cell_type": "code",
   "execution_count": 73,
   "metadata": {},
   "outputs": [],
   "source": [
    "import time\n",
    "import random\n",
    "import sympy\n",
    "import math"
   ]
  },
  {
   "cell_type": "code",
   "execution_count": 2,
   "metadata": {},
   "outputs": [],
   "source": [
    "class rsa_key:\n",
    "    def check_congruent(self,a,c,m,debug=True):\n",
    "        if (a % m) != (c % m):\n",
    "            print(\"Congruent check not passed.\")\n",
    "            exit(1)\n",
    "        else:\n",
    "            if debug:\n",
    "                print(\"Congruent check passed.\")\n",
    "            return True\n",
    "\n",
    "    def __init__(self, bits_modulo=4096, e=2**16+1):\n",
    "        self.primeP, self.primeQ =  self.getPrimes(e, bits_modulo)\n",
    "        self.phi = (self.primeP-1)*(self.primeQ-1)\n",
    "        self.publicExponent = e\n",
    "        self.privateExponent = int(sympy.gcdex(e, self.phi)[0])\n",
    "        self.modulus = self.primeP*self.primeQ\n",
    "        self.privateExponentModulusPhiP = int(self.privateExponent % (self.primeP-1))\n",
    "        self.privateExponentModulusPhiQ = int(self.privateExponent % (self.primeQ-1))\n",
    "        self.inverseQModulusP = int(sympy.mod_inverse(self.primeQ, self.primeP))\n",
    "\n",
    "        self.check_congruent(self.privateExponent * self.publicExponent, 1, self.phi,debug=False)\n",
    "        self.check_congruent(self.privateExponentModulusPhiP, self.privateExponent, self.primeP-1,debug=False)\n",
    "        self.check_congruent(self.privateExponentModulusPhiQ, self.privateExponent, self.primeQ-1,debug=False)\n",
    "        self.check_congruent(self.inverseQModulusP * self.primeQ, 1, self.primeP,debug=False)\n",
    "    \n",
    "    def sign(self, message):\n",
    "        a = pow(message, self.privateExponentModulusPhiP, self.primeP)\n",
    "        b = pow(message, self.privateExponentModulusPhiQ, self.primeQ)\n",
    "        qq = self.inverseQModulusP * self.primeQ\n",
    "        pp = 1 - qq\n",
    "        return pp*b + qq*a\n",
    "    \n",
    "    def sign_slow(self, message):\n",
    "        return pow(message, self.privateExponent, self.modulus)\n",
    "    \n",
    "    def verify(self, message, signature):\n",
    "        return pow(signature,self.publicExponent,self.modulus) == message\n",
    "\n",
    "\n",
    "    def getPrimes(self,e, bits_modulo):\n",
    "        while True:\n",
    "            p = random.getrandbits(bits_modulo)\n",
    "            retry = 1\n",
    "            while not sympy.isprime(p):\n",
    "                print(retry)\n",
    "                retry += 1\n",
    "                p = random.getrandbits(bits_modulo)\n",
    "            q = random.getrandbits(bits_modulo)\n",
    "            while not sympy.isprime(q) or p == q:\n",
    "                print(retry)\n",
    "                retry += 1\n",
    "                q = random.getrandbits(bits_modulo)\n",
    "            if  math.gcd(e,p*q) == 1 and e < (p-1)*(q-1):\n",
    "                return int(p), int(q)\n"
   ]
  },
  {
   "cell_type": "code",
   "execution_count": 3,
   "metadata": {},
   "outputs": [
    {
     "name": "stdout",
     "output_type": "stream",
     "text": [
      "512\n",
      "1024\n",
      "2048\n",
      "4096\n"
     ]
    }
   ],
   "source": [
    "## DISCLAIMER: Ejecutar el siguiente código puede tardar mucho tiempo. (12 mins aprox)\n",
    "meanTimes = {}\n",
    "meanSlowTimes = {}\n",
    "for bits in [512, 1024, 2048, 4096]:\n",
    "    print(bits)\n",
    "    a = rsa_key(bits_modulo=bits)\n",
    "    times = []\n",
    "    slow_times = []\n",
    "    for i in range(100):\n",
    "        m = random.randint(0, 1000)\n",
    "\n",
    "        start = time.time()\n",
    "        a.sign(m)\n",
    "        end = time.time()\n",
    "\n",
    "        start_slow = time.time()\n",
    "        a.sign_slow(m)\n",
    "        end_slow = time.time()\n",
    "\n",
    "        times.append(end-start)\n",
    "        slow_times.append(end_slow-start_slow)\n",
    "\n",
    "    meanTimes[bits] = sum(times)/len(times)\n",
    "    meanSlowTimes[bits] = sum(slow_times)/len(slow_times)"
   ]
  },
  {
   "cell_type": "code",
   "execution_count": 4,
   "metadata": {},
   "outputs": [
    {
     "name": "stdout",
     "output_type": "stream",
     "text": [
      "{512: 0.0023760008811950684, 1024: 0.01295459270477295, 2048: 0.08876752376556396, 4096: 0.6792355799674987}\n",
      "{512: 0.007959756851196289, 1024: 0.0431899094581604, 2048: 0.4139524507522583, 4096: 3.043053641319275}\n"
     ]
    }
   ],
   "source": [
    "print(meanTimes)\n",
    "print(meanSlowTimes)"
   ]
  }
 ],
 "metadata": {
  "kernelspec": {
   "display_name": "Python 3.10.8 64-bit",
   "language": "python",
   "name": "python3"
  },
  "language_info": {
   "codemirror_mode": {
    "name": "ipython",
    "version": 3
   },
   "file_extension": ".py",
   "mimetype": "text/x-python",
   "name": "python",
   "nbconvert_exporter": "python",
   "pygments_lexer": "ipython3",
   "version": "3.10.8"
  },
  "orig_nbformat": 4,
  "vscode": {
   "interpreter": {
    "hash": "b0fa6594d8f4cbf19f97940f81e996739fb7646882a419484c72d19e05852a7e"
   }
  }
 },
 "nbformat": 4,
 "nbformat_minor": 2
}
