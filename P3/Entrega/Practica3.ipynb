{
 "cells": [
  {
   "cell_type": "markdown",
   "metadata": {},
   "source": [
    "# Criptografia - Practica RSA\n",
    "\n",
    "##### Membres:\n",
    "##### Juli Sahun i Victor Pla Sanchis"
   ]
  },
  {
   "cell_type": "markdown",
   "metadata": {},
   "source": [
    "### 1 - BlockChain"
   ]
  },
  {
   "cell_type": "code",
   "execution_count": 1,
   "metadata": {},
   "outputs": [],
   "source": [
    "import math\n",
    "import hashlib\n",
    "import copy\n",
    "import sympy\n",
    "import random\n",
    "import time\n",
    "import pickle"
   ]
  },
  {
   "cell_type": "markdown",
   "metadata": {},
   "source": [
    "Clase block"
   ]
  },
  {
   "cell_type": "code",
   "execution_count": 16,
   "metadata": {},
   "outputs": [],
   "source": [
    "d = 16\n",
    "class block:\n",
    "    def __init__(self):\n",
    "        self.block_hash = 0\n",
    "        self.previous_block_hash = 0\n",
    "        self.transaction = transaction(150, rsa_key())\n",
    "        self.seed = 12\n",
    "    \n",
    "    def genesis(self, transaction):\n",
    "        self.transaction = transaction\n",
    "        self.previous_block_hash = 0\n",
    "        self.getBlockHash(transaction)\n",
    "\n",
    "    def next_block(self, transaction):\n",
    "        self.transaction = transaction\n",
    "        self.previous_block_hash = self.block_hash\n",
    "        self.getBlockHash(transaction)\n",
    "    \n",
    "    def verify_block(self):\n",
    "        prevCheck = self.previous_block_hash < 2**(256-d)\n",
    "        transCheck = self.transaction.verify()\n",
    "        currCheck = self.block_hash < 2**(256-d) and self.getHash(self.seed, self.transaction) == self.block_hash\n",
    "        return prevCheck and transCheck and currCheck\n",
    "    \n",
    "    def getBlockHash(self, transaction):\n",
    "        seed = 0\n",
    "        h = self.getHash(seed, transaction)\n",
    "        while h >= 2**(256-d):\n",
    "            seed = seed + 1\n",
    "            h = self.getHash(seed, transaction)\n",
    "        self.seed = seed\n",
    "        self.block_hash = h\n",
    "\n",
    "    def getHash(self, seed, transaction):\n",
    "        e = str(self.previous_block_hash)\n",
    "        e += str(self.transaction.public_key.publicExponent)\n",
    "        e += str(self.transaction.public_key.modulus)\n",
    "        e += str(self.transaction.message)\n",
    "        e += str(self.transaction.signature)\n",
    "        e += str(seed)\n",
    "        return int(hashlib.sha256(e.encode()).hexdigest(), 16)\n"
   ]
  },
  {
   "cell_type": "markdown",
   "metadata": {},
   "source": [
    "Clase rsa_public_key"
   ]
  },
  {
   "cell_type": "code",
   "execution_count": 3,
   "metadata": {},
   "outputs": [],
   "source": [
    "class rsa_public_key:\n",
    "    def __init__(self, rsa_key):\n",
    "        self.publicExponent = rsa_key.publicExponent\n",
    "        self.modulus = rsa_key.modulus\n",
    "\n",
    "    def verify(self, message, signature):\n",
    "        return pow(signature,self.publicExponent,self.modulus) == message"
   ]
  },
  {
   "cell_type": "markdown",
   "metadata": {},
   "source": [
    "Clase block_chain"
   ]
  },
  {
   "cell_type": "code",
   "execution_count": 4,
   "metadata": {},
   "outputs": [],
   "source": [
    "class block_chain:\n",
    "    def __init__(self, transaction):\n",
    "        b = block()\n",
    "        b.genesis(transaction)\n",
    "        self.list_of_blocks = [b]\n",
    "        \n",
    "\n",
    "    def add_block(self, transaction): \n",
    "        newBlock = copy.deepcopy(self.list_of_blocks[-1])\n",
    "        newBlock.next_block(transaction)\n",
    "        self.list_of_blocks.append(newBlock)\n",
    "    \n",
    "    def verify(self):\n",
    "        if self.list_of_blocks[0].previous_block_hash != 0:\n",
    "            return False\n",
    "        for i in range(len(self.list_of_blocks)):\n",
    "            if (not self.list_of_blocks[i].verify_block()):\n",
    "                return False\n",
    "            if i > 0 and self.list_of_blocks[i].previous_block_hash != self.list_of_blocks[i-1].block_hash:\n",
    "                return False\n",
    "        return True\n"
   ]
  },
  {
   "cell_type": "markdown",
   "metadata": {},
   "source": [
    "Clase transaction"
   ]
  },
  {
   "cell_type": "code",
   "execution_count": 5,
   "metadata": {},
   "outputs": [],
   "source": [
    "class transaction:\n",
    "    def __init__(self, message, RSAkey):\n",
    "        self.public_key = rsa_public_key(RSAkey)\n",
    "        self.message = message\n",
    "        self.signature = RSAkey.sign(message)\n",
    "    \n",
    "    def verify(self):\n",
    "        return self.public_key.verify(self.message, self.signature)"
   ]
  },
  {
   "cell_type": "markdown",
   "metadata": {},
   "source": [
    "Clase rsa_key"
   ]
  },
  {
   "cell_type": "code",
   "execution_count": 14,
   "metadata": {},
   "outputs": [],
   "source": [
    "class rsa_key:\n",
    "    def check_congruent(self,a,c,m,debug=True):\n",
    "        if (a % m) != (c % m):\n",
    "            print(\"Congruent check not passed.\")\n",
    "            exit(1)\n",
    "        else:\n",
    "            if debug:\n",
    "                print(\"Congruent check passed.\")\n",
    "            return True\n",
    "\n",
    "    def __init__(self, bits_modulo=2048, e=2**16+1):\n",
    "        self.primeP, self.primeQ =  self.getPrimes(e, bits_modulo)\n",
    "        self.phi = (self.primeP-1)*(self.primeQ-1)\n",
    "        self.publicExponent = e\n",
    "        self.privateExponent = int(sympy.mod_inverse(e,self.phi))\n",
    "        self.modulus = self.primeP*self.primeQ\n",
    "        self.privateExponentModulusPhiP = int(self.privateExponent % (self.primeP-1))\n",
    "        self.privateExponentModulusPhiQ = int(self.privateExponent % (self.primeQ-1))\n",
    "        self.inverseQModulusP = int(sympy.mod_inverse(self.primeQ, self.primeP))\n",
    "\n",
    "        self.check_congruent(self.privateExponent * self.publicExponent, 1, self.phi,debug=False)\n",
    "        self.check_congruent(self.privateExponentModulusPhiP, self.privateExponent, self.primeP-1,debug=False)\n",
    "        self.check_congruent(self.privateExponentModulusPhiQ, self.privateExponent, self.primeQ-1,debug=False)\n",
    "        self.check_congruent(self.inverseQModulusP * self.primeQ, 1, self.primeP,debug=False)\n",
    "    \n",
    "    def sign(self, message):\n",
    "        a = pow(message, self.privateExponentModulusPhiP, self.primeP)\n",
    "        b = pow(message, self.privateExponentModulusPhiQ, self.primeQ)\n",
    "        qq = self.inverseQModulusP * self.primeQ\n",
    "        pp = 1 - qq\n",
    "        return pp*b + qq*a\n",
    "    \n",
    "    def sign_slow(self, message):\n",
    "        return pow(message, self.privateExponent, self.modulus)\n",
    "    \n",
    "    def verify(self, message, signature):\n",
    "        return pow(signature,self.publicExponent,self.modulus) == message\n",
    "\n",
    "\n",
    "    def getPrimes(self,e, bits_modulo):\n",
    "        while True:\n",
    "            p = random.getrandbits(bits_modulo)\n",
    "            while not sympy.isprime(p):\n",
    "                p = random.getrandbits(bits_modulo)\n",
    "            q = random.getrandbits(bits_modulo)\n",
    "            while not sympy.isprime(q) or p == q:\n",
    "                q = random.getrandbits(bits_modulo)\n",
    "            if  math.gcd(e,p*q) == 1 and e < (p-1)*(q-1):\n",
    "                return int(p), int(q)\n"
   ]
  },
  {
   "cell_type": "markdown",
   "metadata": {},
   "source": [
    "### Taules comparatives entre firma amb TCR i sense TCR"
   ]
  },
  {
   "cell_type": "markdown",
   "metadata": {},
   "source": [
    "Per poder comparar els dos metodes implementats per firmar, firmarem 100 missatges amb els dos metodes per rsa de 512, 1024, 2048 i 4096 bits"
   ]
  },
  {
   "cell_type": "code",
   "execution_count": 17,
   "metadata": {},
   "outputs": [],
   "source": [
    "meanTimes = {}\n",
    "meanSlowTimes = {}"
   ]
  },
  {
   "cell_type": "code",
   "execution_count": 27,
   "metadata": {},
   "outputs": [
    {
     "name": "stdout",
     "output_type": "stream",
     "text": [
      "512\n",
      "1024\n",
      "2048\n",
      "4096\n"
     ]
    }
   ],
   "source": [
    "## DISCLAIMER: Ejecutar el siguiente código puede tardar mucho tiempo. (12 mins aprox)\n",
    "for bits in [512, 1024, 2048, 4096]:\n",
    "    print(bits)\n",
    "    a = rsa_key(bits_modulo=bits)\n",
    "    times = []\n",
    "    slow_times = []\n",
    "    for i in range(100):\n",
    "        m = random.randint(0, 1000)\n",
    "\n",
    "        start = time.time()\n",
    "        a.sign(m)\n",
    "        end = time.time()\n",
    "\n",
    "        start_slow = time.time()\n",
    "        a.sign_slow(m)\n",
    "        end_slow = time.time()\n",
    "\n",
    "        times.append(end-start)\n",
    "        slow_times.append(end_slow-start_slow)\n",
    "\n",
    "    meanTimes[bits] = sum(times)/len(times)\n",
    "    meanSlowTimes[bits] = sum(slow_times)/len(slow_times)"
   ]
  },
  {
   "cell_type": "code",
   "execution_count": null,
   "metadata": {},
   "outputs": [],
   "source": [
    "print(meanTimes)\n",
    "print(meanSlowTimes)"
   ]
  },
  {
   "cell_type": "code",
   "execution_count": 8,
   "metadata": {},
   "outputs": [],
   "source": [
    "#valores obtenidos HardCodeados\n",
    "meanTimes = {512: 0.0023760008811950684, 1024: 0.01295459270477295, 2048: 0.08876752376556396, 4096: 0.6792355799674987}\n",
    "meanSlowTimes = {512: 0.007959756851196289, 1024: 0.0431899094581604, 2048: 0.4139524507522583, 4096: 3.043053641319275}"
   ]
  },
  {
   "cell_type": "markdown",
   "metadata": {},
   "source": [
    "Mostrem una grafica i taula comparativa"
   ]
  },
  {
   "cell_type": "code",
   "execution_count": 18,
   "metadata": {},
   "outputs": [
    {
     "data": {
      "text/plain": [
       "<function matplotlib.pyplot.show(close=None, block=None)>"
      ]
     },
     "execution_count": 18,
     "metadata": {},
     "output_type": "execute_result"
    },
    {
     "data": {
      "image/png": "[encoded data removed]",
      "text/plain": [
       "<Figure size 1000x1000 with 2 Axes>"
      ]
     },
     "metadata": {},
     "output_type": "display_data"
    }
   ],
   "source": [
    "import matplotlib.pyplot as plt\n",
    "bits = [512, 1024, 2048, 4096]\n",
    "fig, axs =plt.subplots(2,1,figsize=(10, 10))\n",
    "y1 = meanTimes.values()\n",
    "axs[0].plot(bits, y1, label = \"TCR\")\n",
    "\n",
    "x2 = bits\n",
    "y2 = meanSlowTimes.values()\n",
    "axs[0].plot(bits, y2, label = \"normal exponentiation\")\n",
    "axs[0].legend(loc=\"upper left\")\n",
    "\n",
    "axs[1].axis('off')\n",
    "axs[1].table(cellText= [list(meanTimes.values()), list(meanSlowTimes.values())], rowLabels=['TCR', 'normal'], colLabels=[512,1024,2048,4096], loc='center')\n",
    "\n",
    "plt.show"
   ]
  },
  {
   "cell_type": "markdown",
   "metadata": {},
   "source": [
    "Com podem veure, el teorema chines de residuu es clarament millor que la exponenciació modular, això es gracies a que el TCR realitza operacions amb nombres molt mes petits. Metre que la exponenciacio modular normal, realitza una exponenciacio modular amb el modul (de 2048 bits), el TCR realitza 2 exponenciacions modulars amb nombre de l'ordre de 1024 bits. Tot i fer mes operacions, al ser aquestes entre nombres mes petits fa que siguin més rapides.\n",
    "\n",
    "Aquesta diferencia s'accentua com mes gran son els nombres, ja que el TCR es veu mes beneficiat."
   ]
  },
  {
   "cell_type": "markdown",
   "metadata": {},
   "source": [
    "Generamos dos cadenas de 100 bloques. La primera sera valida y la segunda solo sera valida hasta el bloque 42."
   ]
  },
  {
   "cell_type": "code",
   "execution_count": 17,
   "metadata": {},
   "outputs": [
    {
     "name": "stdout",
     "output_type": "stream",
     "text": [
      "done\n"
     ]
    }
   ],
   "source": [
    "a = rsa_key()\n",
    "t = transaction(150, a)\n",
    "\n",
    "print('done')\n",
    "bc = block_chain(t)\n",
    "for i in range(100):\n",
    "    bc.add_block(transaction(i, a))\n",
    "\n",
    "with open('validChain.pickle', 'wb') as file:\n",
    "    pickle.dump(bc, file)\n",
    "\n",
    "bc = block_chain(t)\n",
    "for i in range(100):\n",
    "    if i < 42:\n",
    "        bc.add_block(transaction(i,a))\n",
    "    else:\n",
    "        bc.list_of_blocks.append(block())\n",
    "\n",
    "with open('invalidChain.pickle', 'wb') as file:\n",
    "    pickle.dump(bc, file)"
   ]
  }
 ],
 "metadata": {
  "kernelspec": {
   "display_name": "Python 3.10.8 64-bit",
   "language": "python",
   "name": "python3"
  },
  "language_info": {
   "codemirror_mode": {
    "name": "ipython",
    "version": 3
   },
   "file_extension": ".py",
   "mimetype": "text/x-python",
   "name": "python",
   "nbconvert_exporter": "python",
   "pygments_lexer": "ipython3",
   "version": "3.10.8"
  },
  "orig_nbformat": 4,
  "vscode": {
   "interpreter": {
    "hash": "b0fa6594d8f4cbf19f97940f81e996739fb7646882a419484c72d19e05852a7e"
   }
  }
 },
 "nbformat": 4,
 "nbformat_minor": 2
}
